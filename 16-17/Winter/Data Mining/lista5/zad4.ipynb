{
 "cells": [
  {
   "cell_type": "code",
   "execution_count": 77,
   "metadata": {
    "collapsed": false
   },
   "outputs": [
    {
     "name": "stdout",
     "output_type": "stream",
     "text": [
      "(8124, 23)\n"
     ]
    },
    {
     "data": {
      "text/html": [
       "<div>\n",
       "<table border=\"1\" class=\"dataframe\">\n",
       "  <thead>\n",
       "    <tr style=\"text-align: right;\">\n",
       "      <th></th>\n",
       "      <th>type</th>\n",
       "      <th>cap_shape</th>\n",
       "      <th>cap_surface</th>\n",
       "      <th>cap_color</th>\n",
       "      <th>bruises</th>\n",
       "      <th>odor</th>\n",
       "      <th>gill_attachment</th>\n",
       "      <th>gill_spacing</th>\n",
       "      <th>gill_size</th>\n",
       "      <th>gill_color</th>\n",
       "      <th>...</th>\n",
       "      <th>stalk_surface_below_ring</th>\n",
       "      <th>stalk_color_above_ring</th>\n",
       "      <th>stalk_color_below_ring</th>\n",
       "      <th>veil_type</th>\n",
       "      <th>veil_color</th>\n",
       "      <th>ring_number</th>\n",
       "      <th>ring_type</th>\n",
       "      <th>spore_print_color</th>\n",
       "      <th>population</th>\n",
       "      <th>habitat</th>\n",
       "    </tr>\n",
       "  </thead>\n",
       "  <tbody>\n",
       "    <tr>\n",
       "      <th>0</th>\n",
       "      <td>p</td>\n",
       "      <td>x</td>\n",
       "      <td>s</td>\n",
       "      <td>n</td>\n",
       "      <td>t</td>\n",
       "      <td>p</td>\n",
       "      <td>f</td>\n",
       "      <td>c</td>\n",
       "      <td>n</td>\n",
       "      <td>k</td>\n",
       "      <td>...</td>\n",
       "      <td>s</td>\n",
       "      <td>w</td>\n",
       "      <td>w</td>\n",
       "      <td>p</td>\n",
       "      <td>w</td>\n",
       "      <td>o</td>\n",
       "      <td>p</td>\n",
       "      <td>k</td>\n",
       "      <td>s</td>\n",
       "      <td>u</td>\n",
       "    </tr>\n",
       "    <tr>\n",
       "      <th>1</th>\n",
       "      <td>e</td>\n",
       "      <td>x</td>\n",
       "      <td>s</td>\n",
       "      <td>y</td>\n",
       "      <td>t</td>\n",
       "      <td>a</td>\n",
       "      <td>f</td>\n",
       "      <td>c</td>\n",
       "      <td>b</td>\n",
       "      <td>k</td>\n",
       "      <td>...</td>\n",
       "      <td>s</td>\n",
       "      <td>w</td>\n",
       "      <td>w</td>\n",
       "      <td>p</td>\n",
       "      <td>w</td>\n",
       "      <td>o</td>\n",
       "      <td>p</td>\n",
       "      <td>n</td>\n",
       "      <td>n</td>\n",
       "      <td>g</td>\n",
       "    </tr>\n",
       "    <tr>\n",
       "      <th>2</th>\n",
       "      <td>e</td>\n",
       "      <td>b</td>\n",
       "      <td>s</td>\n",
       "      <td>w</td>\n",
       "      <td>t</td>\n",
       "      <td>l</td>\n",
       "      <td>f</td>\n",
       "      <td>c</td>\n",
       "      <td>b</td>\n",
       "      <td>n</td>\n",
       "      <td>...</td>\n",
       "      <td>s</td>\n",
       "      <td>w</td>\n",
       "      <td>w</td>\n",
       "      <td>p</td>\n",
       "      <td>w</td>\n",
       "      <td>o</td>\n",
       "      <td>p</td>\n",
       "      <td>n</td>\n",
       "      <td>n</td>\n",
       "      <td>m</td>\n",
       "    </tr>\n",
       "    <tr>\n",
       "      <th>3</th>\n",
       "      <td>p</td>\n",
       "      <td>x</td>\n",
       "      <td>y</td>\n",
       "      <td>w</td>\n",
       "      <td>t</td>\n",
       "      <td>p</td>\n",
       "      <td>f</td>\n",
       "      <td>c</td>\n",
       "      <td>n</td>\n",
       "      <td>n</td>\n",
       "      <td>...</td>\n",
       "      <td>s</td>\n",
       "      <td>w</td>\n",
       "      <td>w</td>\n",
       "      <td>p</td>\n",
       "      <td>w</td>\n",
       "      <td>o</td>\n",
       "      <td>p</td>\n",
       "      <td>k</td>\n",
       "      <td>s</td>\n",
       "      <td>u</td>\n",
       "    </tr>\n",
       "    <tr>\n",
       "      <th>4</th>\n",
       "      <td>e</td>\n",
       "      <td>x</td>\n",
       "      <td>s</td>\n",
       "      <td>g</td>\n",
       "      <td>f</td>\n",
       "      <td>n</td>\n",
       "      <td>f</td>\n",
       "      <td>w</td>\n",
       "      <td>b</td>\n",
       "      <td>k</td>\n",
       "      <td>...</td>\n",
       "      <td>s</td>\n",
       "      <td>w</td>\n",
       "      <td>w</td>\n",
       "      <td>p</td>\n",
       "      <td>w</td>\n",
       "      <td>o</td>\n",
       "      <td>e</td>\n",
       "      <td>n</td>\n",
       "      <td>a</td>\n",
       "      <td>g</td>\n",
       "    </tr>\n",
       "  </tbody>\n",
       "</table>\n",
       "<p>5 rows × 23 columns</p>\n",
       "</div>"
      ],
      "text/plain": [
       "  type cap_shape cap_surface cap_color bruises odor gill_attachment  \\\n",
       "0    p         x           s         n       t    p               f   \n",
       "1    e         x           s         y       t    a               f   \n",
       "2    e         b           s         w       t    l               f   \n",
       "3    p         x           y         w       t    p               f   \n",
       "4    e         x           s         g       f    n               f   \n",
       "\n",
       "  gill_spacing gill_size gill_color   ...   stalk_surface_below_ring  \\\n",
       "0            c         n          k   ...                          s   \n",
       "1            c         b          k   ...                          s   \n",
       "2            c         b          n   ...                          s   \n",
       "3            c         n          n   ...                          s   \n",
       "4            w         b          k   ...                          s   \n",
       "\n",
       "  stalk_color_above_ring stalk_color_below_ring veil_type veil_color  \\\n",
       "0                      w                      w         p          w   \n",
       "1                      w                      w         p          w   \n",
       "2                      w                      w         p          w   \n",
       "3                      w                      w         p          w   \n",
       "4                      w                      w         p          w   \n",
       "\n",
       "  ring_number ring_type spore_print_color population habitat  \n",
       "0           o         p                 k          s       u  \n",
       "1           o         p                 n          n       g  \n",
       "2           o         p                 n          n       m  \n",
       "3           o         p                 k          s       u  \n",
       "4           o         e                 n          a       g  \n",
       "\n",
       "[5 rows x 23 columns]"
      ]
     },
     "execution_count": 77,
     "metadata": {},
     "output_type": "execute_result"
    }
   ],
   "source": [
    "% matplotlib inline\n",
    "\n",
    "import numpy as np\n",
    "import matplotlib.pyplot as plt\n",
    "import pandas as pd\n",
    "\n",
    "from sklearn import tree\n",
    "from sklearn import ensemble\n",
    "from sklearn import datasets, linear_model\n",
    "from sklearn import cross_validation, svm\n",
    "from sklearn.metrics import confusion_matrix\n",
    "mushroom = pd.read_csv(\"mushrooms.csv\")\n",
    "print mushroom.shape\n",
    "mushroom.head()"
   ]
  },
  {
   "cell_type": "code",
   "execution_count": 78,
   "metadata": {
    "collapsed": false
   },
   "outputs": [
    {
     "name": "stdout",
     "output_type": "stream",
     "text": [
      "(8124, 23)\n"
     ]
    },
    {
     "data": {
      "text/html": [
       "<div>\n",
       "<table border=\"1\" class=\"dataframe\">\n",
       "  <thead>\n",
       "    <tr style=\"text-align: right;\">\n",
       "      <th></th>\n",
       "      <th>type</th>\n",
       "      <th>cap_shape</th>\n",
       "      <th>cap_surface</th>\n",
       "      <th>cap_color</th>\n",
       "      <th>bruises</th>\n",
       "      <th>odor</th>\n",
       "      <th>gill_attachment</th>\n",
       "      <th>gill_spacing</th>\n",
       "      <th>gill_size</th>\n",
       "      <th>gill_color</th>\n",
       "      <th>...</th>\n",
       "      <th>stalk_surface_below_ring</th>\n",
       "      <th>stalk_color_above_ring</th>\n",
       "      <th>stalk_color_below_ring</th>\n",
       "      <th>veil_type</th>\n",
       "      <th>veil_color</th>\n",
       "      <th>ring_number</th>\n",
       "      <th>ring_type</th>\n",
       "      <th>spore_print_color</th>\n",
       "      <th>population</th>\n",
       "      <th>habitat</th>\n",
       "    </tr>\n",
       "  </thead>\n",
       "  <tbody>\n",
       "    <tr>\n",
       "      <th>0</th>\n",
       "      <td>1</td>\n",
       "      <td>5</td>\n",
       "      <td>2</td>\n",
       "      <td>4</td>\n",
       "      <td>1</td>\n",
       "      <td>6</td>\n",
       "      <td>1</td>\n",
       "      <td>0</td>\n",
       "      <td>1</td>\n",
       "      <td>4</td>\n",
       "      <td>...</td>\n",
       "      <td>2</td>\n",
       "      <td>7</td>\n",
       "      <td>7</td>\n",
       "      <td>0</td>\n",
       "      <td>2</td>\n",
       "      <td>1</td>\n",
       "      <td>4</td>\n",
       "      <td>2</td>\n",
       "      <td>3</td>\n",
       "      <td>5</td>\n",
       "    </tr>\n",
       "    <tr>\n",
       "      <th>1</th>\n",
       "      <td>0</td>\n",
       "      <td>5</td>\n",
       "      <td>2</td>\n",
       "      <td>9</td>\n",
       "      <td>1</td>\n",
       "      <td>0</td>\n",
       "      <td>1</td>\n",
       "      <td>0</td>\n",
       "      <td>0</td>\n",
       "      <td>4</td>\n",
       "      <td>...</td>\n",
       "      <td>2</td>\n",
       "      <td>7</td>\n",
       "      <td>7</td>\n",
       "      <td>0</td>\n",
       "      <td>2</td>\n",
       "      <td>1</td>\n",
       "      <td>4</td>\n",
       "      <td>3</td>\n",
       "      <td>2</td>\n",
       "      <td>1</td>\n",
       "    </tr>\n",
       "    <tr>\n",
       "      <th>2</th>\n",
       "      <td>0</td>\n",
       "      <td>0</td>\n",
       "      <td>2</td>\n",
       "      <td>8</td>\n",
       "      <td>1</td>\n",
       "      <td>3</td>\n",
       "      <td>1</td>\n",
       "      <td>0</td>\n",
       "      <td>0</td>\n",
       "      <td>5</td>\n",
       "      <td>...</td>\n",
       "      <td>2</td>\n",
       "      <td>7</td>\n",
       "      <td>7</td>\n",
       "      <td>0</td>\n",
       "      <td>2</td>\n",
       "      <td>1</td>\n",
       "      <td>4</td>\n",
       "      <td>3</td>\n",
       "      <td>2</td>\n",
       "      <td>3</td>\n",
       "    </tr>\n",
       "    <tr>\n",
       "      <th>3</th>\n",
       "      <td>1</td>\n",
       "      <td>5</td>\n",
       "      <td>3</td>\n",
       "      <td>8</td>\n",
       "      <td>1</td>\n",
       "      <td>6</td>\n",
       "      <td>1</td>\n",
       "      <td>0</td>\n",
       "      <td>1</td>\n",
       "      <td>5</td>\n",
       "      <td>...</td>\n",
       "      <td>2</td>\n",
       "      <td>7</td>\n",
       "      <td>7</td>\n",
       "      <td>0</td>\n",
       "      <td>2</td>\n",
       "      <td>1</td>\n",
       "      <td>4</td>\n",
       "      <td>2</td>\n",
       "      <td>3</td>\n",
       "      <td>5</td>\n",
       "    </tr>\n",
       "    <tr>\n",
       "      <th>4</th>\n",
       "      <td>0</td>\n",
       "      <td>5</td>\n",
       "      <td>2</td>\n",
       "      <td>3</td>\n",
       "      <td>0</td>\n",
       "      <td>5</td>\n",
       "      <td>1</td>\n",
       "      <td>1</td>\n",
       "      <td>0</td>\n",
       "      <td>4</td>\n",
       "      <td>...</td>\n",
       "      <td>2</td>\n",
       "      <td>7</td>\n",
       "      <td>7</td>\n",
       "      <td>0</td>\n",
       "      <td>2</td>\n",
       "      <td>1</td>\n",
       "      <td>0</td>\n",
       "      <td>3</td>\n",
       "      <td>0</td>\n",
       "      <td>1</td>\n",
       "    </tr>\n",
       "  </tbody>\n",
       "</table>\n",
       "<p>5 rows × 23 columns</p>\n",
       "</div>"
      ],
      "text/plain": [
       "   type  cap_shape  cap_surface  cap_color  bruises  odor  gill_attachment  \\\n",
       "0     1          5            2          4        1     6                1   \n",
       "1     0          5            2          9        1     0                1   \n",
       "2     0          0            2          8        1     3                1   \n",
       "3     1          5            3          8        1     6                1   \n",
       "4     0          5            2          3        0     5                1   \n",
       "\n",
       "   gill_spacing  gill_size  gill_color   ...     stalk_surface_below_ring  \\\n",
       "0             0          1           4   ...                            2   \n",
       "1             0          0           4   ...                            2   \n",
       "2             0          0           5   ...                            2   \n",
       "3             0          1           5   ...                            2   \n",
       "4             1          0           4   ...                            2   \n",
       "\n",
       "   stalk_color_above_ring  stalk_color_below_ring  veil_type  veil_color  \\\n",
       "0                       7                       7          0           2   \n",
       "1                       7                       7          0           2   \n",
       "2                       7                       7          0           2   \n",
       "3                       7                       7          0           2   \n",
       "4                       7                       7          0           2   \n",
       "\n",
       "   ring_number  ring_type  spore_print_color  population  habitat  \n",
       "0            1          4                  2           3        5  \n",
       "1            1          4                  3           2        1  \n",
       "2            1          4                  3           2        3  \n",
       "3            1          4                  2           3        5  \n",
       "4            1          0                  3           0        1  \n",
       "\n",
       "[5 rows x 23 columns]"
      ]
     },
     "execution_count": 78,
     "metadata": {},
     "output_type": "execute_result"
    }
   ],
   "source": [
    "mushroom = mushroom.dropna()\n",
    "\n",
    "for column in mushroom.columns:\n",
    "    mushroom[column] = pd.Categorical.from_array(mushroom[column]).codes\n",
    "mushroom.head()"
   ]
  },
  {
   "cell_type": "code",
   "execution_count": 79,
   "metadata": {
    "collapsed": false
   },
   "outputs": [
    {
     "data": {
      "text/plain": [
       "0.95076317085179718"
      ]
     },
     "execution_count": 79,
     "metadata": {},
     "output_type": "execute_result"
    }
   ],
   "source": [
    "y = mushroom['type']\n",
    "X = mushroom.drop('type',axis = 1)\n",
    "t = tree.DecisionTreeClassifier(max_depth=3,min_samples_leaf=50,min_samples_split=100)\n",
    "t = t.fit(X, y)\n",
    "t.score(X,y)"
   ]
  },
  {
   "cell_type": "code",
   "execution_count": 4,
   "metadata": {
    "collapsed": true
   },
   "outputs": [],
   "source": [
    "with open(\"mushroom.dot\", \"w\") as f:\n",
    "    tree.export_graphviz(t, out_file=f, feature_names=X.columns)"
   ]
  },
  {
   "cell_type": "code",
   "execution_count": 5,
   "metadata": {
    "collapsed": false
   },
   "outputs": [
    {
     "name": "stdout",
     "output_type": "stream",
     "text": [
      "0.851054907208\n"
     ]
    }
   ],
   "source": [
    "t = tree.DecisionTreeClassifier(max_depth=3,min_samples_leaf=50,min_samples_split=100)\n",
    "scores = cross_validation.cross_val_score(t, X, y, cv=5)\n",
    "print scores.mean()"
   ]
  },
  {
   "cell_type": "code",
   "execution_count": 11,
   "metadata": {
    "collapsed": false
   },
   "outputs": [
    {
     "name": "stdout",
     "output_type": "stream",
     "text": [
      "0.918388229635\n"
     ]
    }
   ],
   "source": [
    "t = ensemble.RandomForestClassifier(n_estimators=15, max_features=4)\n",
    "scores = cross_validation.cross_val_score(t, X, y, cv=5)\n",
    "print scores.mean()"
   ]
  },
  {
   "cell_type": "code",
   "execution_count": 44,
   "metadata": {
    "collapsed": false
   },
   "outputs": [
    {
     "name": "stdout",
     "output_type": "stream",
     "text": [
      "0.927870230766\n"
     ]
    }
   ],
   "source": [
    "t = ensemble.ExtraTreesClassifier(n_estimators=10, max_features=5)\n",
    "scores = cross_validation.cross_val_score(t, X, y, cv=5)\n",
    "print scores.mean()"
   ]
  },
  {
   "cell_type": "code",
   "execution_count": 29,
   "metadata": {
    "collapsed": false
   },
   "outputs": [
    {
     "name": "stdout",
     "output_type": "stream",
     "text": [
      "0.948197929907\n"
     ]
    }
   ],
   "source": [
    "t = tree.DecisionTreeClassifier(max_depth=5)\n",
    "scores = cross_validation.cross_val_score(t, X, y, cv=5)\n",
    "print scores.mean()"
   ]
  },
  {
   "cell_type": "code",
   "execution_count": 30,
   "metadata": {
    "collapsed": false
   },
   "outputs": [
    {
     "name": "stdout",
     "output_type": "stream",
     "text": [
      "[ 0.          0.00394404  0.00297183  0.02857189  0.0364991   0.          0.\n",
      "  0.11606231  0.34147301  0.02518618  0.01162386  0.          0.00194573\n",
      "  0.00369754  0.01707143  0.          0.          0.00131766  0.00473285\n",
      "  0.20243024  0.17677754  0.0256948 ]\n",
      "[ 0.          0.          0.00297183  0.02857189  0.0364991   0.          0.\n",
      "  0.13130868  0.34147301  0.02518618  0.01162386  0.          0.00194573\n",
      "  0.          0.02076897  0.          0.          0.00131766  0.\n",
      "  0.20716309  0.17677754  0.01439247]\n",
      "[ 0.          0.          0.00297183  0.03251593  0.          0.          0.\n",
      "  0.11606231  0.34147301  0.02518618  0.04812296  0.00369754  0.00194573\n",
      "  0.01707143  0.          0.          0.          0.00131766  0.00473285\n",
      "  0.20243024  0.17677754  0.0256948 ]\n",
      "[ 0.          0.          0.00297183  0.02857189  0.04044314  0.          0.\n",
      "  0.11606231  0.34147301  0.02518618  0.01162386  0.          0.00194573\n",
      "  0.          0.01707143  0.          0.00369754  0.00131766  0.00473285\n",
      "  0.20243024  0.17677754  0.0256948 ]\n",
      "[ 0.          0.          0.00297183  0.03251593  0.          0.          0.\n",
      "  0.12736464  0.34147301  0.02518618  0.04812296  0.          0.00194573\n",
      "  0.          0.          0.          0.          0.01838909  0.\n",
      "  0.20716309  0.18047508  0.01439247]\n",
      "[ 0.          0.          0.00297183  0.02857189  0.          0.          0.\n",
      "  0.12736464  0.34147301  0.02518618  0.052067    0.          0.00194573\n",
      "  0.01707143  0.          0.          0.00369754  0.00131766  0.\n",
      "  0.20716309  0.17677754  0.01439247]\n",
      "[ 0.          0.          0.00297183  0.02857189  0.0364991   0.          0.\n",
      "  0.12736464  0.34147301  0.02518618  0.0155679   0.          0.00194573\n",
      "  0.          0.          0.          0.00369754  0.01838909  0.\n",
      "  0.20716309  0.17677754  0.01439247]\n",
      "[ 0.          0.          0.00666937  0.02857189  0.          0.          0.\n",
      "  0.12736464  0.34147301  0.02518618  0.05285581  0.          0.00194573\n",
      "  0.          0.01707143  0.          0.          0.00131766  0.\n",
      "  0.20243024  0.17677754  0.01833651]\n",
      "[ 0.          0.00394404  0.00297183  0.02857189  0.          0.          0.\n",
      "  0.11606231  0.34147301  0.02518618  0.04812296  0.          0.00564327\n",
      "  0.01707143  0.          0.          0.          0.00131766  0.\n",
      "  0.20243024  0.18151039  0.0256948 ]\n",
      "[ 0.          0.          0.00297183  0.02857189  0.0364991   0.          0.\n",
      "  0.12000635  0.34147301  0.02518618  0.01162386  0.          0.00564327\n",
      "  0.01707143  0.          0.          0.          0.00131766  0.\n",
      "  0.20243024  0.17677754  0.03042765]\n",
      "[ 0.          0.          0.00297183  0.03251593  0.          0.          0.\n",
      "  0.12736464  0.34147301  0.02518618  0.05285581  0.          0.00194573\n",
      "  0.          0.02076897  0.          0.          0.00131766  0.\n",
      "  0.20243024  0.17677754  0.01439247]\n",
      "[ 0.          0.          0.00666937  0.02857189  0.          0.          0.\n",
      "  0.12736464  0.34147301  0.02518618  0.05285581  0.          0.00194573\n",
      "  0.          0.01707143  0.          0.          0.00131766  0.00394404\n",
      "  0.20243024  0.17677754  0.01439247]\n",
      "[ 0.          0.          0.00297183  0.03251593  0.0364991   0.          0.\n",
      "  0.11606231  0.34147301  0.02518618  0.01162386  0.          0.00194573\n",
      "  0.          0.00369754  0.          0.          0.01838909  0.\n",
      "  0.20243024  0.17677754  0.03042765]\n",
      "[ 0.          0.          0.00666937  0.02857189  0.0364991   0.          0.\n",
      "  0.11606231  0.34147301  0.02518618  0.0155679   0.          0.00194573\n",
      "  0.          0.          0.          0.          0.01838909  0.\n",
      "  0.20243024  0.18151039  0.0256948 ]\n",
      "[ 0.          0.          0.00297183  0.02857189  0.04044314  0.          0.\n",
      "  0.12736464  0.34147301  0.02518618  0.01162386  0.00369754  0.00194573\n",
      "  0.          0.01707143  0.          0.          0.00131766  0.00473285\n",
      "  0.20243024  0.17677754  0.01439247]\n",
      "[ 0.          0.          0.00297183  0.02857189  0.          0.          0.\n",
      "  0.11606231  0.34147301  0.02913022  0.04812296  0.          0.00194573\n",
      "  0.01707143  0.00369754  0.          0.          0.00131766  0.\n",
      "  0.20716309  0.17677754  0.0256948 ]\n",
      "[ 0.          0.          0.00297183  0.02857189  0.          0.          0.\n",
      "  0.12736464  0.34147301  0.02518618  0.04812296  0.00369754  0.00194573\n",
      "  0.01707143  0.          0.          0.          0.00131766  0.\n",
      "  0.20716309  0.17677754  0.01833651]\n",
      "[ 0.          0.          0.00297183  0.03251593  0.0364991   0.          0.\n",
      "  0.11606231  0.34147301  0.02518618  0.01162386  0.          0.00564327\n",
      "  0.          0.01707143  0.          0.          0.00131766  0.\n",
      "  0.20716309  0.17677754  0.0256948 ]\n",
      "[ 0.          0.          0.00297183  0.02857189  0.0364991   0.          0.\n",
      "  0.11606231  0.34147301  0.02518618  0.01162386  0.          0.00564327\n",
      "  0.01707143  0.          0.          0.          0.00131766  0.\n",
      "  0.20243024  0.17677754  0.03437169]\n",
      "[ 0.          0.          0.00297183  0.02857189  0.          0.          0.\n",
      "  0.11606231  0.34147301  0.02518618  0.04812296  0.          0.00194573\n",
      "  0.          0.01707143  0.          0.00369754  0.00131766  0.00473285\n",
      "  0.20243024  0.17677754  0.02963884]\n",
      "[ 0.          0.          0.00297183  0.02857189  0.0364991   0.          0.\n",
      "  0.13130868  0.34147301  0.02518618  0.01162386  0.          0.00194573\n",
      "  0.01707143  0.          0.          0.          0.00131766  0.00473285\n",
      "  0.20243024  0.18047508  0.01439247]\n",
      "[ 0.          0.          0.00666937  0.02857189  0.          0.          0.\n",
      "  0.12736464  0.34147301  0.02913022  0.04812296  0.          0.00194573\n",
      "  0.          0.01707143  0.          0.          0.00131766  0.\n",
      "  0.20243024  0.18151039  0.01439247]\n"
     ]
    }
   ],
   "source": [
    "for column in mushroom.columns:\n",
    "    if(not(column =='type')):\n",
    "        mushroom_new = mushroom.drop(column,axis = 1)\n",
    "        y = mushroom['type']\n",
    "        X = mushroom.drop('type',axis = 1)\n",
    "        t = tree.DecisionTreeClassifier()\n",
    "        t = t.fit(X, y)\n",
    "        #print column,t.score(X,y)\n",
    "        print t.feature_importances_"
   ]
  },
  {
   "cell_type": "code",
   "execution_count": 90,
   "metadata": {
    "collapsed": false
   },
   "outputs": [
    {
     "name": "stdout",
     "output_type": "stream",
     "text": [
      "[ 0.          0.          0.00297183  0.02857189  0.0364991   0.          0.\n",
      "  0.11606231  0.34147301  0.02518618  0.01162386  0.          0.00194573\n",
      "  0.          0.01707143  0.          0.          0.00131766  0.00394404\n",
      "  0.20243024  0.18520793  0.0256948   0.        ]\n"
     ]
    }
   ],
   "source": [
    "y = mushroom['type']\n",
    "X = mushroom.drop('type',axis = 1)\n",
    "t = tree.DecisionTreeClassifier()\n",
    "t = t.fit(X, y)\n",
    "#print column,t.score(X,y)\n",
    "print t.feature_importances_\n"
   ]
  },
  {
   "cell_type": "code",
   "execution_count": 91,
   "metadata": {
    "collapsed": false
   },
   "outputs": [
    {
     "name": "stdout",
     "output_type": "stream",
     "text": [
      "(23,) Index([u'cap_shape', u'cap_surface', u'cap_color', u'bruises', u'odor',\n",
      "       u'gill_attachment', u'gill_spacing', u'gill_size', u'gill_color',\n",
      "       u'stalk_shape', u'stalk_root', u'stalk_surface_above_ring',\n",
      "       u'stalk_surface_below_ring', u'stalk_color_above_ring',\n",
      "       u'stalk_color_below_ring', u'veil_type', u'veil_color', u'ring_number',\n",
      "       u'ring_type', u'spore_print_color', u'population', u'habitat',\n",
      "       u'train'],\n",
      "      dtype='object')\n"
     ]
    }
   ],
   "source": [
    "print X.columns.shape, X.columns"
   ]
  },
  {
   "cell_type": "code",
   "execution_count": 92,
   "metadata": {
    "collapsed": false
   },
   "outputs": [
    {
     "name": "stdout",
     "output_type": "stream",
     "text": [
      "0.900540559691\n",
      "[ 0.          0.          0.03941319  0.12532873  0.36873622  0.02719705\n",
      "  0.01255191  0.00210107  0.01843441  0.          0.          0.20314126\n",
      "  0.19089146  0.01220471  0.        ]\n",
      "Index([u'cap_color', u'bruises', u'odor', u'gill_size', u'gill_color',\n",
      "       u'stalk_shape', u'stalk_root', u'stalk_surface_below_ring',\n",
      "       u'stalk_color_above_ring', u'ring_number', u'ring_type',\n",
      "       u'spore_print_color', u'population', u'habitat', u'train'],\n",
      "      dtype='object')\n"
     ]
    }
   ],
   "source": [
    "y = mushroom['type']\n",
    "X = mushroom.drop('type',axis = 1)\n",
    "col = X.columns\n",
    "X = X.drop(col[0],axis = 1)\n",
    "X = X.drop(col[1],axis = 1)\n",
    "X = X.drop(col[5],axis = 1)\n",
    "X = X.drop(col[6],axis = 1)\n",
    "X = X.drop(col[11],axis = 1)\n",
    "X = X.drop(col[14],axis = 1)\n",
    "X = X.drop(col[15],axis = 1)\n",
    "X = X.drop(col[16],axis = 1)\n",
    "t = tree.DecisionTreeClassifier(max_depth=4)\n",
    "#print column,t.score(X,y)\n",
    "scores = cross_validation.cross_val_score(t, X, y, cv=5)\n",
    "print scores.mean()\n",
    "t = t.fit(X, y)\n",
    "print t.feature_importances_\n",
    "print X.columns"
   ]
  },
  {
   "cell_type": "code",
   "execution_count": 93,
   "metadata": {
    "collapsed": true
   },
   "outputs": [],
   "source": [
    "with open(\"mushroom1.dot\", \"w\") as f:\n",
    "    tree.export_graphviz(t, out_file=f, feature_names=X.columns)"
   ]
  },
  {
   "cell_type": "code",
   "execution_count": 94,
   "metadata": {
    "collapsed": false
   },
   "outputs": [
    {
     "name": "stdout",
     "output_type": "stream",
     "text": [
      "0.89586651295\n",
      "[ 0.          0.          0.12532873  0.36873622  0.02719705  0.0519651\n",
      "  0.00210107  0.01843441  0.20314126  0.19089146  0.01220471  0.        ]\n",
      "Index([u'bruises', u'odor', u'gill_size', u'gill_color', u'stalk_shape',\n",
      "       u'stalk_root', u'stalk_surface_below_ring', u'ring_number',\n",
      "       u'spore_print_color', u'population', u'habitat', u'train'],\n",
      "      dtype='object')\n"
     ]
    }
   ],
   "source": [
    "X1 = X\n",
    "col = X1.columns\n",
    "X1 = X1.drop(col[0],axis = 1)\n",
    "X1 = X1.drop(col[8],axis = 1)\n",
    "X1 = X1.drop(col[10],axis = 1)\n",
    "t = tree.DecisionTreeClassifier(max_depth=4)\n",
    "#print column,t.score(X,y)\n",
    "scores = cross_validation.cross_val_score(t, X1, y, cv=5)\n",
    "print scores.mean()\n",
    "t = t.fit(X1, y)\n",
    "print t.feature_importances_\n",
    "print X1.columns"
   ]
  },
  {
   "cell_type": "code",
   "execution_count": 95,
   "metadata": {
    "collapsed": false
   },
   "outputs": [
    {
     "name": "stdout",
     "output_type": "stream",
     "text": [
      "0.878132522802\n",
      "[ 0.03941319  0.12532873  0.36873622  0.02719705  0.01255191  0.00210107\n",
      "  0.01843441  0.20314126  0.19089146  0.01220471  0.        ]\n",
      "Index([u'odor', u'gill_size', u'gill_color', u'stalk_shape', u'stalk_root',\n",
      "       u'stalk_surface_below_ring', u'ring_number', u'spore_print_color',\n",
      "       u'population', u'habitat', u'train'],\n",
      "      dtype='object')\n"
     ]
    }
   ],
   "source": [
    "X2 = X1\n",
    "col = X2.columns\n",
    "X2 = X2.drop(col[0],axis = 1)\n",
    "t = tree.DecisionTreeClassifier(max_depth=4)\n",
    "#print column,t.score(X,y)\n",
    "scores = cross_validation.cross_val_score(t, X2, y, cv=5)\n",
    "print scores.mean()\n",
    "t = t.fit(X2, y)\n",
    "print t.feature_importances_\n",
    "print X2.columns"
   ]
  },
  {
   "cell_type": "code",
   "execution_count": 105,
   "metadata": {
    "collapsed": false,
    "scrolled": true
   },
   "outputs": [
    {
     "name": "stdout",
     "output_type": "stream",
     "text": [
      "(array([[1465,   39],\n",
      "       [  16, 1325]]), 0.98066783831282955)\n"
     ]
    }
   ],
   "source": [
    "#przed usunieciem cech\n",
    "def calculate_cnf(data,feature,cls,y = []):\n",
    "    data['train'] = np.random.uniform(0, 1, len(data))\n",
    "\n",
    "    data_train = data[data['train'] <= 0.65]\n",
    "    data_test = data[data['train'] > 0.65]\n",
    "\n",
    "    if( len(y) ==  0 ):\n",
    "        y_train = data_train[feature]\n",
    "        y_test = data_test[feature]\n",
    "        X_train = data_train.drop(feature, axis = 1)\n",
    "        X_test = data_test.drop(feature, axis = 1)\n",
    "    else:\n",
    "        y_train = y[data['train'] <= 0.65]\n",
    "        y_test = y[data['train'] > 0.65]\n",
    "        X_train = data_train\n",
    "        X_test = data_test\n",
    "\n",
    "    y_pred = cls.fit(X_train, y_train).predict(X_test)\n",
    "    cnf_matrix = confusion_matrix(y_test, y_pred)\n",
    "    return cnf_matrix, cls.score(X_test,y_test)\n",
    "\n",
    "print calculate_cnf(mushroom,'type', tree.DecisionTreeClassifier(max_depth=4))\n",
    "\n"
   ]
  },
  {
   "cell_type": "code",
   "execution_count": 106,
   "metadata": {
    "collapsed": false
   },
   "outputs": [
    {
     "name": "stdout",
     "output_type": "stream",
     "text": [
      "(array([[1396,   40],\n",
      "       [  11, 1343]]), 0.98172043010752685)\n"
     ]
    }
   ],
   "source": [
    "#po usunieciu\n",
    "print calculate_cnf(X2,'type',tree.DecisionTreeClassifier(max_depth=4),y)"
   ]
  },
  {
   "cell_type": "code",
   "execution_count": null,
   "metadata": {
    "collapsed": true
   },
   "outputs": [],
   "source": []
  }
 ],
 "metadata": {
  "anaconda-cloud": {},
  "kernelspec": {
   "display_name": "Python [default]",
   "language": "python",
   "name": "python2"
  },
  "language_info": {
   "codemirror_mode": {
    "name": "ipython",
    "version": 2
   },
   "file_extension": ".py",
   "mimetype": "text/x-python",
   "name": "python",
   "nbconvert_exporter": "python",
   "pygments_lexer": "ipython2",
   "version": "2.7.12"
  }
 },
 "nbformat": 4,
 "nbformat_minor": 1
}
