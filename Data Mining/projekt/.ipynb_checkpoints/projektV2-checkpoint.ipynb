{
 "cells": [
  {
   "cell_type": "code",
   "execution_count": 73,
   "metadata": {
    "collapsed": false
   },
   "outputs": [],
   "source": [
    "import numpy as np\n",
    "import matplotlib.pyplot as plt\n",
    "import time\n",
    "from sklearn.model_selection import train_test_split\n",
    "from sklearn.model_selection import GridSearchCV\n",
    "from sklearn.metrics import classification_report\n",
    "from sklearn.metrics import confusion_matrix\n",
    "from sklearn.svm import SVC\n",
    "from sklearn.tree import DecisionTreeClassifier\n",
    "from sklearn import tree\n",
    "from sklearn import cross_validation as cv"
   ]
  },
  {
   "cell_type": "code",
   "execution_count": 74,
   "metadata": {
    "collapsed": true
   },
   "outputs": [],
   "source": [
    "daneS = 'OrderBookSnapshots.csv';\n",
    "with open(daneS, 'r') as f:\n",
    "    dane = f.readlines()"
   ]
  },
  {
   "cell_type": "code",
   "execution_count": 75,
   "metadata": {
    "collapsed": false
   },
   "outputs": [],
   "source": [
    "# Klasa przechowująca wszystkie potrzebne dane o danym lobie,\n",
    "# tzn. ciąg bid'ów, ask'ów (kwoty i ilości), mid price i zmianę,\n",
    "# oczywiście zmiana mówi nam o tym, czy w nastepnym lobie zmienił\n",
    "# się mid price względem tego loba\n",
    "class LOB:\n",
    "    def __init__(self, wiersz):\n",
    "        self.zmiana = 0\n",
    "        self.dzien = wiersz[0]\n",
    "        self.czas = wiersz[1]\n",
    "        i = 3\n",
    "        while (wiersz[i] != 'ASK'):\n",
    "            i += 1\n",
    "        bid = wiersz[3:i]\n",
    "        ask = wiersz[(i+1):]\n",
    "        self.bid = np.zeros((int((len(bid) / 2)), 2))\n",
    "        self.ask = np.zeros((int((len(ask) / 2)), 2))\n",
    "        for i in range(0, len(bid), 2):\n",
    "            self.bid[int(i / 2)][0] = float(bid[i]) \n",
    "            self.bid[int(i / 2)][1] = float(bid[i+1])\n",
    "        for i in range(0, len(ask), 2):\n",
    "            self.ask[int(i / 2)] = [float(ask[i]), float(ask[i+1])]\n",
    "        self.midPrice = (self.bid[len(self.bid) - 1][0] + self.ask[0][0]) / 2\n",
    "    def __str__(self):\n",
    "        return \"Dzień: \" + self.dzien + \", Czas: \" + self.czas + \", midPrice: \" + str(self.midPrice)"
   ]
  },
  {
   "cell_type": "code",
   "execution_count": 76,
   "metadata": {
    "collapsed": false
   },
   "outputs": [],
   "source": [
    "# przetwarzamy dane, X3 i X4 przydadzą się poźniej\n",
    "X = []\n",
    "X3 = []\n",
    "X4 = []\n",
    "for wiersz in dane:\n",
    "    newWiersz = wiersz.split()\n",
    "    X.append(LOB(newWiersz))\n",
    "    X3.append(LOB(newWiersz))\n",
    "    X4.append(LOB(newWiersz))\n",
    "X = np.array(X)\n",
    "X3 = np.array(X3)\n",
    "X4 = np.array(X4)"
   ]
  },
  {
   "cell_type": "code",
   "execution_count": 77,
   "metadata": {
    "collapsed": false
   },
   "outputs": [
    {
     "data": {
      "text/plain": [
       "array([[   630.,  10000.],\n",
       "       [   635.,  15200.],\n",
       "       [   639.,   2500.],\n",
       "       [   640.,   8000.],\n",
       "       [   642.,   8000.],\n",
       "       [   645.,   3000.],\n",
       "       [   650.,  53800.],\n",
       "       [   660.,  20757.],\n",
       "       [   662.,  25000.],\n",
       "       [   665.,  23000.],\n",
       "       [   670.,   8000.]])"
      ]
     },
     "execution_count": 77,
     "metadata": {},
     "output_type": "execute_result"
    }
   ],
   "source": [
    "# przykład ciągu bid'ów dla danego loba\n",
    "X[0].bid"
   ]
  },
  {
   "cell_type": "code",
   "execution_count": 78,
   "metadata": {
    "collapsed": false
   },
   "outputs": [],
   "source": [
    "# ustawianie wartości zmian i tworzenie dla nich osobnego wektora\n",
    "def generujZmiane(X):\n",
    "    for i in range(len(X) - 1):\n",
    "        if (X[i].midPrice > X[i + 1].midPrice):\n",
    "            X[i].zmiana = 1\n",
    "        if (X[i].midPrice < X[i + 1].midPrice):\n",
    "            X[i].zmiana = -1\n",
    "        if (X[i].midPrice == X[i + 1].midPrice):\n",
    "            X[i].zmiana = 0\n",
    "    T = generujIndeksy(X)\n",
    "    return np.array([i.zmiana for i in X])[T]\n",
    "\n",
    "# interesują nas te loby, po którch nastąpiła zmiana mid price\n",
    "def generujIndeksy(X):\n",
    "    return np.arange(len(X))[np.array([(i.zmiana != 0) for i in X])]"
   ]
  },
  {
   "cell_type": "code",
   "execution_count": 79,
   "metadata": {
    "collapsed": false
   },
   "outputs": [],
   "source": [
    "# pierwszy sposób - imbalance to różnica najlepszego bid'a i ask'a przez ich sumę\n",
    "def generujImbalance1(X):\n",
    "    T = generujIndeksy(X)\n",
    "    i = 0\n",
    "    Imbalance1 = np.zeros((T.shape[0], 1))\n",
    "    for wiersz in X[T]:\n",
    "        bid = wiersz.bid[-1, 1]\n",
    "        ask = wiersz.ask[0, 1]\n",
    "        Imbalance1[i] = (bid - ask) / (bid + ask)\n",
    "        i += 1\n",
    "    return Imbalance1"
   ]
  },
  {
   "cell_type": "code",
   "execution_count": 80,
   "metadata": {
    "collapsed": false
   },
   "outputs": [],
   "source": [
    "zmiana = generujZmiane(X)\n",
    "Imbalance1 = generujImbalance1(X)"
   ]
  },
  {
   "cell_type": "code",
   "execution_count": 81,
   "metadata": {
    "collapsed": true
   },
   "outputs": [],
   "source": [
    "#nasza (bardziej uczciwa niż wbudowana) cross validacja\n",
    "def crossValidation(classifier, data, dataClass, k):\n",
    "    size = data.shape[0]\n",
    "    arr = np.arange(size)\n",
    "    np.random.shuffle(arr)\n",
    "    err = 0\n",
    "    n = int(size / k)\n",
    "    for i in range(k):\n",
    "        mask2 = arr[np.arange(i*n,min((i+1)*n,size))]\n",
    "        mask1 = arr[np.concatenate((np.arange(i*n),np.arange((i+1)*n,size)))]\n",
    "        classifier.fit(data[mask1], dataClass[mask1])\n",
    "        err += classifier.score(data[mask2], dataClass[mask2])\n",
    "    return float(err) / k "
   ]
  },
  {
   "cell_type": "code",
   "execution_count": 82,
   "metadata": {
    "collapsed": false
   },
   "outputs": [],
   "source": [
    "# Definicja svm i drzewa\n",
    "param_grid = {'C': [1, 1e1, 1e2, 1e3, 1e4],\n",
    "              'gamma': [0.0001, 0.001, 0.01, 0.1], \n",
    "             }\n",
    "svm = GridSearchCV(SVC(kernel='rbf', class_weight='balanced'), param_grid, n_jobs = 5)\n",
    "drzewo = tree.DecisionTreeClassifier(min_samples_leaf= 25, max_depth= 5)"
   ]
  },
  {
   "cell_type": "code",
   "execution_count": 83,
   "metadata": {
    "collapsed": true
   },
   "outputs": [],
   "source": [
    "#funkcja normalizująca dane\n",
    "def normalizuj(X):\n",
    "    X_mean = np.mean(X, axis = 0)\n",
    "    X_std = np.std(X,axis = 0)\n",
    "    X_std[X_std == 0] = 1\n",
    "    return ((X - X_mean) / X_std)"
   ]
  },
  {
   "cell_type": "code",
   "execution_count": 86,
   "metadata": {
    "collapsed": true
   },
   "outputs": [],
   "source": [
    "# funkcje testujące dany imbalance dla klasyfikatora svm i DecisionTreeClassifier\n",
    "# dla danych standardowych i znormalizowanych\n",
    "def testuj(zmiana, imbalance, clf):\n",
    "    X_train, X_test, y_train, y_test = train_test_split(imbalance, zmiana, test_size=0.20, random_state=42)\n",
    "    clf = clf.fit(X_train, y_train)\n",
    "    if isinstance(clf, GridSearchCV):\n",
    "        clf = clf.best_estimator_\n",
    "    y_pred = clf.predict(X_test)\n",
    "    print(\"score: \", clf.score(X_test, y_test))\n",
    "    print(\"Confusion matrix:\\n\", confusion_matrix(y_test, y_pred))\n",
    "    print(\"Cross-Vall score:\", crossValidation(clf, imbalance, zmiana, 5))\n",
    "    \n",
    "def wielkiTest(zmiana, imbalance):\n",
    "    print(\"Svm:\")\n",
    "    testuj(zmiana, imbalance, svm)\n",
    "    print(\"\\nDrzewo:\")\n",
    "    testuj(zmiana, imbalance, drzewo)\n",
    "    imbalance2 = normalizuj(imbalance)\n",
    "    print(\"\\nSvm dla danych znormalizowanych:\")\n",
    "    testuj(zmiana, imbalance2, svm)\n",
    "    print(\"\\nDrzewo dla danych znormalizowanych:\")\n",
    "    testuj(zmiana, imbalance2, drzewo)"
   ]
  },
  {
   "cell_type": "code",
   "execution_count": 87,
   "metadata": {
    "collapsed": false
   },
   "outputs": [
    {
     "name": "stdout",
     "output_type": "stream",
     "text": [
      "Svm:\n",
      "score:  0.544575725027\n",
      "Confusion matrix:\n",
      " [[258 194]\n",
      " [230 249]]\n",
      "Cross-Vall score: 0.5453763440860215\n",
      "\n",
      "Drzewo:\n",
      "score:  0.542427497315\n",
      "Confusion matrix:\n",
      " [[267 185]\n",
      " [241 238]]\n",
      "Cross-Vall score: 0.5391397849462365\n",
      "\n",
      "Svm dla danych znormalizowanych:\n",
      "score:  0.545649838883\n",
      "Confusion matrix:\n",
      " [[260 192]\n",
      " [231 248]]\n",
      "Cross-Vall score: 0.5470967741935484\n",
      "\n",
      "Drzewo dla danych znormalizowanych:\n",
      "score:  0.542427497315\n",
      "Confusion matrix:\n",
      " [[267 185]\n",
      " [241 238]]\n",
      "Cross-Vall score: 0.5316129032258065\n"
     ]
    }
   ],
   "source": [
    "wielkiTest(zmiana, Imbalance1)"
   ]
  },
  {
   "cell_type": "code",
   "execution_count": 88,
   "metadata": {
    "collapsed": true
   },
   "outputs": [],
   "source": [
    "# Kolejny prosty imbalance, biorący wysokości słupków z najlepszą ceną kupna i sprzedaży.\n",
    "# Midprice pozostaje be zmian.\n",
    "def generujImbalance2(X):\n",
    "    T = generujIndeksy(X)\n",
    "    i = 0\n",
    "    Imbalance2 = np.zeros((T.shape[0], 2))\n",
    "    for wiersz in X[T]:\n",
    "        bid = wiersz.bid[-1, 1]\n",
    "        ask = wiersz.ask[0, 1]\n",
    "        Imbalance2[i][0] = ask\n",
    "        Imbalance2[i][1] = bid\n",
    "        i += 1\n",
    "    return Imbalance2"
   ]
  },
  {
   "cell_type": "code",
   "execution_count": 89,
   "metadata": {
    "collapsed": false
   },
   "outputs": [
    {
     "name": "stdout",
     "output_type": "stream",
     "text": [
      "Svm:\n",
      "score:  0.482277121375\n",
      "Confusion matrix:\n",
      " [[447   5]\n",
      " [477   2]]\n",
      "Cross-Vall score: 0.4886021505376344\n",
      "\n",
      "Drzewo:\n",
      "score:  0.506981740064\n",
      "Confusion matrix:\n",
      " [[229 223]\n",
      " [236 243]]\n",
      "Cross-Vall score: 0.5150537634408602\n",
      "\n",
      "Svm dla danych znormalizowanych:\n",
      "score:  0.520945220193\n",
      "Confusion matrix:\n",
      " [[195 257]\n",
      " [189 290]]\n",
      "Cross-Vall score: 0.5365591397849462\n",
      "\n",
      "Drzewo dla danych znormalizowanych:\n",
      "score:  0.506981740064\n",
      "Confusion matrix:\n",
      " [[229 223]\n",
      " [236 243]]\n",
      "Cross-Vall score: 0.5253763440860214\n"
     ]
    }
   ],
   "source": [
    "Imbalance2 = generujImbalance2(X)\n",
    "wielkiTest(zmiana, Imbalance2)"
   ]
  },
  {
   "cell_type": "code",
   "execution_count": 90,
   "metadata": {
    "collapsed": true
   },
   "outputs": [],
   "source": [
    "# tablica przechowuje wysokości słupków w każdym ticku dla każdego loba, z tym, że dla bidów jest ujemna\n",
    "minimum = 100000\n",
    "maksimum = 0\n",
    "for wiersz in X:\n",
    "    bid = wiersz.bid[0, 0]\n",
    "    ask = wiersz.ask[-1, 0]\n",
    "    if(ask > maksimum):\n",
    "        maksimum = ask\n",
    "    if(bid < minimum):\n",
    "        minimum = bid\n",
    "liczbaWspolrzednych = int((maksimum - minimum) * 10 + 1)\n",
    "tablica = np.zeros((len(X), liczbaWspolrzednych), dtype=int)\n",
    "i = 0\n",
    "for wiersz in X:\n",
    "    for item in wiersz.bid:\n",
    "        tablica[i][int((item[0] - minimum)*10)] = int(-item[1])\n",
    "    for item in wiersz.ask:\n",
    "        tablica[i][int((item[0] - minimum)*10)] = int(item[1])\n",
    "    i += 1"
   ]
  },
  {
   "cell_type": "code",
   "execution_count": 91,
   "metadata": {
    "collapsed": false
   },
   "outputs": [
    {
     "name": "stdout",
     "output_type": "stream",
     "text": [
      "Svm:\n",
      "score:  0.485499462943\n",
      "Confusion matrix:\n",
      " [[452   0]\n",
      " [479   0]]\n",
      "Cross-Vall score: 0.5010752688172043\n",
      "\n",
      "Drzewo:\n",
      "score:  0.486573576799\n",
      "Confusion matrix:\n",
      " [[417  35]\n",
      " [443  36]]\n",
      "Cross-Vall score: 0.5\n",
      "\n",
      "Svm dla danych znormalizowanych:\n",
      "score:  0.512352309345\n",
      "Confusion matrix:\n",
      " [[232 220]\n",
      " [234 245]]\n",
      "Cross-Vall score: 0.5309677419354839\n",
      "\n",
      "Drzewo dla danych znormalizowanych:\n",
      "score:  0.486573576799\n",
      "Confusion matrix:\n",
      " [[417  35]\n",
      " [443  36]]\n",
      "Cross-Vall score: 0.4952688172043011\n"
     ]
    }
   ],
   "source": [
    "wielkiTest(zmiana, tablica[generujIndeksy(X)])"
   ]
  },
  {
   "cell_type": "code",
   "execution_count": 92,
   "metadata": {
    "collapsed": true
   },
   "outputs": [],
   "source": [
    "# dla danego loba ustawia nowy mid price w zależności od ilości akcji\n",
    "def setNewMidPrice1(lob, k):\n",
    "    bid = lob.bid\n",
    "    ask = lob.ask\n",
    "    bidAmount = 0\n",
    "    bidValue = 0\n",
    "    for i in range(bid.shape[0]):\n",
    "        if ((bidAmount + bid[-(i+1), 1]) <= k):\n",
    "            bidValue += bid[-(i+1), 1] * bid[-(i+1), 0]\n",
    "            bidAmount += bid[-(i+1), 1]\n",
    "        else:\n",
    "            bidValue += bid[-(i+1), 0] * (k - bidAmount)\n",
    "            bidAmount = k\n",
    "            break\n",
    "    askAmount = 0\n",
    "    askValue = 0\n",
    "    for i in range(ask.shape[0]):\n",
    "        if ((askAmount + ask[i, 1]) <= k):\n",
    "            askValue += ask[i, 1] * ask[i, 0]\n",
    "            askAmount += ask[i, 1]\n",
    "        else:\n",
    "            askValue += ask[i, 0] * (k - askAmount)\n",
    "            askAmount = k\n",
    "            break\n",
    "    bidPrice = bidValue / bidAmount\n",
    "    askPrice = askValue / askAmount\n",
    "    lob.midPrice = (bidPrice + askPrice) / 2\n",
    "    return (askPrice - bidPrice) / (bidPrice + askPrice)"
   ]
  },
  {
   "cell_type": "code",
   "execution_count": 93,
   "metadata": {
    "collapsed": false
   },
   "outputs": [],
   "source": [
    "# ustawiamy nowy imbalance, biorący różnicę cen sprzedaży i kupna k akcji przez ich sumę\n",
    "def generujDane3(X, k):\n",
    "    Imbalance3 = np.zeros((len(X), 1))\n",
    "    i = 0\n",
    "    for wiersz in X:\n",
    "        Imbalance3[i] = setNewMidPrice1(wiersz, k)\n",
    "        i += 1\n",
    "    zmiana3 = generujZmiane(X)\n",
    "    Imbalance3 = Imbalance3[generujIndeksy(X)]\n",
    "    return (zmiana3, Imbalance3)"
   ]
  },
  {
   "cell_type": "code",
   "execution_count": 94,
   "metadata": {
    "collapsed": false
   },
   "outputs": [
    {
     "name": "stdout",
     "output_type": "stream",
     "text": [
      "Svm:\n",
      "score:  0.513384321224\n",
      "Confusion matrix:\n",
      " [[528   3]\n",
      " [506   9]]\n",
      "Cross-Vall score: 0.5052631578947369\n",
      "\n",
      "Drzewo:\n",
      "score:  0.503824091778\n",
      "Confusion matrix:\n",
      " [[275 256]\n",
      " [263 252]]\n",
      "Cross-Vall score: 0.4943540669856459\n",
      "\n",
      "Svm dla danych znormalizowanych:\n",
      "score:  0.48948374761\n",
      "Confusion matrix:\n",
      " [[  0 531]\n",
      " [  3 512]]\n",
      "Cross-Vall score: 0.5052631578947369\n",
      "\n",
      "Drzewo dla danych znormalizowanych:\n",
      "score:  0.493307839388\n",
      "Confusion matrix:\n",
      " [[371 160]\n",
      " [370 145]]\n",
      "Cross-Vall score: 0.4949282296650718\n"
     ]
    }
   ],
   "source": [
    "zmiana3, Imbalance3 = generujDane3(X3, 10000)\n",
    "wielkiTest(zmiana3, Imbalance3)"
   ]
  },
  {
   "cell_type": "code",
   "execution_count": 95,
   "metadata": {
    "collapsed": true
   },
   "outputs": [],
   "source": [
    "# Ustawianie midPrice w zależności od ilości akcji, które możemy kupić za kwotę p\n",
    "# zaś imbalance jest ustawiany w zależności od kwoty k\n",
    "def setNewMidPrice2(lob, k, p):\n",
    "    bid = lob.bid\n",
    "    ask = lob.ask\n",
    "    bidAmount = 0\n",
    "    bidValue = 0\n",
    "    for i in range(bid.shape[0]):\n",
    "        if ((bidValue + (bid[-(i+1), 0])*bid[-(i+1), 1]) <= p):\n",
    "            bidValue += bid[-(i+1), 1] * bid[-(i+1), 0]\n",
    "            bidAmount += bid[-(i+1), 1]\n",
    "        else:\n",
    "            bidAmount += (p - bidValue) / bid[-(i + 1), 0]\n",
    "            break\n",
    "    askAmount = 0\n",
    "    askValue = 0\n",
    "    for i in range(ask.shape[0]):\n",
    "        if ((askValue + (ask[i, 0])*ask[i, 1]) <= p):\n",
    "            askValue += ask[i, 1] * ask[i, 0]\n",
    "            askAmount += ask[i, 1]\n",
    "        else:\n",
    "            askAmount += (p - askValue) / ask[i, 0]\n",
    "            break\n",
    "    bidPrice = p / bidAmount\n",
    "    askPrice = p / askAmount\n",
    "    lob.midPrice = (bidPrice + askPrice) / 2 \n",
    "\n",
    "    bidAmount = 0\n",
    "    bidValue = 0\n",
    "    for i in range(bid.shape[0]):\n",
    "        if ((bidValue + (bid[-(i+1), 0])*bid[-(i+1), 1]) <= k):\n",
    "            bidValue += bid[-(i+1), 1] * bid[-(i+1), 0]\n",
    "            bidAmount += bid[-(i+1), 1]\n",
    "        else:\n",
    "            bidAmount += (k - bidValue) / bid[-(i + 1), 0]\n",
    "            break\n",
    "    askAmount = 0\n",
    "    askValue = 0\n",
    "    for i in range(ask.shape[0]):\n",
    "        if ((askValue + (ask[i, 0])*ask[i, 1]) <= k):\n",
    "            askValue += ask[i, 1] * ask[i, 0]\n",
    "            askAmount += ask[i, 1]\n",
    "        else:\n",
    "            askAmount += (k - askValue) / ask[i, 0]\n",
    "            break\n",
    "    return (askAmount - bidAmount) / (bidAmount + askAmount)"
   ]
  },
  {
   "cell_type": "code",
   "execution_count": 96,
   "metadata": {
    "collapsed": false
   },
   "outputs": [],
   "source": [
    "# ustawiamy nowy imbalance, biorący różnicę ilości akcji, które możemy sprzedać\n",
    "# z ilością akcji, które możemy kupić za daną kwotę k, przez ich sumę\n",
    "def generujDane4(X, k, p):\n",
    "    Imbalance4 = np.zeros((len(X), 1))\n",
    "    i = 0\n",
    "    for wiersz in X:\n",
    "        Imbalance4[i] = setNewMidPrice2(wiersz, k, p)\n",
    "        i += 1\n",
    "    zmiana4 = generujZmiane(X)\n",
    "    Imbalance4 = Imbalance4[generujIndeksy(X)]\n",
    "    return (zmiana4, Imbalance4)"
   ]
  },
  {
   "cell_type": "code",
   "execution_count": 97,
   "metadata": {
    "collapsed": false
   },
   "outputs": [
    {
     "name": "stdout",
     "output_type": "stream",
     "text": [
      "Svm:\n",
      "score:  0.512030798845\n",
      "Confusion matrix:\n",
      " [[532   0]\n",
      " [507   0]]\n",
      "Cross-Vall score: 0.49961464354527935\n",
      "\n",
      "Drzewo:\n",
      "score:  0.496631376323\n",
      "Confusion matrix:\n",
      " [[130 402]\n",
      " [121 386]]\n",
      "Cross-Vall score: 0.494990366088632\n",
      "\n",
      "Svm dla danych znormalizowanych:\n",
      "score:  0.512030798845\n",
      "Confusion matrix:\n",
      " [[532   0]\n",
      " [507   0]]\n",
      "Cross-Vall score: 0.5086705202312138\n",
      "\n",
      "Drzewo dla danych znormalizowanych:\n",
      "score:  0.487006737247\n",
      "Confusion matrix:\n",
      " [[364 168]\n",
      " [365 142]]\n",
      "Cross-Vall score: 0.48978805394990366\n"
     ]
    }
   ],
   "source": [
    "zmiana4, Imbalance4 = generujDane4(X4, 5000000, 5000000)\n",
    "wielkiTest(zmiana4, Imbalance4)"
   ]
  },
  {
   "cell_type": "code",
   "execution_count": 98,
   "metadata": {
    "collapsed": true
   },
   "outputs": [],
   "source": [
    "# Mądrzejsza zależność od wykresu, łączymy k tików il razy na lewo i prawo od midprice\n",
    "def generujPrzedzialy(X, tablica, k, il):\n",
    "    wynik = np.zeros((len(X), 2 * il))\n",
    "    i = 0\n",
    "    for wiersz in X:\n",
    "        pozMidPrice = int((wiersz.midPrice - minimum) * 10)\n",
    "        for j in range(il):\n",
    "            if (pozMidPrice - (j+1) * k >= 0):\n",
    "                wynik[i][2 * j] = 1/(j+1)*np.sum(tablica[i][(pozMidPrice - (j+1) * k): (pozMidPrice - j * k)])\n",
    "            else:\n",
    "                wynik[i][2 * j] = 0\n",
    "            if (pozMidPrice + (j+1) * k < tablica.shape[1]):\n",
    "                wynik[i][2 * j + 1] = 1/(j+1)*np.sum(tablica[i][(pozMidPrice + j * k): (pozMidPrice + (j+1) * k)])\n",
    "            else:\n",
    "                wynik[i][2 * j + 1] = 0\n",
    "        i += 1\n",
    "    return wynik"
   ]
  },
  {
   "cell_type": "code",
   "execution_count": 99,
   "metadata": {
    "collapsed": false
   },
   "outputs": [
    {
     "name": "stdout",
     "output_type": "stream",
     "text": [
      "Svm:\n",
      "score:  0.485499462943\n",
      "Confusion matrix:\n",
      " [[452   0]\n",
      " [479   0]]\n",
      "Cross-Vall score: 0.49204301075268814\n",
      "\n",
      "Drzewo:\n",
      "score:  0.512352309345\n",
      "Confusion matrix:\n",
      " [[196 256]\n",
      " [198 281]]\n",
      "Cross-Vall score: 0.5019354838709678\n",
      "\n",
      "Svm dla danych znormalizowanych:\n",
      "score:  0.514500537057\n",
      "Confusion matrix:\n",
      " [[241 211]\n",
      " [241 238]]\n",
      "Cross-Vall score: 0.510752688172043\n",
      "\n",
      "Drzewo dla danych znormalizowanych:\n",
      "score:  0.512352309345\n",
      "Confusion matrix:\n",
      " [[196 256]\n",
      " [198 281]]\n",
      "Cross-Vall score: 0.5081720430107527\n"
     ]
    }
   ],
   "source": [
    "Imbalance5 = generujPrzedzialy(X, tablica, 5, 10)\n",
    "wielkiTest(zmiana, Imbalance5[generujIndeksy(X)])"
   ]
  },
  {
   "cell_type": "code",
   "execution_count": 100,
   "metadata": {
    "collapsed": true
   },
   "outputs": [],
   "source": [
    "# łączymy tablicę ticków po k tików\n",
    "def generujPrzedzialy2(tablica, k):\n",
    "    il = int(tablica.shape[1] / k) + 1\n",
    "    wynik = np.zeros((tablica.shape[0], il))\n",
    "    i = 0\n",
    "    for wiersz in tablica:\n",
    "        for j in range(il):\n",
    "            wynik[i] = np.sum(wiersz[j*k:(j+1)*k])\n",
    "        i += 1\n",
    "    return wynik"
   ]
  },
  {
   "cell_type": "code",
   "execution_count": 101,
   "metadata": {
    "collapsed": false
   },
   "outputs": [
    {
     "name": "stdout",
     "output_type": "stream",
     "text": [
      "Svm:\n",
      "score:  0.514500537057\n",
      "Confusion matrix:\n",
      " [[226 226]\n",
      " [226 253]]\n",
      "Cross-Vall score: 0.5068817204301076\n",
      "\n",
      "Drzewo:\n",
      "score:  0.514500537057\n",
      "Confusion matrix:\n",
      " [[226 226]\n",
      " [226 253]]\n",
      "Cross-Vall score: 0.5137634408602151\n",
      "\n",
      "Svm dla danych znormalizowanych:\n",
      "score:  0.518796992481\n",
      "Confusion matrix:\n",
      " [[137 315]\n",
      " [133 346]]\n",
      "Cross-Vall score: 0.5129032258064516\n",
      "\n",
      "Drzewo dla danych znormalizowanych:\n",
      "score:  0.514500537057\n",
      "Confusion matrix:\n",
      " [[226 226]\n",
      " [226 253]]\n",
      "Cross-Vall score: 0.5094623655913979\n"
     ]
    }
   ],
   "source": [
    "Imbalance5 = generujPrzedzialy2(tablica, 20)\n",
    "wielkiTest(zmiana, Imbalance5[generujIndeksy(X)])"
   ]
  },
  {
   "cell_type": "code",
   "execution_count": 102,
   "metadata": {
    "collapsed": true
   },
   "outputs": [],
   "source": [
    "# łączymy il przedziałów na lewo i prawo od mid price, z tym,\n",
    "# że każdy kolejny przedział jest większy od poprzedniego\n",
    "def generujPrzedzialy3(X, tablica, il):\n",
    "    wynik = np.zeros((len(X), 2 * il))\n",
    "    i = 0\n",
    "    for wiersz in X:\n",
    "        k1 = 0\n",
    "        k2 = 1\n",
    "        pozMidPrice = int((wiersz.midPrice - minimum) * 10)\n",
    "        for j in range(il):\n",
    "            if (pozMidPrice - k2 >= 0):\n",
    "                wynik[i][2 * j] = 1/(j+1)*np.sum(tablica[i][(pozMidPrice - k2): (pozMidPrice - k1)])\n",
    "            else:\n",
    "                wynik[i][2 * j] = 0\n",
    "            if (pozMidPrice + k2 < tablica.shape[1]):\n",
    "                wynik[i][2 * j + 1] = 1/(j+1)*np.sum(tablica[i][(pozMidPrice + k1): (pozMidPrice + k2)])\n",
    "            else:\n",
    "                wynik[i][2 * j + 1] = 0\n",
    "            k2 = k1\n",
    "            k2 += (j + 1)\n",
    "        i += 1\n",
    "    return wynik"
   ]
  },
  {
   "cell_type": "code",
   "execution_count": 103,
   "metadata": {
    "collapsed": false
   },
   "outputs": [
    {
     "name": "stdout",
     "output_type": "stream",
     "text": [
      "Svm:\n",
      "score:  0.485499462943\n",
      "Confusion matrix:\n",
      " [[452   0]\n",
      " [479   0]]\n",
      "Cross-Vall score: 0.4969892473118279\n",
      "\n",
      "Drzewo:\n",
      "score:  0.500537056928\n",
      "Confusion matrix:\n",
      " [[337 115]\n",
      " [350 129]]\n",
      "Cross-Vall score: 0.5060215053763442\n",
      "\n",
      "Svm dla danych znormalizowanych:\n",
      "score:  0.542427497315\n",
      "Confusion matrix:\n",
      " [[152 300]\n",
      " [126 353]]\n",
      "Cross-Vall score: 0.5316129032258065\n",
      "\n",
      "Drzewo dla danych znormalizowanych:\n",
      "score:  0.500537056928\n",
      "Confusion matrix:\n",
      " [[337 115]\n",
      " [350 129]]\n",
      "Cross-Vall score: 0.5111827956989247\n"
     ]
    }
   ],
   "source": [
    "Imbalance6 = generujPrzedzialy3(X, tablica, 20)\n",
    "wielkiTest(zmiana, Imbalance6[generujIndeksy(X)])"
   ]
  },
  {
   "cell_type": "code",
   "execution_count": null,
   "metadata": {
    "collapsed": true
   },
   "outputs": [],
   "source": []
  },
  {
   "cell_type": "code",
   "execution_count": null,
   "metadata": {
    "collapsed": true
   },
   "outputs": [],
   "source": []
  },
  {
   "cell_type": "code",
   "execution_count": null,
   "metadata": {
    "collapsed": true
   },
   "outputs": [],
   "source": []
  },
  {
   "cell_type": "code",
   "execution_count": null,
   "metadata": {
    "collapsed": true
   },
   "outputs": [],
   "source": []
  },
  {
   "cell_type": "code",
   "execution_count": null,
   "metadata": {
    "collapsed": true
   },
   "outputs": [],
   "source": []
  },
  {
   "cell_type": "code",
   "execution_count": null,
   "metadata": {
    "collapsed": true
   },
   "outputs": [],
   "source": []
  },
  {
   "cell_type": "code",
   "execution_count": null,
   "metadata": {
    "collapsed": true
   },
   "outputs": [],
   "source": []
  },
  {
   "cell_type": "code",
   "execution_count": null,
   "metadata": {
    "collapsed": true
   },
   "outputs": [],
   "source": []
  },
  {
   "cell_type": "code",
   "execution_count": 104,
   "metadata": {
    "collapsed": true
   },
   "outputs": [],
   "source": [
    "# na nowo wczytujemy dane, z tym, że pomijamy część danych\n",
    "# z początku i końca każdego \"giełdowego dnia\"\n",
    "X = []\n",
    "X3 = []\n",
    "X4 = []\n",
    "\n",
    "for wiersz in dane:\n",
    "    newWiersz = wiersz.split()\n",
    "    if (int(newWiersz[1]) >= 83000000 and int(newWiersz[1]) <= 163000000):\n",
    "        X.append(LOB(newWiersz))\n",
    "        X3.append(LOB(newWiersz))\n",
    "        X4.append(LOB(newWiersz))\n",
    "X = np.array(X)\n",
    "X3 = np.array(X3)\n",
    "X4 = np.array(X4)"
   ]
  },
  {
   "cell_type": "code",
   "execution_count": 105,
   "metadata": {
    "collapsed": false
   },
   "outputs": [],
   "source": [
    "zmiana = generujZmiane(X)\n",
    "Imbalance1 = generujImbalance1(X)"
   ]
  },
  {
   "cell_type": "code",
   "execution_count": 106,
   "metadata": {
    "collapsed": false
   },
   "outputs": [
    {
     "name": "stdout",
     "output_type": "stream",
     "text": [
      "Svm:\n",
      "score:  0.531791907514\n",
      "Confusion matrix:\n",
      " [[250 181]\n",
      " [224 210]]\n",
      "Cross-Vall score: 0.5453703703703704\n",
      "\n",
      "Drzewo:\n",
      "score:  0.528323699422\n",
      "Confusion matrix:\n",
      " [[261 170]\n",
      " [238 196]]\n",
      "Cross-Vall score: 0.5324074074074074\n",
      "\n",
      "Svm dla danych znormalizowanych:\n",
      "score:  0.534104046243\n",
      "Confusion matrix:\n",
      " [[247 184]\n",
      " [219 215]]\n",
      "Cross-Vall score: 0.5453703703703704\n",
      "\n",
      "Drzewo dla danych znormalizowanych:\n",
      "score:  0.528323699422\n",
      "Confusion matrix:\n",
      " [[261 170]\n",
      " [238 196]]\n",
      "Cross-Vall score: 0.5409722222222222\n"
     ]
    }
   ],
   "source": [
    "wielkiTest(zmiana, Imbalance1)"
   ]
  },
  {
   "cell_type": "code",
   "execution_count": 107,
   "metadata": {
    "collapsed": false
   },
   "outputs": [
    {
     "name": "stdout",
     "output_type": "stream",
     "text": [
      "Svm:\n",
      "score:  0.517919075145\n",
      "Confusion matrix:\n",
      " [[165 266]\n",
      " [151 283]]\n",
      "Cross-Vall score: 0.513888888888889\n",
      "\n",
      "Drzewo:\n",
      "score:  0.528323699422\n",
      "Confusion matrix:\n",
      " [[231 200]\n",
      " [208 226]]\n",
      "Cross-Vall score: 0.5247685185185186\n",
      "\n",
      "Svm dla danych znormalizowanych:\n",
      "score:  0.515606936416\n",
      "Confusion matrix:\n",
      " [[268 163]\n",
      " [256 178]]\n",
      "Cross-Vall score: 0.5335648148148148\n",
      "\n",
      "Drzewo dla danych znormalizowanych:\n",
      "score:  0.528323699422\n",
      "Confusion matrix:\n",
      " [[231 200]\n",
      " [208 226]]\n",
      "Cross-Vall score: 0.513888888888889\n"
     ]
    }
   ],
   "source": [
    "Imbalance2 = generujImbalance2(X)\n",
    "wielkiTest(zmiana, Imbalance2)"
   ]
  },
  {
   "cell_type": "code",
   "execution_count": 108,
   "metadata": {
    "collapsed": true
   },
   "outputs": [],
   "source": [
    "minimum = 100000\n",
    "maksimum = 0\n",
    "for wiersz in X:\n",
    "    bid = wiersz.bid[0, 0]\n",
    "    ask = wiersz.ask[-1, 0]\n",
    "    if(ask > maksimum):\n",
    "        maksimum = ask\n",
    "    if(bid < minimum):\n",
    "        minimum = bid\n",
    "liczbaWspolrzednych = int((maksimum - minimum) * 10 + 1)\n",
    "tablica = np.zeros((len(X), liczbaWspolrzednych), dtype=int)\n",
    "i = 0\n",
    "for wiersz in X:\n",
    "    for item in wiersz.bid:\n",
    "        tablica[i][int((item[0] - minimum)*10)] = int(-item[1])\n",
    "    for item in wiersz.ask:\n",
    "        tablica[i][int((item[0] - minimum)*10)] = int(item[1])\n",
    "    i += 1"
   ]
  },
  {
   "cell_type": "code",
   "execution_count": 109,
   "metadata": {
    "collapsed": false
   },
   "outputs": [
    {
     "name": "stdout",
     "output_type": "stream",
     "text": [
      "Svm:\n",
      "score:  0.491155046826\n",
      "Confusion matrix:\n",
      " [[472   0]\n",
      " [489   0]]\n",
      "Cross-Vall score: 0.49437499999999995\n",
      "\n",
      "Drzewo:\n",
      "score:  0.476586888658\n",
      "Confusion matrix:\n",
      " [[307 165]\n",
      " [338 151]]\n",
      "Cross-Vall score: 0.4885416666666666\n",
      "\n",
      "Svm dla danych znormalizowanych:\n",
      "score:  0.4901144641\n",
      "Confusion matrix:\n",
      " [[253 219]\n",
      " [271 218]]\n",
      "Cross-Vall score: 0.49333333333333335\n",
      "\n",
      "Drzewo dla danych znormalizowanych:\n",
      "score:  0.468262226847\n",
      "Confusion matrix:\n",
      " [[296 176]\n",
      " [335 154]]\n",
      "Cross-Vall score: 0.49124999999999996\n"
     ]
    }
   ],
   "source": [
    "zmiana3, Imbalance3 = generujDane3(X3, 10000)\n",
    "wielkiTest(zmiana3, Imbalance3)"
   ]
  },
  {
   "cell_type": "code",
   "execution_count": 110,
   "metadata": {
    "collapsed": false
   },
   "outputs": [
    {
     "name": "stdout",
     "output_type": "stream",
     "text": [
      "Svm:\n",
      "score:  0.495815899582\n",
      "Confusion matrix:\n",
      " [[  0 482]\n",
      " [  0 474]]\n",
      "Cross-Vall score: 0.4917277486910995\n",
      "\n",
      "Drzewo:\n",
      "score:  0.508368200837\n",
      "Confusion matrix:\n",
      " [[459  23]\n",
      " [447  27]]\n",
      "Cross-Vall score: 0.49340314136125657\n",
      "\n",
      "Svm dla danych znormalizowanych:\n",
      "score:  0.495815899582\n",
      "Confusion matrix:\n",
      " [[  0 482]\n",
      " [  0 474]]\n",
      "Cross-Vall score: 0.49130890052356024\n",
      "\n",
      "Drzewo dla danych znormalizowanych:\n",
      "score:  0.508368200837\n",
      "Confusion matrix:\n",
      " [[460  22]\n",
      " [448  26]]\n",
      "Cross-Vall score: 0.48900523560209425\n"
     ]
    }
   ],
   "source": [
    "zmiana4, Imbalance4 = generujDane4(X4, 5000000, 5000000)\n",
    "wielkiTest(zmiana4, Imbalance4)"
   ]
  },
  {
   "cell_type": "code",
   "execution_count": 111,
   "metadata": {
    "collapsed": false
   },
   "outputs": [
    {
     "name": "stdout",
     "output_type": "stream",
     "text": [
      "Svm:\n",
      "score:  0.498265895954\n",
      "Confusion matrix:\n",
      " [[431   0]\n",
      " [434   0]]\n",
      "Cross-Vall score: 0.49259259259259264\n",
      "\n",
      "Drzewo:\n",
      "score:  0.499421965318\n",
      "Confusion matrix:\n",
      " [[373  58]\n",
      " [375  59]]\n",
      "Cross-Vall score: 0.4979166666666667\n",
      "\n",
      "Svm dla danych znormalizowanych:\n",
      "score:  0.522543352601\n",
      "Confusion matrix:\n",
      " [[197 234]\n",
      " [179 255]]\n",
      "Cross-Vall score: 0.5219907407407407\n",
      "\n",
      "Drzewo dla danych znormalizowanych:\n",
      "score:  0.499421965318\n",
      "Confusion matrix:\n",
      " [[373  58]\n",
      " [375  59]]\n",
      "Cross-Vall score: 0.5127314814814815\n"
     ]
    }
   ],
   "source": [
    "Imbalance5 = generujPrzedzialy(X, tablica, 5, 10)\n",
    "wielkiTest(zmiana, Imbalance5[generujIndeksy(X)])"
   ]
  },
  {
   "cell_type": "code",
   "execution_count": 112,
   "metadata": {
    "collapsed": false
   },
   "outputs": [
    {
     "name": "stdout",
     "output_type": "stream",
     "text": [
      "Svm:\n",
      "score:  0.519075144509\n",
      "Confusion matrix:\n",
      " [[225 206]\n",
      " [210 224]]\n",
      "Cross-Vall score: 0.5148148148148148\n",
      "\n",
      "Drzewo:\n",
      "score:  0.517919075145\n",
      "Confusion matrix:\n",
      " [[223 208]\n",
      " [209 225]]\n",
      "Cross-Vall score: 0.5032407407407408\n",
      "\n",
      "Svm dla danych znormalizowanych:\n",
      "score:  0.493641618497\n",
      "Confusion matrix:\n",
      " [[ 42 389]\n",
      " [ 49 385]]\n",
      "Cross-Vall score: 0.500462962962963\n",
      "\n",
      "Drzewo dla danych znormalizowanych:\n",
      "score:  0.517919075145\n",
      "Confusion matrix:\n",
      " [[223 208]\n",
      " [209 225]]\n",
      "Cross-Vall score: 0.5085648148148147\n"
     ]
    }
   ],
   "source": [
    "Imbalance5 = generujPrzedzialy2(tablica, 20)\n",
    "wielkiTest(zmiana, Imbalance5[generujIndeksy(X)])"
   ]
  },
  {
   "cell_type": "code",
   "execution_count": 113,
   "metadata": {
    "collapsed": false
   },
   "outputs": [
    {
     "name": "stdout",
     "output_type": "stream",
     "text": [
      "Svm:\n",
      "score:  0.491155046826\n",
      "Confusion matrix:\n",
      " [[472   0]\n",
      " [489   0]]\n",
      "Cross-Vall score: 0.490625\n",
      "\n",
      "Drzewo:\n",
      "score:  0.501560874089\n",
      "Confusion matrix:\n",
      " [[ 78 394]\n",
      " [ 85 404]]\n",
      "Cross-Vall score: 0.48895833333333333\n",
      "\n",
      "Svm dla danych znormalizowanych:\n",
      "score:  0.530697190427\n",
      "Confusion matrix:\n",
      " [[197 275]\n",
      " [176 313]]\n",
      "Cross-Vall score: 0.5043749999999999\n",
      "\n",
      "Drzewo dla danych znormalizowanych:\n",
      "score:  0.501560874089\n",
      "Confusion matrix:\n",
      " [[ 78 394]\n",
      " [ 85 404]]\n",
      "Cross-Vall score: 0.49416666666666675\n"
     ]
    }
   ],
   "source": [
    "Imbalance6 = generujPrzedzialy3(X, tablica, 20)\n",
    "wielkiTest(zmiana3, Imbalance6[generujIndeksy(X3)])"
   ]
  },
  {
   "cell_type": "code",
   "execution_count": 114,
   "metadata": {
    "collapsed": false
   },
   "outputs": [
    {
     "name": "stdout",
     "output_type": "stream",
     "text": [
      "Svm:\n",
      "score:  0.498265895954\n",
      "Confusion matrix:\n",
      " [[431   0]\n",
      " [434   0]]\n",
      "Cross-Vall score: 0.48171296296296295\n",
      "\n",
      "Drzewo:\n",
      "score:  0.515606936416\n",
      "Confusion matrix:\n",
      " [[173 258]\n",
      " [161 273]]\n",
      "Cross-Vall score: 0.5166666666666666\n",
      "\n",
      "Svm dla danych znormalizowanych:\n",
      "score:  0.509826589595\n",
      "Confusion matrix:\n",
      " [[106 325]\n",
      " [ 99 335]]\n",
      "Cross-Vall score: 0.5275462962962963\n",
      "\n",
      "Drzewo dla danych znormalizowanych:\n",
      "score:  0.51098265896\n",
      "Confusion matrix:\n",
      " [[171 260]\n",
      " [163 271]]\n",
      "Cross-Vall score: 0.512962962962963\n",
      "Svm:\n",
      "score:  0.491155046826\n",
      "Confusion matrix:\n",
      " [[472   0]\n",
      " [489   0]]\n",
      "Cross-Vall score: 0.4883333333333333\n",
      "\n",
      "Drzewo:\n",
      "score:  0.501560874089\n",
      "Confusion matrix:\n",
      " [[ 78 394]\n",
      " [ 85 404]]\n",
      "Cross-Vall score: 0.5075\n",
      "\n",
      "Svm dla danych znormalizowanych:\n",
      "score:  0.530697190427\n",
      "Confusion matrix:\n",
      " [[197 275]\n",
      " [176 313]]\n",
      "Cross-Vall score: 0.499375\n",
      "\n",
      "Drzewo dla danych znormalizowanych:\n",
      "score:  0.501560874089\n",
      "Confusion matrix:\n",
      " [[ 78 394]\n",
      " [ 85 404]]\n",
      "Cross-Vall score: 0.5004166666666666\n",
      "Svm:\n",
      "score:  0.504184100418\n",
      "Confusion matrix:\n",
      " [[482   0]\n",
      " [474   0]]\n",
      "Cross-Vall score: 0.49507853403141366\n",
      "\n",
      "Drzewo:\n",
      "score:  0.482217573222\n",
      "Confusion matrix:\n",
      " [[162 320]\n",
      " [175 299]]\n",
      "Cross-Vall score: 0.5003141361256545\n",
      "\n",
      "Svm dla danych znormalizowanych:\n",
      "score:  0.490585774059\n",
      "Confusion matrix:\n",
      " [[177 305]\n",
      " [182 292]]\n",
      "Cross-Vall score: 0.5214659685863874\n",
      "\n",
      "Drzewo dla danych znormalizowanych:\n",
      "score:  0.482217573222\n",
      "Confusion matrix:\n",
      " [[162 320]\n",
      " [175 299]]\n",
      "Cross-Vall score: 0.5089005235602093\n"
     ]
    }
   ],
   "source": [
    "# testujemy najsensowniejsze imbalance z róznymi zmianami\n",
    "Imbalance6 = generujPrzedzialy3(X, tablica, 20)\n",
    "wielkiTest(zmiana, Imbalance6[generujIndeksy(X)])\n",
    "wielkiTest(zmiana3, Imbalance6[generujIndeksy(X3)])\n",
    "wielkiTest(zmiana4, Imbalance6[generujIndeksy(X4)])"
   ]
  },
  {
   "cell_type": "code",
   "execution_count": 115,
   "metadata": {
    "collapsed": true
   },
   "outputs": [],
   "source": [
    "# redefiniujemy funkcję, żeby zwracały nam całe imbalance a nie tylko\n",
    "# dla wybranych lobów\n",
    "def generujImbalance1(X):\n",
    "    i = 0\n",
    "    Imbalance1 = np.zeros((X.shape[0], 1))\n",
    "    for wiersz in X:\n",
    "        bid = wiersz.bid[-1, 1]\n",
    "        ask = wiersz.ask[0, 1]\n",
    "        Imbalance1[i] = (bid - ask) / (bid + ask)\n",
    "        i += 1\n",
    "    return Imbalance1\n",
    "def generujImbalance2(X):\n",
    "    i = 0\n",
    "    Imbalance2 = np.zeros((X.shape[0], 2))\n",
    "    for wiersz in X:\n",
    "        bid = wiersz.bid[-1, 1]\n",
    "        ask = wiersz.ask[0, 1]\n",
    "        Imbalance2[i][0] = ask\n",
    "        Imbalance2[i][1] = bid\n",
    "        i += 1\n",
    "    return Imbalance2"
   ]
  },
  {
   "cell_type": "code",
   "execution_count": 116,
   "metadata": {
    "collapsed": false
   },
   "outputs": [
    {
     "name": "stdout",
     "output_type": "stream",
     "text": [
      "Svm:\n",
      "score:  0.517919075145\n",
      "Confusion matrix:\n",
      " [[165 266]\n",
      " [151 283]]\n",
      "Cross-Vall score: 0.5166666666666666\n",
      "\n",
      "Drzewo:\n",
      "score:  0.528323699422\n",
      "Confusion matrix:\n",
      " [[231 200]\n",
      " [208 226]]\n",
      "Cross-Vall score: 0.5291666666666667\n",
      "\n",
      "Svm dla danych znormalizowanych:\n",
      "score:  0.515606936416\n",
      "Confusion matrix:\n",
      " [[268 163]\n",
      " [256 178]]\n",
      "Cross-Vall score: 0.530787037037037\n",
      "\n",
      "Drzewo dla danych znormalizowanych:\n",
      "score:  0.528323699422\n",
      "Confusion matrix:\n",
      " [[231 200]\n",
      " [208 226]]\n",
      "Cross-Vall score: 0.538425925925926\n",
      "Svm:\n",
      "score:  0.523413111342\n",
      "Confusion matrix:\n",
      " [[318 154]\n",
      " [304 185]]\n",
      "Cross-Vall score: 0.5033333333333333\n",
      "\n",
      "Drzewo:\n",
      "score:  0.503642039542\n",
      "Confusion matrix:\n",
      " [[364 108]\n",
      " [369 120]]\n",
      "Cross-Vall score: 0.49416666666666664\n",
      "\n",
      "Svm dla danych znormalizowanych:\n",
      "score:  0.493236212279\n",
      "Confusion matrix:\n",
      " [[390  82]\n",
      " [405  84]]\n",
      "Cross-Vall score: 0.5041666666666667\n",
      "\n",
      "Drzewo dla danych znormalizowanych:\n",
      "score:  0.503642039542\n",
      "Confusion matrix:\n",
      " [[364 108]\n",
      " [369 120]]\n",
      "Cross-Vall score: 0.5179166666666667\n",
      "Svm:\n",
      "score:  0.508368200837\n",
      "Confusion matrix:\n",
      " [[190 292]\n",
      " [178 296]]\n",
      "Cross-Vall score: 0.5005235602094241\n",
      "\n",
      "Drzewo:\n",
      "score:  0.509414225941\n",
      "Confusion matrix:\n",
      " [[124 358]\n",
      " [111 363]]\n",
      "Cross-Vall score: 0.5063874345549738\n",
      "\n",
      "Svm dla danych znormalizowanych:\n",
      "score:  0.493723849372\n",
      "Confusion matrix:\n",
      " [[363 119]\n",
      " [365 109]]\n",
      "Cross-Vall score: 0.4998952879581152\n",
      "\n",
      "Drzewo dla danych znormalizowanych:\n",
      "score:  0.509414225941\n",
      "Confusion matrix:\n",
      " [[124 358]\n",
      " [111 363]]\n",
      "Cross-Vall score: 0.5047120418848168\n"
     ]
    }
   ],
   "source": [
    "Imbalance2 = generujImbalance2(X)\n",
    "wielkiTest(zmiana, Imbalance2[generujIndeksy(X)])\n",
    "wielkiTest(zmiana3, Imbalance2[generujIndeksy(X3)])\n",
    "wielkiTest(zmiana4, Imbalance2[generujIndeksy(X4)])"
   ]
  },
  {
   "cell_type": "code",
   "execution_count": 117,
   "metadata": {
    "collapsed": false
   },
   "outputs": [
    {
     "name": "stdout",
     "output_type": "stream",
     "text": [
      "Svm:\n",
      "score:  0.531791907514\n",
      "Confusion matrix:\n",
      " [[250 181]\n",
      " [224 210]]\n",
      "Cross-Vall score: 0.544212962962963\n",
      "\n",
      "Drzewo:\n",
      "score:  0.528323699422\n",
      "Confusion matrix:\n",
      " [[261 170]\n",
      " [238 196]]\n",
      "Cross-Vall score: 0.5333333333333333\n",
      "\n",
      "Svm dla danych znormalizowanych:\n",
      "score:  0.534104046243\n",
      "Confusion matrix:\n",
      " [[247 184]\n",
      " [219 215]]\n",
      "Cross-Vall score: 0.5458333333333333\n",
      "\n",
      "Drzewo dla danych znormalizowanych:\n",
      "score:  0.528323699422\n",
      "Confusion matrix:\n",
      " [[261 170]\n",
      " [238 196]]\n",
      "Cross-Vall score: 0.5333333333333333\n",
      "Svm:\n",
      "score:  0.518210197711\n",
      "Confusion matrix:\n",
      " [[265 207]\n",
      " [256 233]]\n",
      "Cross-Vall score: 0.5075\n",
      "\n",
      "Drzewo:\n",
      "score:  0.499479708637\n",
      "Confusion matrix:\n",
      " [[408  64]\n",
      " [417  72]]\n",
      "Cross-Vall score: 0.5081249999999999\n",
      "\n",
      "Svm dla danych znormalizowanych:\n",
      "score:  0.5098855359\n",
      "Confusion matrix:\n",
      " [[304 168]\n",
      " [303 186]]\n",
      "Cross-Vall score: 0.4966666666666667\n",
      "\n",
      "Drzewo dla danych znormalizowanych:\n",
      "score:  0.499479708637\n",
      "Confusion matrix:\n",
      " [[408  64]\n",
      " [417  72]]\n",
      "Cross-Vall score: 0.5158333333333334\n",
      "Svm:\n",
      "score:  0.490585774059\n",
      "Confusion matrix:\n",
      " [[271 211]\n",
      " [276 198]]\n",
      "Cross-Vall score: 0.5070157068062827\n",
      "\n",
      "Drzewo:\n",
      "score:  0.506276150628\n",
      "Confusion matrix:\n",
      " [[365 117]\n",
      " [355 119]]\n",
      "Cross-Vall score: 0.5015706806282723\n",
      "\n",
      "Svm dla danych znormalizowanych:\n",
      "score:  0.492677824268\n",
      "Confusion matrix:\n",
      " [[256 226]\n",
      " [259 215]]\n",
      "Cross-Vall score: 0.4990575916230367\n",
      "\n",
      "Drzewo dla danych znormalizowanych:\n",
      "score:  0.506276150628\n",
      "Confusion matrix:\n",
      " [[365 117]\n",
      " [355 119]]\n",
      "Cross-Vall score: 0.4954973821989529\n"
     ]
    }
   ],
   "source": [
    "Imbalance1 = generujImbalance1(X)\n",
    "wielkiTest(zmiana, Imbalance1[generujIndeksy(X)])\n",
    "wielkiTest(zmiana3, Imbalance1[generujIndeksy(X3)])\n",
    "wielkiTest(zmiana4, Imbalance1[generujIndeksy(X4)])"
   ]
  },
  {
   "cell_type": "code",
   "execution_count": null,
   "metadata": {
    "collapsed": true
   },
   "outputs": [],
   "source": []
  },
  {
   "cell_type": "code",
   "execution_count": null,
   "metadata": {
    "collapsed": true
   },
   "outputs": [],
   "source": []
  },
  {
   "cell_type": "code",
   "execution_count": null,
   "metadata": {
    "collapsed": true
   },
   "outputs": [],
   "source": []
  },
  {
   "cell_type": "code",
   "execution_count": null,
   "metadata": {
    "collapsed": true
   },
   "outputs": [],
   "source": []
  },
  {
   "cell_type": "code",
   "execution_count": null,
   "metadata": {
    "collapsed": true
   },
   "outputs": [],
   "source": []
  },
  {
   "cell_type": "code",
   "execution_count": 118,
   "metadata": {
    "collapsed": true
   },
   "outputs": [],
   "source": [
    "# Ostatni sposób: imbalance jest teraz wektorem, przechowywującym wiedzę\n",
    "# również o wcześniejszych k imbalance'ach"
   ]
  },
  {
   "cell_type": "code",
   "execution_count": 119,
   "metadata": {
    "collapsed": true
   },
   "outputs": [],
   "source": [
    "X = []\n",
    "for wiersz in dane:\n",
    "    newWiersz = wiersz.split()\n",
    "    if (int(newWiersz[1]) >= 83000000 and int(newWiersz[1]) <= 163000000):\n",
    "        X.append(LOB(newWiersz))\n",
    "X = np.array(X)"
   ]
  },
  {
   "cell_type": "code",
   "execution_count": 120,
   "metadata": {
    "collapsed": false
   },
   "outputs": [],
   "source": [
    "zmiana = generujZmiane(X)\n",
    "Imbalance1 = generujImbalance1(X)"
   ]
  },
  {
   "cell_type": "code",
   "execution_count": 121,
   "metadata": {
    "collapsed": false
   },
   "outputs": [],
   "source": [
    "# tworzymy wektor k wcześniejszych imbalance'ów\n",
    "def generujWektor(k):\n",
    "    il = Imbalance1.shape[0] - k\n",
    "    ImbalanceWektor = np.zeros((il, k))\n",
    "    for i in range(il):\n",
    "        ImbalanceWektor[i] = Imbalance1[i : (i+k)].reshape(k)\n",
    "    return ImbalanceWektor"
   ]
  },
  {
   "cell_type": "code",
   "execution_count": 122,
   "metadata": {
    "collapsed": false
   },
   "outputs": [],
   "source": [
    "def generujZmiane2(X, k):\n",
    "    for i in range(len(X) - 1):\n",
    "        if (X[i].midPrice > X[i + 1].midPrice):\n",
    "            X[i].zmiana = 1\n",
    "        if (X[i].midPrice < X[i + 1].midPrice):\n",
    "            X[i].zmiana = -1\n",
    "        if (X[i].midPrice == X[i + 1].midPrice):\n",
    "            X[i].zmiana = 0\n",
    "    T = generujIndeksy2(X, k)\n",
    "    return np.array([i.zmiana for i in X])[T]\n",
    "    \n",
    "def generujIndeksy2(X, k):\n",
    "    return np.arange(k-1,len(X))[np.array([(i.zmiana != 0) for i in X[(k-1):]])]"
   ]
  },
  {
   "cell_type": "code",
   "execution_count": 123,
   "metadata": {
    "collapsed": false
   },
   "outputs": [],
   "source": [
    "# dokładniejszy crossValidation, tzn. powtarzany 10 razy\n",
    "def testFewCross(X, k):\n",
    "    ImbalanceWektor = generujWektor(k)\n",
    "    imbalance = ImbalanceWektor[generujIndeksy2(X, k)-(k-1)]\n",
    "    zmiana = generujZmiane2(X, k)\n",
    "    X_train, X_test, y_train, y_test = train_test_split(imbalance, zmiana, test_size=0.20, random_state=40)\n",
    "    clf = svm.fit(X_train, y_train)\n",
    "    clf = clf.best_estimator_\n",
    "    wynik = 0\n",
    "    wynikZnormalizowany = 0\n",
    "    imbalance2 = normalizuj(imbalance)\n",
    "    for i in range(20):\n",
    "        wynik += crossValidation(clf, imbalance, zmiana, 5)\n",
    "        wynikZnormalizowany += crossValidation(clf, imbalance2, zmiana, 5)\n",
    "    return (wynik / 20, wynikZnormalizowany / 20)"
   ]
  },
  {
   "cell_type": "code",
   "execution_count": 124,
   "metadata": {
    "collapsed": false
   },
   "outputs": [],
   "source": [
    "# sprawadzamy skuteczność dla wektorów imbalance'ów długości k\n",
    "skutecznosc = []\n",
    "for i in range(1, 26):\n",
    "    skutecznosc.append(testFewCross(X, i))"
   ]
  },
  {
   "cell_type": "code",
   "execution_count": 125,
   "metadata": {
    "collapsed": false
   },
   "outputs": [
    {
     "data": {
      "image/png": "[encoded data removed]",
      "text/plain": [
       "<matplotlib.figure.Figure at 0x192871a2630>"
      ]
     },
     "metadata": {},
     "output_type": "display_data"
    }
   ],
   "source": [
    "# wykres przewidywalności mid price w zależności od wektoru imbalance\n",
    "# długości k\n",
    "plt.plot(np.arange(1,26), skutecznosc, marker = 'o')\n",
    "plt.show()"
   ]
  },
  {
   "cell_type": "code",
   "execution_count": 126,
   "metadata": {
    "collapsed": false
   },
   "outputs": [],
   "source": [
    "skutecznosc1 = np.array(skutecznosc)[:, 0]\n",
    "skutecznosc2 = np.array(skutecznosc)[:, 1]"
   ]
  },
  {
   "cell_type": "code",
   "execution_count": 127,
   "metadata": {
    "collapsed": false
   },
   "outputs": [
    {
     "name": "stdout",
     "output_type": "stream",
     "text": [
      "maks. skuteczność dla danych standardowych:  0.545394431555\n",
      "dostaliśmy ją dla k =  14\n",
      "maks. skuteczność dla danych znormalizowanych:  0.545555555556\n",
      "dostaliśmy ją dla k =  1\n"
     ]
    }
   ],
   "source": [
    "print(\"maks. skuteczność dla danych standardowych: \", np.max(skutecznosc1))\n",
    "print(\"dostaliśmy ją dla k = \", np.argmax(skutecznosc1) + 1)\n",
    "print(\"maks. skuteczność dla danych znormalizowanych: \", np.max(skutecznosc2))\n",
    "print(\"dostaliśmy ją dla k = \", np.argmax(skutecznosc2) + 1)"
   ]
  },
  {
   "cell_type": "code",
   "execution_count": null,
   "metadata": {
    "collapsed": true
   },
   "outputs": [],
   "source": []
  },
  {
   "cell_type": "code",
   "execution_count": 128,
   "metadata": {
    "collapsed": true
   },
   "outputs": [],
   "source": [
    "# powtórzenie obliczeń dla wszystkich lobów niezależnie od godziny:\n",
    "X = []\n",
    "for wiersz in dane:\n",
    "    newWiersz = wiersz.split()\n",
    "    X.append(LOB(newWiersz))\n",
    "X = np.array(X)\n",
    "zmiana = generujZmiane(X)\n",
    "Imbalance1 = generujImbalance1(X)"
   ]
  },
  {
   "cell_type": "code",
   "execution_count": 129,
   "metadata": {
    "collapsed": true
   },
   "outputs": [],
   "source": [
    "skutecznosc = []\n",
    "for i in range(1, 26):\n",
    "    skutecznosc.append(testFewCross(X, i))"
   ]
  },
  {
   "cell_type": "code",
   "execution_count": 130,
   "metadata": {
    "collapsed": false
   },
   "outputs": [
    {
     "data": {
      "image/png": "[encoded data removed]",
      "text/plain": [
       "<matplotlib.figure.Figure at 0x1928081f400>"
      ]
     },
     "metadata": {},
     "output_type": "display_data"
    }
   ],
   "source": [
    "# wykres przewidywalności mid price w zależności od wektoru imbalance\n",
    "# długości k\n",
    "plt.plot(np.arange(1,26), skutecznosc, marker = 'o')\n",
    "plt.show()"
   ]
  },
  {
   "cell_type": "code",
   "execution_count": 131,
   "metadata": {
    "collapsed": false
   },
   "outputs": [
    {
     "name": "stdout",
     "output_type": "stream",
     "text": [
      "maks. skuteczność dla danych standardowych:  0.54711517761\n",
      "dostaliśmy ją dla k =  16\n",
      "maks. skuteczność dla danych znormalizowanych:  0.546247311828\n",
      "dostaliśmy ją dla k =  1\n"
     ]
    }
   ],
   "source": [
    "skutecznosc1 = np.array(skutecznosc)[:, 0]\n",
    "skutecznosc2 = np.array(skutecznosc)[:, 1]\n",
    "print(\"maks. skuteczność dla danych standardowych: \", np.max(skutecznosc1))\n",
    "print(\"dostaliśmy ją dla k = \", np.argmax(skutecznosc1) + 1)\n",
    "print(\"maks. skuteczność dla danych znormalizowanych: \", np.max(skutecznosc2))\n",
    "print(\"dostaliśmy ją dla k = \", np.argmax(skutecznosc2) + 1)"
   ]
  }
 ],
 "metadata": {
  "anaconda-cloud": {},
  "kernelspec": {
   "display_name": "Python [conda root]",
   "language": "python",
   "name": "conda-root-py"
  },
  "language_info": {
   "codemirror_mode": {
    "name": "ipython",
    "version": 2
   },
   "file_extension": ".py",
   "mimetype": "text/x-python",
   "name": "python",
   "nbconvert_exporter": "python",
   "pygments_lexer": "ipython2",
   "version": "2.7.12"
  }
 },
 "nbformat": 4,
 "nbformat_minor": 1
}
