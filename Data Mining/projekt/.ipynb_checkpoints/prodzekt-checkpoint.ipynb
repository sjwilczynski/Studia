{
 "cells": [
  {
   "cell_type": "code",
   "execution_count": 1,
   "metadata": {
    "collapsed": true
   },
   "outputs": [],
   "source": [
    "import numpy as np\n",
    "import matplotlib.pyplot as plt\n",
    "import time\n",
    "from sklearn.model_selection import train_test_split\n",
    "from sklearn.model_selection import GridSearchCV\n",
    "from sklearn.metrics import classification_report\n",
    "from sklearn.metrics import confusion_matrix\n",
    "from sklearn.svm import SVC\n",
    "from __future__ import print_function"
   ]
  },
  {
   "cell_type": "code",
   "execution_count": 2,
   "metadata": {
    "collapsed": true
   },
   "outputs": [],
   "source": [
    "daneS = 'OrderBookSnapshots.csv';\n",
    "with open(daneS, 'r') as f:\n",
    "    dane = f.readlines()"
   ]
  },
  {
   "cell_type": "code",
   "execution_count": 3,
   "metadata": {
    "collapsed": false
   },
   "outputs": [],
   "source": [
    "w = dane[0]"
   ]
  },
  {
   "cell_type": "code",
   "execution_count": 95,
   "metadata": {
    "collapsed": false
   },
   "outputs": [],
   "source": [
    "class LOB:\n",
    "    def __init__(self, wiersz):\n",
    "        self.zmiana = 0\n",
    "        self.dzien = wiersz[0]\n",
    "        self.czas = wiersz[1]\n",
    "        i = 3\n",
    "        while (wiersz[i] != 'ASK'):\n",
    "            i += 1\n",
    "        bid = wiersz[3:i]\n",
    "        ask = wiersz[(i+1):]\n",
    "        self.bid = np.zeros((int((len(bid) / 2)), 2))\n",
    "        self.ask = np.zeros((int((len(ask) / 2)), 2))\n",
    "        for i in range(0, len(bid), 2):\n",
    "            self.bid[int(i / 2)][0] = float(bid[i]) \n",
    "            self.bid[int(i / 2)][1] = float(bid[i+1])\n",
    "        for i in range(0, len(ask), 2):\n",
    "            self.ask[int(i / 2)] = [float(ask[i]), float(ask[i+1])]\n",
    "        self.midPrice = (self.bid[len(self.bid) - 1][0] + self.ask[0][0]) / 2\n",
    "    def __str__(self):\n",
    "        return \"Dzień: \" + self.dzien + \", Czas: \" + self.czas + \", midPrice: \" + str(self.midPrice)"
   ]
  },
  {
   "cell_type": "code",
   "execution_count": 96,
   "metadata": {
    "collapsed": false
   },
   "outputs": [],
   "source": [
    "X = np.zeros(len(dane))"
   ]
  },
  {
   "cell_type": "code",
   "execution_count": 97,
   "metadata": {
    "collapsed": false
   },
   "outputs": [],
   "source": [
    "X = []\n",
    "for wiersz in dane:\n",
    "    X.append(LOB(wiersz.split()))\n",
    "X = np.array(X)"
   ]
  },
  {
   "cell_type": "code",
   "execution_count": 98,
   "metadata": {
    "collapsed": false
   },
   "outputs": [],
   "source": [
    "for i in range(len(X) - 1):\n",
    "    if (X[i].midPrice > X[i + 1].midPrice):\n",
    "        X[i].zmiana = 1\n",
    "    if (X[i].midPrice < X[i + 1].midPrice):\n",
    "        X[i].zmiana = -1"
   ]
  },
  {
   "cell_type": "code",
   "execution_count": 99,
   "metadata": {
    "collapsed": false
   },
   "outputs": [],
   "source": [
    "T = np.arange(len(X))[np.array([(i.zmiana != 0) for i in X])]\n",
    "zmiana = np.array([i.zmiana for i in X])[T]"
   ]
  },
  {
   "cell_type": "code",
   "execution_count": 9,
   "metadata": {
    "collapsed": false
   },
   "outputs": [],
   "source": [
    "i = 0\n",
    "Imbalance1 = np.zeros((T.shape[0], 1))\n",
    "for wiersz in X[T]:\n",
    "    bid = wiersz.bid[-1, 1]\n",
    "    ask = wiersz.ask[0, 1]\n",
    "    Imbalance1[i] = (bid - ask) / (bid + ask)\n",
    "    i += 1"
   ]
  },
  {
   "cell_type": "code",
   "execution_count": 10,
   "metadata": {
    "collapsed": false
   },
   "outputs": [
    {
     "data": {
      "text/plain": [
       "array([[ 0.17070315],\n",
       "       [ 0.90312708],\n",
       "       [ 0.24637681],\n",
       "       ..., \n",
       "       [ 0.73768614],\n",
       "       [-0.11781161],\n",
       "       [-0.69661017]])"
      ]
     },
     "execution_count": 10,
     "metadata": {},
     "output_type": "execute_result"
    }
   ],
   "source": [
    "Imbalance1"
   ]
  },
  {
   "cell_type": "code",
   "execution_count": 102,
   "metadata": {
    "collapsed": false
   },
   "outputs": [
    {
     "name": "stdout",
     "output_type": "stream",
     "text": [
      "done in 79.221s\n",
      "Best estimator found by grid search:\n",
      "SVC(C=1000.0, cache_size=200, class_weight='balanced', coef0=0.0,\n",
      "  decision_function_shape=None, degree=3, gamma=0.001, kernel='rbf',\n",
      "  max_iter=-1, probability=False, random_state=None, shrinking=True,\n",
      "  tol=0.001, verbose=False)\n"
     ]
    }
   ],
   "source": [
    "#Dodane:\n",
    "#znowu najlepszy wynik wychodzi na najprostszym\n",
    "X_train, X_test, y_train, y_test = train_test_split(\n",
    "    Imbalance1, zmiana, test_size=0.25, random_state=42)\n",
    "t0 = time.time()\n",
    "param_grid = {'C': [1e1,1e3, 5e3, 1e4, 5e4, 1e5],\n",
    "              'gamma': [0.0001, 0.0005, 0.001, 0.005, 0.01, 0.1], \n",
    "             }\n",
    "clf = GridSearchCV(SVC(kernel='rbf', class_weight='balanced'), param_grid)\n",
    "clf = clf.fit(X_train, y_train)\n",
    "print(\"done in %0.3fs\" % (time.time() - t0))\n",
    "print(\"Best estimator found by grid search:\")\n",
    "print(clf.best_estimator_)"
   ]
  },
  {
   "cell_type": "code",
   "execution_count": 103,
   "metadata": {
    "collapsed": false
   },
   "outputs": [
    {
     "name": "stdout",
     "output_type": "stream",
     "text": [
      "Predicting mid_price movement on the test set\n",
      "done in 0.117s\n",
      "score:  0.537800687285\n",
      "             precision    recall  f1-score   support\n",
      "\n",
      "         -1       0.51      0.57      0.54       553\n",
      "          1       0.57      0.51      0.54       611\n",
      "\n",
      "avg / total       0.54      0.54      0.54      1164\n",
      "\n",
      "[[314 239]\n",
      " [299 312]]\n"
     ]
    }
   ],
   "source": [
    "print(\"Predicting mid_price movement on the test set\")\n",
    "t0 = time.time()\n",
    "y_pred = clf.predict(X_test)\n",
    "print(\"done in %0.3fs\" % (time.time() - t0))\n",
    "print(\"score: \", clf.score(X_test, y_test))\n",
    "\n",
    "print(classification_report(y_test, y_pred))\n",
    "print(confusion_matrix(y_test, y_pred))"
   ]
  },
  {
   "cell_type": "code",
   "execution_count": 85,
   "metadata": {
    "collapsed": false
   },
   "outputs": [
    {
     "name": "stdout",
     "output_type": "stream",
     "text": [
      "[1 1 1 ..., 1 1 1]\n"
     ]
    }
   ],
   "source": [
    "print(y_pred)"
   ]
  },
  {
   "cell_type": "code",
   "execution_count": 80,
   "metadata": {
    "collapsed": false
   },
   "outputs": [
    {
     "data": {
      "text/plain": [
       "0.4999999999999999"
      ]
     },
     "execution_count": 80,
     "metadata": {},
     "output_type": "execute_result"
    }
   ],
   "source": [
    "crossValidation(clf, Imbalance1, zmiana, 5)"
   ]
  },
  {
   "cell_type": "code",
   "execution_count": 17,
   "metadata": {
    "collapsed": false
   },
   "outputs": [],
   "source": [
    "from sklearn.tree import DecisionTreeClassifier\n",
    "from sklearn import tree"
   ]
  },
  {
   "cell_type": "code",
   "execution_count": 18,
   "metadata": {
    "collapsed": false
   },
   "outputs": [
    {
     "name": "stderr",
     "output_type": "stream",
     "text": [
      "/home/stachu/anaconda2/lib/python2.7/site-packages/sklearn/cross_validation.py:44: DeprecationWarning: This module was deprecated in version 0.18 in favor of the model_selection module into which all the refactored classes and functions are moved. Also note that the interface of the new CV iterators are different from that of this module. This module will be removed in 0.20.\n",
      "  \"This module will be removed in 0.20.\", DeprecationWarning)\n"
     ]
    }
   ],
   "source": [
    "t = tree.DecisionTreeClassifier()\n",
    "from sklearn import cross_validation as cv\n",
    "# cv.cross_val_score(KLAS, X, y, cv = 5)"
   ]
  },
  {
   "cell_type": "code",
   "execution_count": 261,
   "metadata": {
    "collapsed": false
   },
   "outputs": [
    {
     "ename": "ValueError",
     "evalue": "total size of new array must be unchanged",
     "output_type": "error",
     "traceback": [
      "\u001b[0;31m---------------------------------------------------------------------------\u001b[0m",
      "\u001b[0;31mValueError\u001b[0m                                Traceback (most recent call last)",
      "\u001b[0;32m<ipython-input-261-d7ddd6380c15>\u001b[0m in \u001b[0;36m<module>\u001b[0;34m()\u001b[0m\n\u001b[0;32m----> 1\u001b[0;31m \u001b[0mw\u001b[0m \u001b[1;33m=\u001b[0m \u001b[0mcv\u001b[0m\u001b[1;33m.\u001b[0m\u001b[0mcross_val_score\u001b[0m\u001b[1;33m(\u001b[0m\u001b[0mt\u001b[0m\u001b[1;33m,\u001b[0m \u001b[0mImbalance1\u001b[0m\u001b[1;33m.\u001b[0m\u001b[0mreshape\u001b[0m\u001b[1;33m(\u001b[0m\u001b[1;33m(\u001b[0m\u001b[1;36m4653\u001b[0m\u001b[1;33m,\u001b[0m \u001b[1;36m1\u001b[0m\u001b[1;33m)\u001b[0m\u001b[1;33m)\u001b[0m\u001b[1;33m,\u001b[0m \u001b[0mzmiana\u001b[0m\u001b[1;33m,\u001b[0m \u001b[0mcv\u001b[0m \u001b[1;33m=\u001b[0m \u001b[1;36m5\u001b[0m\u001b[1;33m)\u001b[0m\u001b[1;33m\u001b[0m\u001b[0m\n\u001b[0m\u001b[1;32m      2\u001b[0m \u001b[0mnp\u001b[0m\u001b[1;33m.\u001b[0m\u001b[0msum\u001b[0m\u001b[1;33m(\u001b[0m\u001b[0mw\u001b[0m\u001b[1;33m)\u001b[0m \u001b[1;33m/\u001b[0m \u001b[0mw\u001b[0m\u001b[1;33m.\u001b[0m\u001b[0mshape\u001b[0m\u001b[1;33m[\u001b[0m\u001b[1;36m0\u001b[0m\u001b[1;33m]\u001b[0m\u001b[1;33m\u001b[0m\u001b[0m\n",
      "\u001b[0;31mValueError\u001b[0m: total size of new array must be unchanged"
     ]
    }
   ],
   "source": [
    "w = cv.cross_val_score(t, Imbalance1.reshape((4653, 1)), zmiana, cv = 5)\n",
    "np.sum(w) / w.shape[0]"
   ]
  },
  {
   "cell_type": "code",
   "execution_count": 19,
   "metadata": {
    "collapsed": false
   },
   "outputs": [],
   "source": [
    "def crossValidation(classifier, data, dataClass, k):\n",
    "    size = data.shape[0]\n",
    "    arr = np.arange(size)\n",
    "    np.random.shuffle(arr)\n",
    "    err = 0\n",
    "    n = int(size / k)\n",
    "    for i in range(k):\n",
    "        mask2 = arr[np.arange(i*n,min((i+1)*n,size))]\n",
    "        mask1 = arr[np.concatenate((np.arange(i*n),np.arange((i+1)*n,size)))]\n",
    "        t.fit(data[mask1], dataClass[mask1])\n",
    "        err += t.score(data[mask2], dataClass[mask2])\n",
    "    return float(err) / k "
   ]
  },
  {
   "cell_type": "code",
   "execution_count": 263,
   "metadata": {
    "collapsed": false
   },
   "outputs": [],
   "source": [
    "t.fit(Imbalance1, zmiana)\n",
    "t.score(Imbalance1, zmiana)\n",
    "with open(\"E:\\\\dupa.dot\", \"w\") as f:\n",
    "    tree.export_graphviz(t, out_file=f)"
   ]
  },
  {
   "cell_type": "code",
   "execution_count": 264,
   "metadata": {
    "collapsed": false
   },
   "outputs": [
    {
     "data": {
      "text/plain": [
       "0.4909677419354839"
      ]
     },
     "execution_count": 264,
     "metadata": {},
     "output_type": "execute_result"
    }
   ],
   "source": [
    "crossValidation(t, Imbalance1, zmiana, 5)"
   ]
  },
  {
   "cell_type": "code",
   "execution_count": 272,
   "metadata": {
    "collapsed": false
   },
   "outputs": [
    {
     "name": "stdout",
     "output_type": "stream",
     "text": [
      "0.5380645161290324\n"
     ]
    }
   ],
   "source": [
    "t = tree.DecisionTreeClassifier(min_samples_leaf= 25, max_depth= 5)\n",
    "print(crossValidation(t, Imbalance1, zmiana, 5))"
   ]
  },
  {
   "cell_type": "code",
   "execution_count": 274,
   "metadata": {
    "collapsed": false
   },
   "outputs": [
    {
     "data": {
      "text/plain": [
       "0.5356989247311829"
      ]
     },
     "execution_count": 274,
     "metadata": {},
     "output_type": "execute_result"
    }
   ],
   "source": [
    "from sklearn.svm import SVC\n",
    "clf = SVC()\n",
    "crossValidation(clf, Imbalance1, zmiana, 5)"
   ]
  },
  {
   "cell_type": "code",
   "execution_count": 275,
   "metadata": {
    "collapsed": true
   },
   "outputs": [],
   "source": [
    "i = 0\n",
    "Imbalance2 = np.zeros((T.shape[0], 2))\n",
    "for wiersz in X[T]:\n",
    "    bid = wiersz.bid[-1, 1]\n",
    "    ask = wiersz.ask[0, 1]\n",
    "    Imbalance2[i][0] = ask\n",
    "    Imbalance2[i][1] = bid\n",
    "    i += 1"
   ]
  },
  {
   "cell_type": "code",
   "execution_count": 276,
   "metadata": {
    "collapsed": false
   },
   "outputs": [
    {
     "name": "stdout",
     "output_type": "stream",
     "text": [
      "0.5202150537634409\n"
     ]
    }
   ],
   "source": [
    "t = tree.DecisionTreeClassifier(min_samples_leaf= 25, max_depth= 5)\n",
    "print(crossValidation(t, Imbalance2, zmiana, 5))"
   ]
  },
  {
   "cell_type": "code",
   "execution_count": 277,
   "metadata": {
    "collapsed": false
   },
   "outputs": [
    {
     "data": {
      "text/plain": [
       "0.5251612903225806"
      ]
     },
     "execution_count": 277,
     "metadata": {},
     "output_type": "execute_result"
    }
   ],
   "source": [
    "clf = SVC(C = 2)\n",
    "crossValidation(clf, Imbalance2, zmiana, 5)"
   ]
  },
  {
   "cell_type": "code",
   "execution_count": 66,
   "metadata": {
    "collapsed": true
   },
   "outputs": [],
   "source": [
    "minimum = 100000\n",
    "maksimum = 0\n",
    "for wiersz in X:\n",
    "    bid = wiersz.bid[0, 0]\n",
    "    ask = wiersz.ask[-1, 0]\n",
    "    if(ask > maksimum):\n",
    "        maksimum = ask\n",
    "    if(bid < minimum):\n",
    "        minimum = bid"
   ]
  },
  {
   "cell_type": "code",
   "execution_count": 67,
   "metadata": {
    "collapsed": false
   },
   "outputs": [],
   "source": [
    "liczbaWspolrzednych = int((maksimum - minimum) * 10 + 1)"
   ]
  },
  {
   "cell_type": "code",
   "execution_count": 68,
   "metadata": {
    "collapsed": true
   },
   "outputs": [],
   "source": [
    "tablica = np.zeros((len(X), liczbaWspolrzednych), dtype=int)"
   ]
  },
  {
   "cell_type": "code",
   "execution_count": 69,
   "metadata": {
    "collapsed": false
   },
   "outputs": [
    {
     "ename": "IndexError",
     "evalue": "index -4870 is out of bounds for axis 0 with size 4061",
     "output_type": "error",
     "traceback": [
      "\u001b[0;31m---------------------------------------------------------------------------\u001b[0m",
      "\u001b[0;31mIndexError\u001b[0m                                Traceback (most recent call last)",
      "\u001b[0;32m<ipython-input-69-f23f2ae64e92>\u001b[0m in \u001b[0;36m<module>\u001b[0;34m()\u001b[0m\n\u001b[1;32m      5\u001b[0m     \u001b[0;32mfor\u001b[0m \u001b[0mitem\u001b[0m \u001b[0;32min\u001b[0m \u001b[0mwiersz\u001b[0m\u001b[0;34m.\u001b[0m\u001b[0mask\u001b[0m\u001b[0;34m:\u001b[0m\u001b[0;34m\u001b[0m\u001b[0m\n\u001b[1;32m      6\u001b[0m \u001b[0;31m#         print(int((item[0] - minimum)*10), item[0])\u001b[0m\u001b[0;34m\u001b[0m\u001b[0;34m\u001b[0m\u001b[0m\n\u001b[0;32m----> 7\u001b[0;31m         \u001b[0mtablica\u001b[0m\u001b[0;34m[\u001b[0m\u001b[0mi\u001b[0m\u001b[0;34m]\u001b[0m\u001b[0;34m[\u001b[0m\u001b[0mint\u001b[0m\u001b[0;34m(\u001b[0m\u001b[0;34m(\u001b[0m\u001b[0mitem\u001b[0m\u001b[0;34m[\u001b[0m\u001b[0;36m0\u001b[0m\u001b[0;34m]\u001b[0m \u001b[0;34m-\u001b[0m \u001b[0mminimum\u001b[0m\u001b[0;34m)\u001b[0m\u001b[0;34m*\u001b[0m\u001b[0;36m10\u001b[0m\u001b[0;34m)\u001b[0m\u001b[0;34m]\u001b[0m \u001b[0;34m=\u001b[0m \u001b[0mint\u001b[0m\u001b[0;34m(\u001b[0m\u001b[0;34m-\u001b[0m\u001b[0mitem\u001b[0m\u001b[0;34m[\u001b[0m\u001b[0;36m1\u001b[0m\u001b[0;34m]\u001b[0m\u001b[0;34m)\u001b[0m\u001b[0;34m\u001b[0m\u001b[0m\n\u001b[0m\u001b[1;32m      8\u001b[0m     \u001b[0mi\u001b[0m \u001b[0;34m+=\u001b[0m \u001b[0;36m1\u001b[0m\u001b[0;34m\u001b[0m\u001b[0m\n",
      "\u001b[0;31mIndexError\u001b[0m: index -4870 is out of bounds for axis 0 with size 4061"
     ]
    }
   ],
   "source": [
    "i = 0\n",
    "for wiersz in X:\n",
    "    for item in wiersz.bid:\n",
    "        tablica[i][int((item[0] - minimum)*10)] = int(item[1])\n",
    "    for item in wiersz.ask:\n",
    "#         print(int((item[0] - minimum)*10), item[0])\n",
    "        tablica[i][int((item[0] - minimum)*10)] = int(-item[1])\n",
    "    i += 1"
   ]
  },
  {
   "cell_type": "code",
   "execution_count": null,
   "metadata": {
    "collapsed": false
   },
   "outputs": [],
   "source": [
    "tablica.shape"
   ]
  },
  {
   "cell_type": "code",
   "execution_count": 293,
   "metadata": {
    "collapsed": false
   },
   "outputs": [
    {
     "data": {
      "text/plain": [
       "0.5012903225806452"
      ]
     },
     "execution_count": 293,
     "metadata": {},
     "output_type": "execute_result"
    }
   ],
   "source": [
    "clf = SVC()\n",
    "crossValidation(clf, tablica[T], zmiana, 5)"
   ]
  },
  {
   "cell_type": "code",
   "execution_count": 288,
   "metadata": {
    "collapsed": false
   },
   "outputs": [
    {
     "data": {
      "text/plain": [
       "(4652, 4061)"
      ]
     },
     "execution_count": 288,
     "metadata": {},
     "output_type": "execute_result"
    }
   ],
   "source": [
    "tablica[T].shape"
   ]
  },
  {
   "cell_type": "code",
   "execution_count": 74,
   "metadata": {
    "collapsed": true
   },
   "outputs": [],
   "source": [
    "def setNewMidPrice(lob, k):\n",
    "    bid = lob.bid\n",
    "    ask = lob.ask\n",
    "    bidAmount = 0\n",
    "    bidValue = 0\n",
    "    for i in range(bid.shape[0]):\n",
    "        if ((bidAmount + bid[-(i+1), 1]) <= k):\n",
    "            bidValue += bid[-(i+1), 1] * bid[-(i+1), 0]\n",
    "            bidAmount += bid[-(i+1), 1]\n",
    "        else:\n",
    "            bidValue += bid[-(i+1), 0] * (k - bidAmount)\n",
    "            bidAmount = k\n",
    "            break\n",
    "    askAmount = 0\n",
    "    askValue = 0\n",
    "    for i in range(ask.shape[0]):\n",
    "        if ((askAmount + ask[i, 1]) <= k):\n",
    "            askValue += ask[i, 1] * ask[i, 0]\n",
    "            askAmount += ask[i, 1]\n",
    "        else:\n",
    "            askValue += ask[i, 0] * (k - askAmount)\n",
    "            askAmount = k\n",
    "            break\n",
    "    bidPrice = bidValue / bidAmount\n",
    "    askPrice = askValue / askAmount\n",
    "    lob.midPrice = (bidPrice + askPrice) / 2\n",
    "    return (askPrice - bidPrice) / (bidPrice + askPrice)"
   ]
  },
  {
   "cell_type": "code",
   "execution_count": 75,
   "metadata": {
    "collapsed": false
   },
   "outputs": [],
   "source": [
    "Imbalance2 = np.zeros((len(X), 1))\n",
    "i = 0\n",
    "for wiersz in X:\n",
    "    Imbalance2[i] = setNewMidPrice(wiersz, 30000)\n",
    "    i += 1"
   ]
  },
  {
   "cell_type": "code",
   "execution_count": 76,
   "metadata": {
    "collapsed": true
   },
   "outputs": [],
   "source": [
    "for i in range(len(X) - 1):\n",
    "    if (X[i].midPrice > X[i + 1].midPrice):\n",
    "        X[i].zmiana = 1\n",
    "    if (X[i].midPrice < X[i + 1].midPrice):\n",
    "        X[i].zmiana = -1\n",
    "T = np.arange(len(X))[np.array([(i.zmiana != 0) for i in X])]\n",
    "zmiana = np.array([i.zmiana for i in X])[T]"
   ]
  },
  {
   "cell_type": "code",
   "execution_count": 77,
   "metadata": {
    "collapsed": false
   },
   "outputs": [
    {
     "name": "stdout",
     "output_type": "stream",
     "text": [
      "0.487203791469\n"
     ]
    }
   ],
   "source": [
    "t = tree.DecisionTreeClassifier(min_samples_leaf= 25, max_depth= 5)\n",
    "print(crossValidation(t, Imbalance2[T], zmiana, 5))"
   ]
  },
  {
   "cell_type": "code",
   "execution_count": 573,
   "metadata": {
    "collapsed": false
   },
   "outputs": [
    {
     "data": {
      "text/plain": [
       "0.5045112781954888"
      ]
     },
     "execution_count": 573,
     "metadata": {},
     "output_type": "execute_result"
    }
   ],
   "source": [
    "clf = SVC()\n",
    "crossValidation(clf, Imbalance2[T], zmiana, 5)"
   ]
  },
  {
   "cell_type": "code",
   "execution_count": 574,
   "metadata": {
    "collapsed": false
   },
   "outputs": [],
   "source": [
    "Imbalance2 = np.zeros((len(X), 1))\n",
    "i = 0\n",
    "for wiersz in X:\n",
    "    Imbalance2[i] = setNewMidPrice(wiersz, 100000)\n",
    "    i += 1\n",
    "for i in range(len(X) - 1):\n",
    "    if (X[i].midPrice > X[i + 1].midPrice):\n",
    "        X[i].zmiana = 1\n",
    "    else:\n",
    "        if (X[i].midPrice < X[i + 1].midPrice):\n",
    "            X[i].zmiana = -1\n",
    "        else:\n",
    "            X[i].zmiana = 0\n",
    "T = np.arange(len(X))[np.array([(i.zmiana != 0) for i in X])]\n",
    "zmiana = np.array([i.zmiana for i in X])[T]"
   ]
  },
  {
   "cell_type": "code",
   "execution_count": 575,
   "metadata": {
    "collapsed": false
   },
   "outputs": [
    {
     "name": "stdout",
     "output_type": "stream",
     "text": [
      "0.4892857142857142\n"
     ]
    },
    {
     "data": {
      "text/plain": [
       "0.4800751879699249"
      ]
     },
     "execution_count": 575,
     "metadata": {},
     "output_type": "execute_result"
    }
   ],
   "source": [
    "t = tree.DecisionTreeClassifier(min_samples_leaf= 25, max_depth= 5)\n",
    "print(crossValidation(t, Imbalance2[T], zmiana, 5))\n",
    "clf = SVC()\n",
    "crossValidation(clf, Imbalance2[T], zmiana, 5)"
   ]
  },
  {
   "cell_type": "code",
   "execution_count": 576,
   "metadata": {
    "collapsed": true
   },
   "outputs": [],
   "source": [
    "wynik1 = []\n",
    "wynik2 = []\n",
    "Imbalance2 = np.zeros((len(X), 1))\n",
    "for z in range(1000, 100000, 100):\n",
    "    i = 0\n",
    "    for wiersz in X:\n",
    "        Imbalance2[i] = setNewMidPrice(wiersz, z)\n",
    "        i += 1\n",
    "    for i in range(len(X) - 1):\n",
    "        if (X[i].midPrice > X[i + 1].midPrice):\n",
    "            X[i].zmiana = 1\n",
    "        else:\n",
    "            if (X[i].midPrice < X[i + 1].midPrice):\n",
    "                X[i].zmiana = -1\n",
    "            else:\n",
    "                X[i].zmiana = 0\n",
    "    T = np.arange(len(X))[np.array([(i.zmiana != 0) for i in X])]\n",
    "    zmiana = np.array([i.zmiana for i in X])[T]\n",
    "    w1 = crossValidation(t, Imbalance2[T], zmiana, 5)\n",
    "    w1 += crossValidation(t, Imbalance2[T], zmiana, 5)\n",
    "    w2 = crossValidation(clf, Imbalance2[T], zmiana, 5)\n",
    "    w2 += crossValidation(clf, Imbalance2[T], zmiana, 5)\n",
    "    wynik1.append((w1)/2)\n",
    "    wynik2.append((w2)/2)"
   ]
  },
  {
   "cell_type": "code",
   "execution_count": 577,
   "metadata": {
    "collapsed": false
   },
   "outputs": [
    {
     "data": {
      "image/png": "[encoded data removed]",
      "text/plain": [
       "<matplotlib.figure.Figure at 0x285ed6abe10>"
      ]
     },
     "metadata": {},
     "output_type": "display_data"
    },
    {
     "data": {
      "image/png": "[encoded data removed]",
      "text/plain": [
       "<matplotlib.figure.Figure at 0x285edb95a20>"
      ]
     },
     "metadata": {},
     "output_type": "display_data"
    }
   ],
   "source": [
    "plt.plot(np.arange(1000,100000,100),wynik1)\n",
    "plt.show()\n",
    "plt.plot(np.arange(1000,100000,100),wynik2)\n",
    "plt.show()"
   ]
  },
  {
   "cell_type": "code",
   "execution_count": 579,
   "metadata": {
    "collapsed": false
   },
   "outputs": [
    {
     "data": {
      "text/plain": [
       "(0.50664767331433991, 184, 0.50806608357628757, 42)"
      ]
     },
     "execution_count": 579,
     "metadata": {},
     "output_type": "execute_result"
    }
   ],
   "source": [
    "np.max(wynik1), np.argmax(wynik1), np.max(wynik2), np.argmax(wynik2)"
   ]
  },
  {
   "cell_type": "code",
   "execution_count": 538,
   "metadata": {
    "collapsed": true
   },
   "outputs": [],
   "source": [
    "najlepszeK1 = 4280\n",
    "najlepszeK2 = 4269"
   ]
  },
  {
   "cell_type": "code",
   "execution_count": 539,
   "metadata": {
    "collapsed": false
   },
   "outputs": [
    {
     "name": "stdout",
     "output_type": "stream",
     "text": [
      "0.4791794871794872\n",
      "0.47958974358974354\n"
     ]
    }
   ],
   "source": [
    "print(crossValidation(clf, tablica[T], zmiana, 5))\n",
    "print(crossValidation(t, tablica[T], zmiana, 5))"
   ]
  },
  {
   "cell_type": "code",
   "execution_count": 540,
   "metadata": {
    "collapsed": false
   },
   "outputs": [
    {
     "data": {
      "text/plain": [
       "665.0"
      ]
     },
     "execution_count": 540,
     "metadata": {},
     "output_type": "execute_result"
    }
   ],
   "source": [
    "X[0].midPrice"
   ]
  },
  {
   "cell_type": "code",
   "execution_count": 541,
   "metadata": {
    "collapsed": false
   },
   "outputs": [
    {
     "data": {
      "text/plain": [
       "(5474, 4061)"
      ]
     },
     "execution_count": 541,
     "metadata": {},
     "output_type": "execute_result"
    }
   ],
   "source": [
    "tablica.shape"
   ]
  },
  {
   "cell_type": "code",
   "execution_count": 543,
   "metadata": {
    "collapsed": false
   },
   "outputs": [
    {
     "data": {
      "text/plain": [
       "1710"
      ]
     },
     "execution_count": 543,
     "metadata": {},
     "output_type": "execute_result"
    }
   ],
   "source": [
    "int((X[0].midPrice - minimum) * 10)"
   ]
  },
  {
   "cell_type": "code",
   "execution_count": 93,
   "metadata": {
    "collapsed": false
   },
   "outputs": [],
   "source": [
    "def generujPrzedzialy(X, tablica, k, il):\n",
    "    wynik = np.zeros((len(X), 2 * il))\n",
    "    i = 0\n",
    "    for wiersz in X:\n",
    "        pozMidPrice = int((wiersz.midPrice - minimum) * 10)\n",
    "        for j in range(il):\n",
    "            if (pozMidPrice - (j+1) * k >= 0):\n",
    "                wynik[i][2 * j] = 1/(j+1)*np.sum(tablica[i][(pozMidPrice - (j+1) * k): (pozMidPrice - j * k)])\n",
    "            else:\n",
    "                wynik[i][2 * j] = 0\n",
    "            if (pozMidPrice + (j+1) * k < tablica.shape[1]):\n",
    "                wynik[i][2 * j + 1] = 1/(j+1)*np.sum(tablica[i][(pozMidPrice + j * k): (pozMidPrice + (j+1) * k)])\n",
    "            else:\n",
    "                wynik[i][2 * j + 1] = 0\n",
    "        i += 1\n",
    "    return wynik"
   ]
  },
  {
   "cell_type": "code",
   "execution_count": 88,
   "metadata": {
    "collapsed": true
   },
   "outputs": [],
   "source": [
    "def setNewMidPrice2(lob, k, p):\n",
    "    bid = lob.bid\n",
    "    ask = lob.ask\n",
    "    bidAmount = 0\n",
    "    bidValue = 0\n",
    "    for i in range(bid.shape[0]):\n",
    "        if ((bidValue + (bid[-(i+1), 0])*bid[-(i+1), 1]) <= p):\n",
    "            bidValue += bid[-(i+1), 1] * bid[-(i+1), 0]\n",
    "            bidAmount += bid[-(i+1), 1]\n",
    "        else:\n",
    "            bidAmount += (p - bidValue) / bid[-(i + 1), 0]\n",
    "            break\n",
    "    askAmount = 0\n",
    "    askValue = 0\n",
    "    for i in range(ask.shape[0]):\n",
    "        if ((askValue + (ask[i, 0])*ask[i, 1]) <= p):\n",
    "            askValue += ask[i, 1] * ask[i, 0]\n",
    "            askAmount += ask[i, 1]\n",
    "        else:\n",
    "            askAmount += (p - askValue) / ask[i, 0]\n",
    "            break\n",
    "    bidPrice = p / bidAmount\n",
    "    askPrice = p / askAmount\n",
    "    lob.midPrice = (bidPrice + askPrice) / 2 \n",
    "\n",
    "    bidAmount = 0\n",
    "    bidValue = 0\n",
    "    for i in range(bid.shape[0]):\n",
    "        if ((bidValue + (bid[-(i+1), 0])*bid[-(i+1), 1]) <= k):\n",
    "            bidValue += bid[-(i+1), 1] * bid[-(i+1), 0]\n",
    "            bidAmount += bid[-(i+1), 1]\n",
    "        else:\n",
    "            bidAmount += (k - bidValue) / bid[-(i + 1), 0]\n",
    "            break\n",
    "    askAmount = 0\n",
    "    askValue = 0\n",
    "    for i in range(ask.shape[0]):\n",
    "        if ((askValue + (ask[i, 0])*ask[i, 1]) <= k):\n",
    "            askValue += ask[i, 1] * ask[i, 0]\n",
    "            askAmount += ask[i, 1]\n",
    "        else:\n",
    "            askAmount += (k - askValue) / ask[i, 0]\n",
    "            break\n",
    "    return (askAmount - bidAmount) / (bidAmount + askAmount)"
   ]
  },
  {
   "cell_type": "code",
   "execution_count": 89,
   "metadata": {
    "collapsed": false
   },
   "outputs": [
    {
     "name": "stdout",
     "output_type": "stream",
     "text": [
      "0.502369668246\n"
     ]
    },
    {
     "data": {
      "text/plain": [
       "0.5114691943127962"
      ]
     },
     "execution_count": 89,
     "metadata": {},
     "output_type": "execute_result"
    }
   ],
   "source": [
    "Imbalance3 = np.zeros((len(X), 1))\n",
    "i = 0\n",
    "for wiersz in X:\n",
    "    Imbalance3[i] = setNewMidPrice2(wiersz, 50000000000, 3000000)\n",
    "    i += 1\n",
    "for i in range(len(X) - 1):\n",
    "    if (X[i].midPrice > X[i + 1].midPrice):\n",
    "        X[i].zmiana = 1\n",
    "    if (X[i].midPrice < X[i + 1].midPrice):\n",
    "        X[i].zmiana = -1\n",
    "T = np.arange(len(X))[np.array([(i.zmiana != 0) for i in X])]\n",
    "zmiana = np.array([i.zmiana for i in X])[T]\n",
    "print(crossValidation(t, Imbalance3[T], zmiana, 5))\n",
    "crossValidation(clf, Imbalance3[T], zmiana, 5)"
   ]
  },
  {
   "cell_type": "code",
   "execution_count": 94,
   "metadata": {
    "collapsed": false
   },
   "outputs": [
    {
     "name": "stdout",
     "output_type": "stream",
     "text": [
      "0.481327014218\n"
     ]
    },
    {
     "data": {
      "text/plain": [
       "0.48530805687203793"
      ]
     },
     "execution_count": 94,
     "metadata": {},
     "output_type": "execute_result"
    }
   ],
   "source": [
    "dupa = generujPrzedzialy(X, tablica, 10, 100)\n",
    "print(crossValidation(t, dupa[T], zmiana, 5))\n",
    "crossValidation(clf, dupa[T], zmiana, 5)"
   ]
  },
  {
   "cell_type": "code",
   "execution_count": 689,
   "metadata": {
    "collapsed": false
   },
   "outputs": [
    {
     "name": "stdout",
     "output_type": "stream",
     "text": [
      "0.4947162426614481\n"
     ]
    },
    {
     "data": {
      "text/plain": [
       "0.5031311154598826"
      ]
     },
     "execution_count": 689,
     "metadata": {},
     "output_type": "execute_result"
    }
   ],
   "source": [
    "print(crossValidation(t, dupa[T], zmiana, 5))\n",
    "crossValidation(clf, dupa[T], zmiana, 5)"
   ]
  },
  {
   "cell_type": "code",
   "execution_count": 781,
   "metadata": {
    "collapsed": false
   },
   "outputs": [
    {
     "name": "stdout",
     "output_type": "stream",
     "text": [
      "0.4927014218009479\n",
      "0.4843601895734597\n"
     ]
    }
   ],
   "source": [
    "print(crossValidation(t, Imbalance2[T], zmiana, 5))\n",
    "print(crossValidation(clf, Imbalance2[T], zmiana, 5))"
   ]
  },
  {
   "cell_type": "code",
   "execution_count": 706,
   "metadata": {
    "collapsed": true
   },
   "outputs": [],
   "source": [
    "def generujPrzedzialy2(tablica, k):\n",
    "    il = int(tablica.shape[1] / k) + 1\n",
    "    wynik = np.zeros((tablica.shape[0], il))\n",
    "    i = 0\n",
    "    for wiersz in tablica:\n",
    "        for j in range(il):\n",
    "            wynik[i] = np.sum(wiersz[j*k:(j+1)*k])\n",
    "        i += 1\n",
    "    return wynik"
   ]
  },
  {
   "cell_type": "code",
   "execution_count": 701,
   "metadata": {
    "collapsed": false
   },
   "outputs": [
    {
     "data": {
      "text/plain": [
       "(5474, 4061)"
      ]
     },
     "execution_count": 701,
     "metadata": {},
     "output_type": "execute_result"
    }
   ],
   "source": [
    "tablica.shape"
   ]
  },
  {
   "cell_type": "code",
   "execution_count": 757,
   "metadata": {
    "collapsed": false
   },
   "outputs": [],
   "source": [
    "dupa = generujPrzedzialy2(tablica, 10)"
   ]
  },
  {
   "cell_type": "code",
   "execution_count": 782,
   "metadata": {
    "collapsed": false
   },
   "outputs": [
    {
     "name": "stdout",
     "output_type": "stream",
     "text": [
      "0.5163981042654029\n",
      "0.5076777251184834\n"
     ]
    }
   ],
   "source": [
    "print(crossValidation(t, dupa[T], zmiana, 5))\n",
    "print(crossValidation(clf, dupa[T], zmiana, 5))"
   ]
  }
 ],
 "metadata": {
  "anaconda-cloud": {},
  "kernelspec": {
   "display_name": "Python [conda root]",
   "language": "python",
   "name": "conda-root-py"
  },
  "language_info": {
   "codemirror_mode": {
    "name": "ipython",
    "version": 2
   },
   "file_extension": ".py",
   "mimetype": "text/x-python",
   "name": "python",
   "nbconvert_exporter": "python",
   "pygments_lexer": "ipython2",
   "version": "2.7.12"
  }
 },
 "nbformat": 4,
 "nbformat_minor": 1
}
