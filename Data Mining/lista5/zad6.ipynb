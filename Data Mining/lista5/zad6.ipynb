{
 "cells": [
  {
   "cell_type": "code",
   "execution_count": 1,
   "metadata": {
    "collapsed": false
   },
   "outputs": [
    {
     "name": "stdout",
     "output_type": "stream",
     "text": [
      "(45211, 17)\n",
      "(45211, 17)\n"
     ]
    },
    {
     "data": {
      "text/html": [
       "<div>\n",
       "<table border=\"1\" class=\"dataframe\">\n",
       "  <thead>\n",
       "    <tr style=\"text-align: right;\">\n",
       "      <th></th>\n",
       "      <th>age</th>\n",
       "      <th>job</th>\n",
       "      <th>marital</th>\n",
       "      <th>education</th>\n",
       "      <th>default</th>\n",
       "      <th>balance</th>\n",
       "      <th>housing</th>\n",
       "      <th>loan</th>\n",
       "      <th>contact</th>\n",
       "      <th>day</th>\n",
       "      <th>month</th>\n",
       "      <th>duration</th>\n",
       "      <th>campaign</th>\n",
       "      <th>pdays</th>\n",
       "      <th>previous</th>\n",
       "      <th>poutcome</th>\n",
       "      <th>Term deposit?</th>\n",
       "    </tr>\n",
       "  </thead>\n",
       "  <tbody>\n",
       "    <tr>\n",
       "      <th>0</th>\n",
       "      <td>58</td>\n",
       "      <td>4</td>\n",
       "      <td>1</td>\n",
       "      <td>2</td>\n",
       "      <td>0</td>\n",
       "      <td>2143</td>\n",
       "      <td>1</td>\n",
       "      <td>0</td>\n",
       "      <td>2</td>\n",
       "      <td>5</td>\n",
       "      <td>8</td>\n",
       "      <td>261</td>\n",
       "      <td>1</td>\n",
       "      <td>-1</td>\n",
       "      <td>0</td>\n",
       "      <td>3</td>\n",
       "      <td>0</td>\n",
       "    </tr>\n",
       "    <tr>\n",
       "      <th>1</th>\n",
       "      <td>44</td>\n",
       "      <td>9</td>\n",
       "      <td>2</td>\n",
       "      <td>1</td>\n",
       "      <td>0</td>\n",
       "      <td>29</td>\n",
       "      <td>1</td>\n",
       "      <td>0</td>\n",
       "      <td>2</td>\n",
       "      <td>5</td>\n",
       "      <td>8</td>\n",
       "      <td>151</td>\n",
       "      <td>1</td>\n",
       "      <td>-1</td>\n",
       "      <td>0</td>\n",
       "      <td>3</td>\n",
       "      <td>0</td>\n",
       "    </tr>\n",
       "    <tr>\n",
       "      <th>2</th>\n",
       "      <td>33</td>\n",
       "      <td>2</td>\n",
       "      <td>1</td>\n",
       "      <td>1</td>\n",
       "      <td>0</td>\n",
       "      <td>2</td>\n",
       "      <td>1</td>\n",
       "      <td>1</td>\n",
       "      <td>2</td>\n",
       "      <td>5</td>\n",
       "      <td>8</td>\n",
       "      <td>76</td>\n",
       "      <td>1</td>\n",
       "      <td>-1</td>\n",
       "      <td>0</td>\n",
       "      <td>3</td>\n",
       "      <td>0</td>\n",
       "    </tr>\n",
       "    <tr>\n",
       "      <th>3</th>\n",
       "      <td>47</td>\n",
       "      <td>1</td>\n",
       "      <td>1</td>\n",
       "      <td>3</td>\n",
       "      <td>0</td>\n",
       "      <td>1506</td>\n",
       "      <td>1</td>\n",
       "      <td>0</td>\n",
       "      <td>2</td>\n",
       "      <td>5</td>\n",
       "      <td>8</td>\n",
       "      <td>92</td>\n",
       "      <td>1</td>\n",
       "      <td>-1</td>\n",
       "      <td>0</td>\n",
       "      <td>3</td>\n",
       "      <td>0</td>\n",
       "    </tr>\n",
       "    <tr>\n",
       "      <th>4</th>\n",
       "      <td>33</td>\n",
       "      <td>11</td>\n",
       "      <td>2</td>\n",
       "      <td>3</td>\n",
       "      <td>0</td>\n",
       "      <td>1</td>\n",
       "      <td>0</td>\n",
       "      <td>0</td>\n",
       "      <td>2</td>\n",
       "      <td>5</td>\n",
       "      <td>8</td>\n",
       "      <td>198</td>\n",
       "      <td>1</td>\n",
       "      <td>-1</td>\n",
       "      <td>0</td>\n",
       "      <td>3</td>\n",
       "      <td>0</td>\n",
       "    </tr>\n",
       "  </tbody>\n",
       "</table>\n",
       "</div>"
      ],
      "text/plain": [
       "   age  job  marital  education  default  balance  housing  loan  contact  \\\n",
       "0   58    4        1          2        0     2143        1     0        2   \n",
       "1   44    9        2          1        0       29        1     0        2   \n",
       "2   33    2        1          1        0        2        1     1        2   \n",
       "3   47    1        1          3        0     1506        1     0        2   \n",
       "4   33   11        2          3        0        1        0     0        2   \n",
       "\n",
       "   day  month  duration  campaign  pdays  previous  poutcome  Term deposit?  \n",
       "0    5      8       261         1     -1         0         3              0  \n",
       "1    5      8       151         1     -1         0         3              0  \n",
       "2    5      8        76         1     -1         0         3              0  \n",
       "3    5      8        92         1     -1         0         3              0  \n",
       "4    5      8       198         1     -1         0         3              0  "
      ]
     },
     "execution_count": 1,
     "metadata": {},
     "output_type": "execute_result"
    }
   ],
   "source": [
    "% matplotlib inline\n",
    "\n",
    "import numpy as np\n",
    "import matplotlib.pyplot as plt\n",
    "import pandas as pd\n",
    "\n",
    "from sklearn import tree\n",
    "from sklearn import ensemble\n",
    "from sklearn import datasets, linear_model\n",
    "from sklearn import cross_validation, svm\n",
    "from sklearn.metrics import confusion_matrix\n",
    "bank = pd.read_csv(\"bank.csv\")\n",
    "\n",
    "for column in bank.columns:\n",
    "    #print type(bank[column][0]) is str\n",
    "    if( type(bank[column][0]) is str ):\n",
    "        bank[column] = pd.Categorical.from_array(bank[column]).codes\n",
    "print bank.shape\n",
    "bank = bank.dropna()\n",
    "print bank.shape\n",
    "bank.head()"
   ]
  },
  {
   "cell_type": "code",
   "execution_count": 27,
   "metadata": {
    "collapsed": false
   },
   "outputs": [
    {
     "name": "stdout",
     "output_type": "stream",
     "text": [
      "0.898896286302\n",
      "[0 1]\n",
      "[ 0.03734651  0.          0.          0.          0.          0.\n",
      "  0.02085809  0.          0.03326847  0.          0.10476479  0.57542331\n",
      "  0.          0.06377384  0.          0.16456499  0.        ]\n",
      "(array([[13485,   525],\n",
      "       [ 1095,   790]]), 0.89808115759672857)\n"
     ]
    }
   ],
   "source": [
    "y = bank['Term deposit?']\n",
    "X = bank.drop('Term deposit?',axis = 1)\n",
    "t = tree.DecisionTreeClassifier(max_leaf_nodes=15)\n",
    "t = t.fit(X, y)\n",
    "print t.score(X,y)\n",
    "print t.classes_\n",
    "print t.feature_importances_\n",
    "with open(\"bank1.dot\", \"w\") as f:\n",
    "    tree.export_graphviz(t, out_file=f, feature_names=X.columns)\n",
    "print calculate_cnf(X,'Term deposit?',t,y)\n",
    "#chyba to najlepsze(albo nie patrz dol) -> najbardziej interesuje nas ci ktorzy wzieli pozyczki -> tu jest sa ze 2 duze grupy gdzie ponad 50% wzielo pozyczke"
   ]
  },
  {
   "cell_type": "code",
   "execution_count": 87,
   "metadata": {
    "collapsed": false,
    "scrolled": true
   },
   "outputs": [
    {
     "name": "stdout",
     "output_type": "stream",
     "text": [
      "0.901838048263\n",
      "(array([[13116,   687],\n",
      "       [  856,   959]]), 0.90120373927519526)\n"
     ]
    }
   ],
   "source": [
    "y = bank['Term deposit?']\n",
    "X = bank.drop('Term deposit?',axis = 1)\n",
    "t = tree.DecisionTreeClassifier(max_leaf_nodes=30)\n",
    "t = t.fit(X, y)\n",
    "print t.score(X,y)\n",
    "with open(\"bank2.dot\", \"w\") as f:\n",
    "    tree.export_graphviz(t, out_file=f, feature_names=X.columns)\n",
    "print calculate_cnf(X,'Term deposit?',t,y)\n",
    "#ponad polowa jupiiiii!!"
   ]
  },
  {
   "cell_type": "code",
   "execution_count": 73,
   "metadata": {
    "collapsed": false
   },
   "outputs": [
    {
     "name": "stdout",
     "output_type": "stream",
     "text": [
      "0.891442348101\n",
      "(array([[13770,   371],\n",
      "       [ 1372,   494]]), 0.89111013931405014)\n"
     ]
    }
   ],
   "source": [
    "y = bank['Term deposit?']\n",
    "X = bank.drop('Term deposit?',axis = 1)\n",
    "t = tree.DecisionTreeClassifier(max_depth=3, random_state=0)\n",
    "t = t.fit(X, y)\n",
    "print t.score(X,y)\n",
    "with open(\"bank5.dot\", \"w\") as f:\n",
    "    tree.export_graphviz(t, out_file=f, feature_names=X.columns)\n",
    "#to fajniejsze ma duzo lepszego crossa i duzo gup gdzie spory ulamek toci co wzieli\n",
    "print calculate_cnf(X,'Term deposit?',t,y)"
   ]
  },
  {
   "cell_type": "code",
   "execution_count": 5,
   "metadata": {
    "collapsed": true
   },
   "outputs": [],
   "source": [
    "#przed usunieciem cech\n",
    "def calculate_cnf(data,feature,cls,y = []):\n",
    "    data['train'] = np.random.uniform(0, 1, len(data))\n",
    "\n",
    "    data_train = data[data['train'] <= 0.65]\n",
    "    data_test = data[data['train'] > 0.65]\n",
    "\n",
    "    if( len(y) ==  0 ):\n",
    "        y_train = data_train[feature]\n",
    "        y_test = data_test[feature]\n",
    "        X_train = data_train.drop(feature, axis = 1)\n",
    "        X_test = data_test.drop(feature, axis = 1)\n",
    "    else:\n",
    "        y_train = y[data['train'] <= 0.65]\n",
    "        y_test = y[data['train'] > 0.65]\n",
    "        X_train = data_train\n",
    "        X_test = data_test\n",
    "\n",
    "    y_pred = cls.fit(X_train, y_train).predict(X_test)\n",
    "    cnf_matrix = confusion_matrix(y_test, y_pred)\n",
    "    return cnf_matrix, cls.score(X_test,y_test)"
   ]
  },
  {
   "cell_type": "code",
   "execution_count": 6,
   "metadata": {
    "collapsed": false
   },
   "outputs": [
    {
     "name": "stdout",
     "output_type": "stream",
     "text": [
      "0.814157335742\n",
      "(array([[13581,   278],\n",
      "       [ 1477,   395]]), 0.88843684444726967)\n"
     ]
    }
   ],
   "source": [
    "t = tree.DecisionTreeClassifier(max_depth=3)\n",
    "scores = cross_validation.cross_val_score(t, X, y, cv=5)\n",
    "print scores.mean()\n",
    "print calculate_cnf(X,'Term deposit?',t,y)"
   ]
  },
  {
   "cell_type": "code",
   "execution_count": 55,
   "metadata": {
    "collapsed": false
   },
   "outputs": [
    {
     "name": "stdout",
     "output_type": "stream",
     "text": [
      "0.710744944415\n",
      "(array([[13506,   418],\n",
      "       [ 1167,   662]]), 0.89938424427093255)\n"
     ]
    }
   ],
   "source": [
    "t = ensemble.RandomForestClassifier(n_estimators=30)\n",
    "scores = cross_validation.cross_val_score(t, X, y, cv=5)\n",
    "print scores.mean()\n",
    "print calculate_cnf(X,'Term deposit?',t,y)"
   ]
  },
  {
   "cell_type": "code",
   "execution_count": 23,
   "metadata": {
    "collapsed": false
   },
   "outputs": [
    {
     "name": "stdout",
     "output_type": "stream",
     "text": [
      "0.469629505755\n",
      "(array([[13612,   389],\n",
      "       [ 1443,   428]]), 0.88457661290322576)\n"
     ]
    }
   ],
   "source": [
    "t = ensemble.ExtraTreesClassifier(n_estimators=15)\n",
    "scores = cross_validation.cross_val_score(t, X, y, cv=5)\n",
    "print scores.mean()\n",
    "print calculate_cnf(X,'Term deposit?',t,y)"
   ]
  },
  {
   "cell_type": "code",
   "execution_count": 9,
   "metadata": {
    "collapsed": false
   },
   "outputs": [
    {
     "name": "stdout",
     "output_type": "stream",
     "text": [
      "0.822783479189\n",
      "(array([[13755,     0],\n",
      "       [ 1856,     0]]), 0.8811094740887836)\n"
     ]
    }
   ],
   "source": [
    "t = tree.DecisionTreeClassifier(min_samples_split=22000)\n",
    "scores = cross_validation.cross_val_score(t, X, y, cv=5)\n",
    "print scores.mean()\n",
    "print calculate_cnf(X,'Term deposit?',t,y)"
   ]
  },
  {
   "cell_type": "code",
   "execution_count": 10,
   "metadata": {
    "collapsed": false
   },
   "outputs": [
    {
     "name": "stdout",
     "output_type": "stream",
     "text": [
      "0.898896286302\n",
      "[0 1]\n",
      "[ 0.03734651  0.          0.          0.          0.          0.\n",
      "  0.02085809  0.          0.03326847  0.          0.10476479  0.57542331\n",
      "  0.          0.06377384  0.          0.16456499]\n",
      "(array([[13471,   532],\n",
      "       [ 1050,   781]]), 0.90008841732979661)\n"
     ]
    }
   ],
   "source": [
    "y = bank['Term deposit?']\n",
    "X = bank.drop('Term deposit?',axis = 1)\n",
    "t = tree.DecisionTreeClassifier(max_leaf_nodes=15)\n",
    "t = t.fit(X, y)\n",
    "print t.score(X,y)\n",
    "print t.classes_\n",
    "print t.feature_importances_\n",
    "print calculate_cnf(X,'Term deposit?',t,y)"
   ]
  },
  {
   "cell_type": "code",
   "execution_count": 11,
   "metadata": {
    "collapsed": false
   },
   "outputs": [
    {
     "name": "stdout",
     "output_type": "stream",
     "text": [
      "0.749524053531\n",
      "[ 0.03734651  0.          0.02085809  0.03326847  0.10476479  0.57542331\n",
      "  0.06377384  0.16456499  0.        ]\n",
      "Index([u'age', u'balance', u'housing', u'contact', u'month', u'duration',\n",
      "       u'pdays', u'poutcome', u'train'],\n",
      "      dtype='object')\n",
      "(array([[13574,   356],\n",
      "       [ 1253,   613]]), 0.89813876930868575)\n"
     ]
    }
   ],
   "source": [
    "col = X.columns\n",
    "X = X.drop(col[1],axis = 1)\n",
    "X = X.drop(col[2],axis = 1)\n",
    "X = X.drop(col[3],axis = 1)\n",
    "X = X.drop(col[4],axis = 1)\n",
    "X = X.drop(col[7],axis = 1)\n",
    "X = X.drop(col[9],axis = 1)\n",
    "X = X.drop(col[12],axis = 1)\n",
    "X = X.drop(col[14],axis = 1)\n",
    "t = tree.DecisionTreeClassifier(max_leaf_nodes=15)\n",
    "#print column,t.score(X,y)\n",
    "scores = cross_validation.cross_val_score(t, X, y, cv=5)\n",
    "print scores.mean()\n",
    "t = t.fit(X, y)\n",
    "print t.feature_importances_\n",
    "print X.columns\n",
    "print calculate_cnf(X,'Term deposit?',t,y)"
   ]
  },
  {
   "cell_type": "code",
   "execution_count": 12,
   "metadata": {
    "collapsed": false
   },
   "outputs": [
    {
     "name": "stdout",
     "output_type": "stream",
     "text": [
      "0.892791577271\n",
      "[ 0.15017816  0.          0.00316275  0.          0.          0.          0.\n",
      "  0.          0.06788533  0.01268403  0.23375976  0.          0.12990689\n",
      "  0.00543064  0.39699244]\n",
      "(array([[13929,   133],\n",
      "       [ 1584,   306]]), 0.89236459378134403)\n"
     ]
    }
   ],
   "source": [
    "y = bank['Term deposit?']\n",
    "X = bank.drop('Term deposit?',axis = 1)\n",
    "X = X.drop('duration',axis=1)\n",
    "t = tree.DecisionTreeClassifier(max_leaf_nodes=15, max_depth=3 )\n",
    "t = t.fit(X, y)\n",
    "print t.score(X,y)\n",
    "print t.feature_importances_\n",
    "with open(\"bank3.dot\", \"w\") as f:\n",
    "    tree.export_graphviz(t, out_file=f, feature_names=X.columns)\n",
    "print calculate_cnf(X,'Term deposit?',t,y)"
   ]
  },
  {
   "cell_type": "code",
   "execution_count": 13,
   "metadata": {
    "collapsed": false
   },
   "outputs": [
    {
     "name": "stdout",
     "output_type": "stream",
     "text": [
      "0.88624449802\n",
      "[ 0.26637549  0.          0.          0.          0.          0.          0.\n",
      "  0.          0.          0.01546997  0.41462667  0.          0.23041973\n",
      "  0.0096325   0.06347564]\n",
      "(array([[13956,    77],\n",
      "       [ 1739,   107]]), 0.88563511556143337)\n"
     ]
    }
   ],
   "source": [
    "y = bank['Term deposit?']\n",
    "X = bank.drop('Term deposit?',axis = 1)\n",
    "X = X.drop('duration',axis=1)\n",
    "t = tree.DecisionTreeClassifier(max_depth=3)\n",
    "t = t.fit(X, y)\n",
    "print t.score(X,y)\n",
    "print t.feature_importances_\n",
    "with open(\"bank4.dot\", \"w\") as f:\n",
    "    tree.export_graphviz(t, out_file=f, feature_names=X.columns)\n",
    "#bez duration duzo gorzej\n",
    "print calculate_cnf(X,'Term deposit?',t,y)"
   ]
  },
  {
   "cell_type": "code",
   "execution_count": 14,
   "metadata": {
    "collapsed": false
   },
   "outputs": [
    {
     "name": "stdout",
     "output_type": "stream",
     "text": [
      "0.81866930111\n",
      "(array([[13930,   199],\n",
      "       [ 1724,   189]]), 0.88012716618875453)\n"
     ]
    }
   ],
   "source": [
    "t = tree.DecisionTreeClassifier(max_depth=3)\n",
    "scores = cross_validation.cross_val_score(t, X, y, cv=5)\n",
    "print scores.mean()\n",
    "print calculate_cnf(X,'Term deposit?',t,y)"
   ]
  },
  {
   "cell_type": "code",
   "execution_count": 15,
   "metadata": {
    "collapsed": false
   },
   "outputs": [
    {
     "name": "stdout",
     "output_type": "stream",
     "text": [
      "(array([[13697,   417],\n",
      "       [ 1328,   535]]), 0.89078049696438633)\n"
     ]
    }
   ],
   "source": [
    "t = tree.DecisionTreeClassifier(max_depth=3,random_state=0)\n",
    "print calculate_cnf(bank,'Term deposit?',t)"
   ]
  },
  {
   "cell_type": "code",
   "execution_count": 16,
   "metadata": {
    "collapsed": false
   },
   "outputs": [
    {
     "name": "stdout",
     "output_type": "stream",
     "text": [
      "(array([[13664,   295],\n",
      "       [ 1449,   389]]), 0.8895992910046211)\n"
     ]
    }
   ],
   "source": [
    "t = tree.DecisionTreeClassifier(max_depth=2,random_state=0)\n",
    "print calculate_cnf(bank,'Term deposit?',t)\n",
    "# to w sumie tez jest fajne bi w stosunkowo niewielkiej czesci(1/6 danych) znajduje sie ponad polowa tych co brali kredyty"
   ]
  },
  {
   "cell_type": "code",
   "execution_count": null,
   "metadata": {
    "collapsed": true
   },
   "outputs": [],
   "source": []
  },
  {
   "cell_type": "code",
   "execution_count": null,
   "metadata": {
    "collapsed": true
   },
   "outputs": [],
   "source": []
  },
  {
   "cell_type": "code",
   "execution_count": null,
   "metadata": {
    "collapsed": true
   },
   "outputs": [],
   "source": []
  }
 ],
 "metadata": {
  "anaconda-cloud": {},
  "kernelspec": {
   "display_name": "Python [default]",
   "language": "python",
   "name": "python2"
  },
  "language_info": {
   "codemirror_mode": {
    "name": "ipython",
    "version": 2
   },
   "file_extension": ".py",
   "mimetype": "text/x-python",
   "name": "python",
   "nbconvert_exporter": "python",
   "pygments_lexer": "ipython2",
   "version": "2.7.12"
  }
 },
 "nbformat": 4,
 "nbformat_minor": 1
}
