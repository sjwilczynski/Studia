{
 "cells": [
  {
   "cell_type": "code",
   "execution_count": 1,
   "metadata": {
    "collapsed": false
   },
   "outputs": [],
   "source": [
    "import numpy as np\n",
    "import matplotlib.pyplot as plt\n",
    "%matplotlib inline\n",
    "import pandas as pd\n",
    "from sklearn import datasets, linear_model\n",
    "from sklearn import cross_validation, svm\n",
    "import os\n",
    "\n",
    "data = np.zeros((2600,165*120))\n",
    "\n",
    "\n",
    "def pca(X, wsp):\n",
    "    n,m = np.shape(X)\n",
    "    X_mean = np.mean(X, axis = 0)\n",
    "    X_std = np.std(X,axis = 0)\n",
    "    X_standarized = (X - X_mean)/X_std\n",
    "    S = np.cov(X_standarized.T)\n",
    "    D,V = np.linalg.eigh(S)\n",
    "    #rint \"suma wartosci wlasnych:\",np.sum(D)\n",
    "    Y = np.dot(V.T,X_standarized.T).T\n",
    "    D_bis = np.matrix(1/np.sqrt(D)).reshape(m,1)\n",
    "    Y_new = np.multiply(D_bis,Y.T).T\n",
    "    k = 1; \n",
    "    suma = np.sum(D)\n",
    "    print Y_new.shape\n",
    "    while(np.sum(D[-k:])/suma < wsp):\n",
    "        k = k+1\n",
    "    return Y_new[:,-k:], D[-k:], V[:,-k:], k\n",
    "\n",
    "\n",
    "def PCA(X, k):\n",
    "    n,m = np.shape(X)\n",
    "    X_mean = np.mean(X, axis = 0)\n",
    "    X_std = np.std(X,axis = 0)\n",
    "    X_standarized = (X - X_mean)/X_std\n",
    "    S = np.cov(X_standarized.T)\n",
    "    D,V = np.linalg.eigh(S)\n",
    "    #print \"suma wartosci wlasnych:\",np.sum(D)\n",
    "    Y = np.dot(V.T,X_standarized.T).T\n",
    "    D_bis = np.matrix(1/np.sqrt(D)).reshape(m,1)\n",
    "    Y_new = np.multiply(D_bis,Y.T).T\n",
    "    #print Y_new\n",
    "    return Y_new[:,-k:]\n",
    "\n",
    "\n",
    "def nearestPoints(knownData,testData,k):\n",
    "    D1 = np.sum(np.square(knownData),axis = 1,keepdims=True)\n",
    "    D2 = np.sum(np.square(testData),axis = 1,keepdims=True).T\n",
    "    M = D1 + D2 - 2. * np.dot(knownData,testData.T)\n",
    "    #print M\n",
    "    return np.asarray(np.argsort(M,axis=0)[:k,:].T)\n",
    "    \n",
    "\n",
    "def KNN(knownData, testData, knownClass, testClass,k):\n",
    "    error = 0\n",
    "    nearest = nearestPoints(knownData,testData,k)\n",
    "    #print nearest\n",
    "    length = testData.shape[0]\n",
    "    nearestClass = np.empty(length)\n",
    "    error_list = []\n",
    "    for i in range(0,length):\n",
    "        #print i,nearest[i]\n",
    "        nearestClass[i] = np.argmax(np.bincount([knownClass[a] for a in nearest[i]]))\n",
    "        if(not(nearestClass[i] == testClass[i])):\n",
    "           error += 1\n",
    "           error_list = np.append(error_list, [i])\n",
    "    return error, error_list\n",
    "\n",
    "from scipy import misc\n",
    "from IPython.display import Image\n",
    "#from PIL import Image\n",
    "from IPython.display import display\n",
    "def pokaz(i):\n",
    "    zdj1 = data[i,:]\n",
    "    #plt.figure(figsize=(10,4))\n",
    "    image = zdj1.reshape(165,120)\n",
    "    #plt.imshow(image)\n",
    "    outfile = \"photo_tmp.jpg\"\n",
    "    misc.imsave(outfile,image)\n",
    "    p2 = Image(outfile)\n",
    "    display(p2)"
   ]
  },
  {
   "cell_type": "code",
   "execution_count": 2,
   "metadata": {
    "collapsed": false
   },
   "outputs": [],
   "source": [
    "def loadPhoto(file):\n",
    "    photo = misc.imread(file)\n",
    "    R = photo[:, :, 0]\n",
    "    G = photo[:, :, 1]\n",
    "    B = photo[:, :, 2]\n",
    "    img_gray = R * 299. / 1000 + G * 587. / 1000 + B * 114. / 1000\n",
    "    return img_gray.reshape(165*120,1)\n",
    "def readAllPhotos(data):\n",
    "    i = 0\n",
    "    filenames = []\n",
    "    for filename in os.listdir('lista7danefull'):\n",
    "        if(filename.endswith(\".bmp\")):\n",
    "            filenames.append('lista7danefull/'+filename)\n",
    "            i += 1\n",
    "    filenames = np.sort(filenames)\n",
    "    for i in range(filenames.size):\n",
    "        data[i,:] = loadPhoto(filenames[i])[:,0]"
   ]
  },
  {
   "cell_type": "code",
   "execution_count": 3,
   "metadata": {
    "collapsed": false
   },
   "outputs": [],
   "source": [
    "readAllPhotos(data)"
   ]
  },
  {
   "cell_type": "code",
   "execution_count": 4,
   "metadata": {
    "collapsed": false
   },
   "outputs": [
    {
     "data": {
      "image/jpeg": "[encoded data removed]",
      "text/plain": [
       "<IPython.core.display.Image object>"
      ]
     },
     "metadata": {},
     "output_type": "display_data"
    }
   ],
   "source": [
    "pokaz(0)"
   ]
  },
  {
   "cell_type": "code",
   "execution_count": 5,
   "metadata": {
    "collapsed": false
   },
   "outputs": [],
   "source": [
    "dataClass = [int((k-1)/26) + 1 for k in range(1,2601)]"
   ]
  },
  {
   "cell_type": "code",
   "execution_count": 6,
   "metadata": {
    "collapsed": true
   },
   "outputs": [],
   "source": [
    "def crossValidation(data,dataClass,k):\n",
    "    size = data.shape[0]\n",
    "    arr = np.arange(size)\n",
    "    np.random.shuffle(arr)\n",
    "    err = 0\n",
    "    n = int(size/10)\n",
    "    for i in range(10):\n",
    "        mask2 = arr[np.arange(i*n,min((i+1)*n,size))]\n",
    "        mask1 = arr[np.concatenate((np.arange(i*n),np.arange((i+1)*n,size)))]\n",
    "        er = KNN(data[mask1],data[mask2],dataClass[mask1],dataClass[mask2],k)\n",
    "        #print er\n",
    "        err += er[0]\n",
    "    return float(err)/(size) * 100"
   ]
  },
  {
   "cell_type": "code",
   "execution_count": 7,
   "metadata": {
    "collapsed": true
   },
   "outputs": [],
   "source": [
    "def everything(X,Xclass,k):\n",
    "    Y = np.asarray(PCA(X,k))\n",
    "    x1,x2 = zip(*np.random.permutation(zip(X,Xclass)))\n",
    "    X1, X1class = np.asarray(x1),np.asarray(x2)\n",
    "    y1,y2 = zip(*np.random.permutation(zip(Y,Xclass)))\n",
    "    Y1, Y1class = np.asarray(y1),np.asarray(y2)\n",
    "    for i in range(1,10):\n",
    "        print i\n",
    "        print \"Dla oryginalnego zbioru:\",crossValidation(X1,X1class,i),\"%\"\n",
    "        print \"Dla zredukowanych danych:\",crossValidation(Y1,Y1class,i),\"%\""
   ]
  },
  {
   "cell_type": "code",
   "execution_count": 8,
   "metadata": {
    "collapsed": true
   },
   "outputs": [],
   "source": [
    "def everything2(X,Xclass,k):\n",
    "    Y, D, V, k1 = pca(X,k)\n",
    "    print k1\n",
    "    Y = np.asarray(Y)\n",
    "    x1,x2 = zip(*np.random.permutation(zip(X,Xclass)))\n",
    "    X1, X1class = np.asarray(x1),np.asarray(x2)\n",
    "    y1,y2 = zip(*np.random.permutation(zip(Y,Xclass)))\n",
    "    Y1, Y1class = np.asarray(y1),np.asarray(y2)\n",
    "    for i in range(1,10):\n",
    "        print i\n",
    "        print \"Dla oryginalnego zbioru:\",crossValidation(X1,X1class,i), \"%\"\n",
    "        print \"Dla zredukowanych danych:\",crossValidation(Y1,Y1class,i), \"%\""
   ]
  },
  {
   "cell_type": "code",
   "execution_count": 9,
   "metadata": {
    "collapsed": false
   },
   "outputs": [
    {
     "name": "stdout",
     "output_type": "stream",
     "text": [
      "(2600, 19800)\n",
      "127\n",
      "1\n",
      "Dla oryginalnego zbioru: 38.8846153846 %\n",
      "Dla zredukowanych danych: 5.92307692308 %\n",
      "2\n",
      "Dla oryginalnego zbioru: 55.8076923077 %\n",
      "Dla zredukowanych danych: 11.5384615385 %\n",
      "3\n",
      "Dla oryginalnego zbioru: 61.5384615385 %\n",
      "Dla zredukowanych danych: 10.8846153846 %\n",
      "4\n",
      "Dla oryginalnego zbioru: 64.8076923077 %\n",
      "Dla zredukowanych danych: 10.5384615385 %\n",
      "5\n",
      "Dla oryginalnego zbioru: 67.1538461538 %\n",
      "Dla zredukowanych danych: 9.76923076923 %\n",
      "6\n",
      "Dla oryginalnego zbioru: 69.7307692308 %\n",
      "Dla zredukowanych danych: 9.92307692308 %\n",
      "7\n",
      "Dla oryginalnego zbioru: 71.0384615385 %\n",
      "Dla zredukowanych danych: 9.92307692308 %\n",
      "8\n",
      "Dla oryginalnego zbioru: 73.3076923077 %\n",
      "Dla zredukowanych danych: 10.6153846154 %\n",
      "9\n",
      "Dla oryginalnego zbioru: 73.0 %\n",
      "Dla zredukowanych danych: 10.8076923077 %\n"
     ]
    }
   ],
   "source": [
    "everything2(data,dataClass,0.95) #127"
   ]
  },
  {
   "cell_type": "code",
   "execution_count": 10,
   "metadata": {
    "collapsed": false
   },
   "outputs": [
    {
     "name": "stdout",
     "output_type": "stream",
     "text": [
      "1\n",
      "Dla oryginalnego zbioru: 39.3461538462 %\n",
      "Dla zredukowanych danych: 8.73076923077 %\n",
      "2\n",
      "Dla oryginalnego zbioru: 55.2307692308 %\n",
      "Dla zredukowanych danych: 16.2307692308 %\n",
      "3\n",
      "Dla oryginalnego zbioru: 60.9230769231 %\n",
      "Dla zredukowanych danych: 14.3846153846 %\n",
      "4\n",
      "Dla oryginalnego zbioru: 63.8461538462 %\n",
      "Dla zredukowanych danych: 14.6538461538 %\n",
      "5\n",
      "Dla oryginalnego zbioru: 67.2692307692 %\n",
      "Dla zredukowanych danych: 13.1923076923 %\n",
      "6\n",
      "Dla oryginalnego zbioru: 70.0769230769 %\n",
      "Dla zredukowanych danych: 13.0769230769 %\n",
      "7\n",
      "Dla oryginalnego zbioru: 71.4230769231 %\n",
      "Dla zredukowanych danych: 13.0384615385 %\n",
      "8\n",
      "Dla oryginalnego zbioru: 72.1538461538 %\n",
      "Dla zredukowanych danych: 13.0 %\n",
      "9\n",
      "Dla oryginalnego zbioru: 73.7307692308 %\n",
      "Dla zredukowanych danych: 13.2307692308 %\n"
     ]
    }
   ],
   "source": [
    "N = 75\n",
    "everything(data,dataClass,N)"
   ]
  },
  {
   "cell_type": "code",
   "execution_count": 11,
   "metadata": {
    "collapsed": false
   },
   "outputs": [
    {
     "name": "stdout",
     "output_type": "stream",
     "text": [
      "1\n",
      "Dla oryginalnego zbioru: 38.3461538462 %\n",
      "Dla zredukowanych danych: 6.73076923077 %\n",
      "2\n",
      "Dla oryginalnego zbioru: 55.2307692308 %\n",
      "Dla zredukowanych danych: 13.3846153846 %\n",
      "3\n",
      "Dla oryginalnego zbioru: 61.1538461538 %\n",
      "Dla zredukowanych danych: 11.6923076923 %\n",
      "4\n",
      "Dla oryginalnego zbioru: 64.6923076923 %\n",
      "Dla zredukowanych danych: 11.4615384615 %\n",
      "5\n",
      "Dla oryginalnego zbioru: 67.2307692308 %\n",
      "Dla zredukowanych danych: 10.7307692308 %\n",
      "6\n",
      "Dla oryginalnego zbioru: 70.5 %\n",
      "Dla zredukowanych danych: 10.4230769231 %\n",
      "7\n",
      "Dla oryginalnego zbioru: 71.8076923077 %\n",
      "Dla zredukowanych danych: 10.6153846154 %\n",
      "8\n",
      "Dla oryginalnego zbioru: 72.5384615385 %\n",
      "Dla zredukowanych danych: 10.3076923077 %\n",
      "9\n",
      "Dla oryginalnego zbioru: 74.3461538462 %\n",
      "Dla zredukowanych danych: 10.0384615385 %\n"
     ]
    }
   ],
   "source": [
    "N = 100\n",
    "everything(data,dataClass,N)"
   ]
  },
  {
   "cell_type": "code",
   "execution_count": 12,
   "metadata": {
    "collapsed": false
   },
   "outputs": [
    {
     "name": "stdout",
     "output_type": "stream",
     "text": [
      "1\n",
      "Dla oryginalnego zbioru: 39.3461538462 %\n",
      "Dla zredukowanych danych: 7.65384615385 %\n",
      "2\n",
      "Dla oryginalnego zbioru: 54.2692307692 %\n",
      "Dla zredukowanych danych: 12.1923076923 %\n",
      "3\n",
      "Dla oryginalnego zbioru: 61.1923076923 %\n",
      "Dla zredukowanych danych: 11.3076923077 %\n",
      "4\n",
      "Dla oryginalnego zbioru: 64.7307692308 %\n",
      "Dla zredukowanych danych: 11.7307692308 %\n",
      "5\n",
      "Dla oryginalnego zbioru: 67.3846153846 %\n",
      "Dla zredukowanych danych: 12.2307692308 %\n",
      "6\n",
      "Dla oryginalnego zbioru: 70.1153846154 %\n",
      "Dla zredukowanych danych: 13.5384615385 %\n",
      "7\n",
      "Dla oryginalnego zbioru: 71.1538461538 %\n",
      "Dla zredukowanych danych: 14.1923076923 %\n",
      "8\n",
      "Dla oryginalnego zbioru: 72.8461538462 %\n",
      "Dla zredukowanych danych: 14.3846153846 %\n",
      "9\n",
      "Dla oryginalnego zbioru: 74.0384615385 %\n",
      "Dla zredukowanych danych: 15.6538461538 %\n"
     ]
    }
   ],
   "source": [
    "N = 200\n",
    "everything(data,dataClass,N)"
   ]
  },
  {
   "cell_type": "code",
   "execution_count": null,
   "metadata": {
    "collapsed": false
   },
   "outputs": [
    {
     "name": "stdout",
     "output_type": "stream",
     "text": [
      "1\n",
      "Dla oryginalnego zbioru: 38.8461538462 %\n",
      "Dla zredukowanych danych: 22.3076923077 %\n",
      "2\n",
      "Dla oryginalnego zbioru: 56.0 %\n",
      "Dla zredukowanych danych: 31.6153846154 %\n",
      "3\n",
      "Dla oryginalnego zbioru: 61.3846153846 %\n",
      "Dla zredukowanych danych: 35.4615384615 %\n",
      "4\n",
      "Dla oryginalnego zbioru: 64.3846153846 %\n",
      "Dla zredukowanych danych: 38.9615384615 %\n",
      "5\n",
      "Dla oryginalnego zbioru: 68.2307692308 %\n",
      "Dla zredukowanych danych: 42.1153846154 %\n",
      "6\n",
      "Dla oryginalnego zbioru: 70.1153846154 %\n",
      "Dla zredukowanych danych: 44.3076923077 %\n",
      "7\n",
      "Dla oryginalnego zbioru: 72.0384615385 %\n",
      "Dla zredukowanych danych: 47.6538461538 %\n",
      "8\n",
      "Dla oryginalnego zbioru: 73.6153846154 %\n",
      "Dla zredukowanych danych: 48.9230769231 %\n",
      "9\n",
      "Dla oryginalnego zbioru: 73.9615384615 %\n",
      "Dla zredukowanych danych: 51.6923076923 %\n"
     ]
    }
   ],
   "source": [
    "N = 500\n",
    "everything(data,dataClass,N)"
   ]
  },
  {
   "cell_type": "code",
   "execution_count": null,
   "metadata": {
    "collapsed": true
   },
   "outputs": [],
   "source": [
    "N = 1000\n",
    "everything(data,dataClass,N)"
   ]
  },
  {
   "cell_type": "code",
   "execution_count": null,
   "metadata": {
    "collapsed": true
   },
   "outputs": [],
   "source": []
  }
 ],
 "metadata": {
  "anaconda-cloud": {},
  "kernelspec": {
   "display_name": "Python [default]",
   "language": "python",
   "name": "python2"
  },
  "language_info": {
   "codemirror_mode": {
    "name": "ipython",
    "version": 2
   },
   "file_extension": ".py",
   "mimetype": "text/x-python",
   "name": "python",
   "nbconvert_exporter": "python",
   "pygments_lexer": "ipython2",
   "version": "2.7.12"
  }
 },
 "nbformat": 4,
 "nbformat_minor": 1
}
