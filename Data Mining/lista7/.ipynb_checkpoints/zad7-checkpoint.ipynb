{
 "cells": [
  {
   "cell_type": "code",
   "execution_count": 136,
   "metadata": {
    "collapsed": false
   },
   "outputs": [],
   "source": [
    "import numpy as np\n",
    "import matplotlib.pyplot as plt\n",
    "%matplotlib inline\n",
    "import pandas as pd\n",
    "from sklearn import tree\n",
    "from sklearn import ensemble\n",
    "from sklearn import datasets, linear_model\n",
    "from sklearn import cross_validation, svm\n",
    "from sklearn.metrics import confusion_matrix\n",
    "from sklearn.cluster import KMeans\n",
    "from sklearn.metrics import silhouette_score\n",
    "import scipy.io\n",
    "import os\n",
    "\n",
    "data = np.zeros((2600,165*120*3))\n",
    "\n",
    "\n",
    "def pca(X, wsp):\n",
    "    n,m = np.shape(X)\n",
    "    X_mean = np.mean(X, axis = 0)\n",
    "    X_std = np.std(X,axis = 0)\n",
    "    X_standarized = (X - X_mean)/X_std\n",
    "    S = np.cov(X_standarized.T)\n",
    "    D,V = np.linalg.eigh(S)\n",
    "    #rint \"suma wartosci wlasnych:\",np.sum(D)\n",
    "    Y = np.dot(V.T,X_standarized.T).T\n",
    "    D_bis = np.matrix(1/np.sqrt(D)).reshape(m,1)\n",
    "    Y_new = np.multiply(D_bis,Y.T).T\n",
    "    k = 1; \n",
    "    suma = np.sum(D)\n",
    "    while(np.sum(D[-k:])/suma < wsp):\n",
    "        k = k+1\n",
    "    return Y_new[:,-k:], D[-k:], V[:,-k:], k\n",
    "\n",
    "\n",
    "def PCA(X, k):\n",
    "    n,m = np.shape(X)\n",
    "    X_mean = np.mean(X, axis = 0)\n",
    "    X_std = np.std(X,axis = 0)\n",
    "    X_standarized = (X - X_mean)/X_std\n",
    "    S = np.cov(X_standarized.T)\n",
    "    D,V = np.linalg.eigh(S)\n",
    "    #print \"suma wartosci wlasnych:\",np.sum(D)\n",
    "    Y = np.dot(V.T,X_standarized.T).T\n",
    "    D_bis = np.matrix(1/np.sqrt(D)).reshape(m,1)\n",
    "    Y_new = np.multiply(D_bis,Y.T).T\n",
    "    #print Y_new\n",
    "    return Y_new[:,-k:]\n",
    "\n",
    "\n",
    "def nearestPoints(knownData,testData,k):\n",
    "    D1 = np.sum(np.square(knownData),axis = 1,keepdims=True)\n",
    "    D2 = np.sum(np.square(testData),axis = 1,keepdims=True).T\n",
    "    M = D1 + D2 - 2. * np.dot(knownData,testData.T)\n",
    "    #print M\n",
    "    return np.asarray(np.argsort(M,axis=0)[:k,:].T)\n",
    "    \n",
    "\n",
    "def KNN(knownData, testData, knownClass, testClass,k):\n",
    "    error = 0\n",
    "    nearest = nearestPoints(knownData,testData,k)\n",
    "    #print nearest\n",
    "    length = testData.shape[0]\n",
    "    nearestClass = np.empty(length)\n",
    "    error_list = []\n",
    "    for i in range(0,length):\n",
    "        #print i,nearest[i]\n",
    "        nearestClass[i] = np.argmax(np.bincount([knownClass[a] for a in nearest[i]]))\n",
    "        if(not(nearestClass[i] == testClass[i])):\n",
    "           error += 1\n",
    "           error_list = np.append(error_list, [i])\n",
    "    return error, error_list\n",
    "\n",
    "from scipy import misc\n",
    "from IPython.display import Image\n",
    "#from PIL import Image\n",
    "from IPython.display import display\n",
    "def pokaz(i):\n",
    "    zdj1 = data[i,:]\n",
    "    #plt.figure(figsize=(10,4))\n",
    "    image = zdj1.reshape(165,120,3)\n",
    "    #plt.imshow(image)\n",
    "    outfile = \"photo_tmp.jpg\"\n",
    "    misc.imsave(outfile,image)\n",
    "    p2 = Image(outfile)\n",
    "    display(p2)"
   ]
  },
  {
   "cell_type": "code",
   "execution_count": 137,
   "metadata": {
    "collapsed": false
   },
   "outputs": [],
   "source": [
    "def loadPhoto(file):\n",
    "    photo = misc.imread(file)\n",
    "    return photo.reshape(165*120*3,1)\n",
    "def readAllPhotos(data):\n",
    "    i = 0\n",
    "    filenames = []\n",
    "    for filename in os.listdir('lista7danefull'):\n",
    "        if(filename.endswith(\".bmp\")):\n",
    "            filenames.append('lista7danefull/'+filename)\n",
    "    filenames = np.sort(filenames)\n",
    "    for i in range(filenames.size):\n",
    "        data[i,:] = loadPhoto(filenames[i])[:,0]"
   ]
  },
  {
   "cell_type": "code",
   "execution_count": 138,
   "metadata": {
    "collapsed": false
   },
   "outputs": [],
   "source": [
    "readAllPhotos(data)"
   ]
  },
  {
   "cell_type": "code",
   "execution_count": 139,
   "metadata": {
    "collapsed": false
   },
   "outputs": [
    {
     "data": {
      "image/jpeg": "[encoded data removed]",
      "text/plain": [
       "<IPython.core.display.Image object>"
      ]
     },
     "metadata": {},
     "output_type": "display_data"
    }
   ],
   "source": [
    "pokaz(0)"
   ]
  },
  {
   "cell_type": "code",
   "execution_count": 150,
   "metadata": {
    "collapsed": false
   },
   "outputs": [
    {
     "name": "stdout",
     "output_type": "stream",
     "text": [
      "2600\n"
     ]
    }
   ],
   "source": [
    "dataClass = [int((k-1)/26) + 1 for k in range(1,2601)]"
   ]
  },
  {
   "cell_type": "code",
   "execution_count": 3,
   "metadata": {
    "collapsed": true
   },
   "outputs": [],
   "source": [
    "def crossValidation(data,dataClass,k):\n",
    "    size = data.shape[0]\n",
    "    arr = np.arange(size)\n",
    "    np.random.shuffle(arr)\n",
    "    err = 0\n",
    "    n = int(size/10)\n",
    "    for i in range(10):\n",
    "        mask2 = arr[np.arange(i*n,min((i+1)*n,size))]\n",
    "        mask1 = arr[np.concatenate((np.arange(i*n),np.arange((i+1)*n,size)))]\n",
    "        er = KNN(data[mask1],data[mask2],dataClass[mask1],dataClass[mask2],k)\n",
    "        #print er\n",
    "        err += er[0]\n",
    "    return err"
   ]
  },
  {
   "cell_type": "code",
   "execution_count": 151,
   "metadata": {
    "collapsed": true
   },
   "outputs": [],
   "source": [
    "def everything(X,Xclass,k):\n",
    "    Y, D, V, k1 = np.asarray(pca(X,k))\n",
    "    print k1\n",
    "    x1,x2 = zip(*np.random.permutation(zip(X,Xclass)))\n",
    "    X1, X1class = np.asarray(x1),np.asarray(x2)\n",
    "    y1,y2 = zip(*np.random.permutation(zip(Y,Xclass)))\n",
    "    Y1, Y1class = np.asarray(y1),np.asarray(y2)\n",
    "    for i in range(1,10):\n",
    "        print i\n",
    "        print \"Dla oryginalnego zbioru:\",crossValidation(X1,X1class,i)\n",
    "        print \"Dla zredukowanych danych:\",crossValidation(Y1,Y1class,i)"
   ]
  },
  {
   "cell_type": "code",
   "execution_count": null,
   "metadata": {
    "collapsed": true
   },
   "outputs": [],
   "source": []
  }
 ],
 "metadata": {
  "kernelspec": {
   "display_name": "Python [default]",
   "language": "python",
   "name": "python2"
  },
  "language_info": {
   "codemirror_mode": {
    "name": "ipython",
    "version": 2
   },
   "file_extension": ".py",
   "mimetype": "text/x-python",
   "name": "python",
   "nbconvert_exporter": "python",
   "pygments_lexer": "ipython2",
   "version": "2.7.12"
  }
 },
 "nbformat": 4,
 "nbformat_minor": 1
}
