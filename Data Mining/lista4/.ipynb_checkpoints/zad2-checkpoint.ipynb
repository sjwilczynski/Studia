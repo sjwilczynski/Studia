{
 "cells": [
  {
   "cell_type": "code",
   "execution_count": 1,
   "metadata": {
    "collapsed": false
   },
   "outputs": [
    {
     "name": "stderr",
     "output_type": "stream",
     "text": [
      "Vendor:  Continuum Analytics, Inc.\n",
      "Package: mkl\n",
      "Message: trial mode expires in 30 days\n"
     ]
    }
   ],
   "source": [
    "% matplotlib inline\n",
    "import numpy as np\n",
    "import matplotlib.pyplot as plt\n",
    "import pandas as pd\n",
    "from sklearn.metrics import silhouette_score\n",
    "\n",
    "from sklearn.cluster import KMeans, MiniBatchKMeans, Birch, DBSCAN"
   ]
  },
  {
   "cell_type": "code",
   "execution_count": 31,
   "metadata": {
    "collapsed": true
   },
   "outputs": [],
   "source": [
    "import matplotlib.colors as colors\n",
    "from itertools import cycle\n",
    "\n",
    "def plotClustering(X, plt_labels):\n",
    "    plt_colors = cycle(colors.cnames.keys())\n",
    "\n",
    "    plt_K = np.unique(plt_labels).size\n",
    "\n",
    "    for k in xrange(plt_K):\n",
    "        color = plt_colors.next()\n",
    "        mask = (plt_labels == k)\n",
    "        plt.plot(X[plt_labels == -1, 0], X[plt_labels == -1, 1], linestyle = 'None', markerfacecolor = 'black', marker = 'o')\n",
    "        plt.plot(X[mask, 0], X[mask, 1], linestyle = 'None', markerfacecolor=color, marker='o')\n",
    "\n",
    "    plt.show()"
   ]
  },
  {
   "cell_type": "code",
   "execution_count": 32,
   "metadata": {
    "collapsed": false
   },
   "outputs": [],
   "source": [
    "def normalize(X):\n",
    "    return (X - np.min(X,axis = 0))/(np.max(X,axis = 0) - np.min(X,axis = 0))\n",
    "def standarize(X):\n",
    "    return (X - np.mean(X,axis = 0))/np.sqrt(np.mean((np.mean(X,axis = 0) - X)**2,axis = 0))\n",
    "\n",
    "n = 300\n",
    "x = 100*np.random.normal(size = n)\n",
    "y = np.concatenate([np.random.normal(size = n/2),10*np.random.normal(size = n/2)])\n",
    "X = np.array([x,y]).T"
   ]
  },
  {
   "cell_type": "code",
   "execution_count": null,
   "metadata": {
    "collapsed": true
   },
   "outputs": [],
   "source": []
  }
 ],
 "metadata": {
  "kernelspec": {
   "display_name": "Python 2",
   "language": "python",
   "name": "python2"
  },
  "language_info": {
   "codemirror_mode": {
    "name": "ipython",
    "version": 2
   },
   "file_extension": ".py",
   "mimetype": "text/x-python",
   "name": "python",
   "nbconvert_exporter": "python",
   "pygments_lexer": "ipython2",
   "version": "2.7.11"
  }
 },
 "nbformat": 4,
 "nbformat_minor": 0
}
