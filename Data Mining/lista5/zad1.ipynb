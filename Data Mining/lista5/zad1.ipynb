{
 "cells": [
  {
   "cell_type": "code",
   "execution_count": 1,
   "metadata": {
    "collapsed": true
   },
   "outputs": [],
   "source": [
    "% matplotlib inline\n",
    "import numpy as np\n",
    "import matplotlib.pyplot as plt\n",
    "import pandas as pd\n",
    "import time\n",
    "from scipy.stats import mode\n",
    "from sklearn import datasets\n",
    "iris = datasets.load_iris() "
   ]
  },
  {
   "cell_type": "code",
   "execution_count": 2,
   "metadata": {
    "collapsed": false
   },
   "outputs": [],
   "source": [
    "def nearestPoints(knownData,testData,k):\n",
    "    D1 = np.sum(np.square(knownData),axis = 1,keepdims=True)\n",
    "    D2 = np.sum(np.square(testData),axis = 1,keepdims=True).T\n",
    "    M = D1 + D2 - 2. * np.dot(knownData,testData.T)\n",
    "    #print M\n",
    "    return np.argsort(M,axis=0)[:k,:].T\n",
    "    \n",
    "\n",
    "def KNN(knownData, testData, knownClass, testClass,k):\n",
    "    error = 0\n",
    "    nearest = nearestPoints(knownData,testData,k)\n",
    "    length = testData.shape[0]\n",
    "    nearestClass = np.empty(length)\n",
    "    #nearestClass = knownClass[np.argmax(np.apply_along_axis())\n",
    "    for i in range(length):\n",
    "        #nearestClass[i] = knownClass[np.argmax(np.bincount(nearest[i]))]\n",
    "        nearestClass[i] = np.argmax(np.bincount([knownClass[a] for a in nearest[i]]))\n",
    "    #for i in range(length):\n",
    "        if(not(nearestClass[i] == testClass[i])):\n",
    "           error += 1\n",
    "    #print nearestClass\n",
    "    return error"
   ]
  },
  {
   "cell_type": "code",
   "execution_count": 3,
   "metadata": {
    "collapsed": false
   },
   "outputs": [],
   "source": [
    "def splitData(data,dataClass,n):\n",
    "    size = data.shape[0]\n",
    "    arr = np.arange(size)\n",
    "    np.random.shuffle(arr)\n",
    "    mask1 = arr[:n]\n",
    "    mask2 = arr[n:]\n",
    "    return data[mask2],data[mask1],dataClass[mask2],dataClass[mask1]"
   ]
  },
  {
   "cell_type": "code",
   "execution_count": 4,
   "metadata": {
    "collapsed": false
   },
   "outputs": [
    {
     "name": "stdout",
     "output_type": "stream",
     "text": [
      "Bląd średni wynosi: 4.4528%\n"
     ]
    }
   ],
   "source": [
    "rep = 5000\n",
    "x = np.empty(rep)\n",
    "for i in range(rep):\n",
    "    knownData, testData, knownClass, testClass = splitData(iris.data,iris.target,50)\n",
    "    x[i] = KNN(knownData,testData,knownClass,testClass,1)\n",
    "print \"Bląd średni wynosi: {}%\".format((np.mean(x)/50) * 100)"
   ]
  },
  {
   "cell_type": "code",
   "execution_count": 5,
   "metadata": {
    "collapsed": false
   },
   "outputs": [
    {
     "name": "stdout",
     "output_type": "stream",
     "text": [
      "[ 10.   7.  15.  12.  13.  10.   9.   6.   8.   9.   7.  10.  10.  14.  13.\n",
      "   6.  11.   8.  12.  12.   8.   9.   7.   9.   8.  10.   9.  11.   7.  12.\n",
      "  13.  11.   8.  10.  11.  17.   7.   7.   5.  12.  10.   7.  13.   9.  12.\n",
      "  13.   7.   7.   9.  11.]\n",
      "Błąd średni wynosi: 1.63666666667%\n"
     ]
    }
   ],
   "source": [
    "digits = datasets.load_digits()\n",
    "#print digits.data.shape\n",
    "#print digits.target\n",
    "rep = 50\n",
    "x = np.empty(rep)\n",
    "for i in range(rep):\n",
    "    knownData, testData, knownClass, testClass = splitData(digits.data,digits.target,600)\n",
    "    x[i] = KNN(knownData,testData,knownClass,testClass,5)\n",
    "print x\n",
    "print \"Błąd średni wynosi: {}%\".format((np.mean(x)/600) * 100)"
   ]
  },
  {
   "cell_type": "code",
   "execution_count": 19,
   "metadata": {
    "collapsed": false
   },
   "outputs": [],
   "source": [
    "def crossValidation(data,dataClass,k):\n",
    "    size = data.shape[0]\n",
    "    arr = np.arange(size)\n",
    "    np.random.shuffle(arr)\n",
    "    err = 0\n",
    "    n = int(size/10)\n",
    "    for i in range(10):\n",
    "        mask2 = arr[np.arange(i*n,min((i+1)*n,size))]\n",
    "        mask1 = arr[np.concatenate((np.arange(i*n),np.arange((i+1)*n,size)))]\n",
    "        #print \"mask1: \",mask1.shape\n",
    "        #print \"mask2 :\",mask2.shape\n",
    "        #print mask1\n",
    "        #print mask2\n",
    "        err += KNN(data[mask1],data[mask2],dataClass[mask1],dataClass[mask2],k)\n",
    "    return err"
   ]
  },
  {
   "cell_type": "code",
   "execution_count": 20,
   "metadata": {
    "collapsed": false
   },
   "outputs": [
    {
     "name": "stdout",
     "output_type": "stream",
     "text": [
      "0.0683989524841 6.3\n"
     ]
    }
   ],
   "source": [
    "rep = 20\n",
    "x = np.empty(rep)\n",
    "t1 = time.time()\n",
    "for i in range(rep):\n",
    "    x[i] = crossValidation(iris.data,iris.target,1)\n",
    "t2 = time.time()\n",
    "print t2-t1,np.mean(x)"
   ]
  },
  {
   "cell_type": "code",
   "execution_count": 21,
   "metadata": {
    "collapsed": false
   },
   "outputs": [
    {
     "name": "stdout",
     "output_type": "stream",
     "text": [
      "5.35454893112 20.9\n"
     ]
    }
   ],
   "source": [
    "rep = 20\n",
    "x = np.empty(rep)\n",
    "t1 = time.time()\n",
    "for i in range(rep):\n",
    "    x[i] = crossValidation(digits.data,digits.target,1)\n",
    "t2 = time.time()\n",
    "print t2 - t1, np.mean(x)"
   ]
  },
  {
   "cell_type": "code",
   "execution_count": null,
   "metadata": {
    "collapsed": true
   },
   "outputs": [],
   "source": []
  }
 ],
 "metadata": {
  "anaconda-cloud": {},
  "kernelspec": {
   "display_name": "Python [default]",
   "language": "python",
   "name": "python2"
  },
  "language_info": {
   "codemirror_mode": {
    "name": "ipython",
    "version": 2
   },
   "file_extension": ".py",
   "mimetype": "text/x-python",
   "name": "python",
   "nbconvert_exporter": "python",
   "pygments_lexer": "ipython2",
   "version": "2.7.12"
  }
 },
 "nbformat": 4,
 "nbformat_minor": 1
}
