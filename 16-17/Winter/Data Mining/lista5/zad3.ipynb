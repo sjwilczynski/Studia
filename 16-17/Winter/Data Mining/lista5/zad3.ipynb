{
 "cells": [
  {
   "cell_type": "code",
   "execution_count": 5,
   "metadata": {
    "collapsed": false
   },
   "outputs": [],
   "source": [
    "% matplotlib inline\n",
    "\n",
    "import numpy as np\n",
    "import matplotlib.pyplot as plt\n",
    "import pandas as pd\n",
    "\n",
    "from sklearn import tree\n",
    "from sklearn import ensemble\n",
    "from sklearn import datasets, linear_model\n",
    "from sklearn import cross_validation, svm\n",
    "\n",
    "iris = datasets.load_iris()\n",
    "\n",
    "irisData = pd.DataFrame(iris.data, columns=iris.feature_names)\n",
    "irisData['species'] = pd.Categorical.from_codes(iris.target, iris.target_names)\n",
    "#irisData.head()\n",
    "\n",
    "tytanicData = pd.read_csv(\"train.csv\")\n",
    "tytanicData = tytanicData.drop(['PassengerId', 'Name', 'Ticket', 'Cabin'], axis = 1)\n",
    "tytanicData = tytanicData.dropna() #usuwanie tych danych gdzie czegos brakuje\n",
    "tytanicData['Sex'] = pd.Categorical.from_array(tytanicData['Sex']).codes\n",
    "tytanicData['Embarked'] = pd.Categorical.from_array(tytanicData['Embarked']).codes\n",
    "#tytanicData.head()"
   ]
  },
  {
   "cell_type": "code",
   "execution_count": 6,
   "metadata": {
    "collapsed": false
   },
   "outputs": [
    {
     "name": "stdout",
     "output_type": "stream",
     "text": [
      "[ 0.93333333  0.93333333  0.96666667  0.95333333  0.95333333  0.96\n",
      "  0.95333333  0.96        0.96        0.97333333  0.96        0.96666667\n",
      "  0.96666667  0.96        0.96        0.96666667  0.95333333  0.96666667\n",
      "  0.96666667  0.96        0.96666667  0.96        0.96666667  0.95333333\n",
      "  0.95333333  0.95333333  0.96        0.95333333  0.95333333  0.96        0.96\n",
      "  0.96        0.96        0.94666667  0.96666667  0.94666667  0.96666667\n",
      "  0.96666667  0.96666667  0.96666667  0.96        0.95333333  0.96        0.96\n",
      "  0.94666667  0.94666667  0.96        0.96        0.96      ]\n"
     ]
    }
   ],
   "source": [
    "y = irisData['species']\n",
    "X = irisData.drop('species', axis = 1)\n",
    "\n",
    "# stworzenie drzewa klasyfikacyjnego\n",
    "scores = np.empty(50)\n",
    "for i in range (1,50):\n",
    "    t = ensemble.RandomForestClassifier(n_estimators=i)\n",
    "    score = cross_validation.cross_val_score(t,X,y,cv=10)\n",
    "    scores[i] = score.mean()\n",
    "print scores[1:]"
   ]
  },
  {
   "cell_type": "code",
   "execution_count": 7,
   "metadata": {
    "collapsed": false
   },
   "outputs": [
    {
     "name": "stdout",
     "output_type": "stream",
     "text": [
      "[ 0.96        0.95333333  0.96        0.94        0.95333333  0.94666667\n",
      "  0.94666667  0.96        0.95333333  0.96666667  0.94666667  0.96\n",
      "  0.94666667  0.96        0.96        0.95333333  0.94666667  0.94\n",
      "  0.95333333  0.96        0.95333333  0.96        0.94666667  0.95333333\n",
      "  0.95333333  0.94666667  0.95333333  0.95333333  0.95333333  0.95333333\n",
      "  0.94666667  0.95333333  0.96666667  0.95333333  0.95333333  0.95333333\n",
      "  0.96        0.96        0.95333333  0.96        0.95333333  0.94666667\n",
      "  0.95333333  0.95333333  0.94666667  0.95333333  0.94666667  0.95333333\n",
      "  0.95333333]\n"
     ]
    }
   ],
   "source": [
    "y = irisData['species']\n",
    "X = irisData.drop('species', axis = 1)\n",
    "\n",
    "# stworzenie drzewa klasyfikacyjnego\n",
    "scores = np.empty(50)\n",
    "for i in range (1,50):\n",
    "    t = ensemble.ExtraTreesClassifier(n_estimators=i)\n",
    "    score = cross_validation.cross_val_score(t,X,y,cv=10)\n",
    "    scores[i] = score.mean()\n",
    "print scores[1:]"
   ]
  },
  {
   "cell_type": "code",
   "execution_count": 8,
   "metadata": {
    "collapsed": false
   },
   "outputs": [
    {
     "name": "stdout",
     "output_type": "stream",
     "text": [
      "[ 0.73773865  0.76005645  0.7783501   0.78378661  0.78553096  0.80372513\n",
      "  0.77704169  0.78561145  0.77684328  0.80497708  0.78840934  0.79259501\n",
      "  0.781167    0.79658395  0.80372625  0.80096803  0.796722    0.79672312\n",
      "  0.79668288  0.78817069  0.78408395  0.80227755  0.78948189  0.80233792\n",
      "  0.79386541  0.79795216  0.79666331  0.79672256  0.80086854  0.79533367\n",
      "  0.78259669  0.79515594  0.79245752  0.80235692  0.7840057   0.80082886\n",
      "  0.796722    0.79666331  0.79261569  0.78969819  0.80096691  0.79953946\n",
      "  0.7924374   0.79953946  0.79950034  0.79957858  0.80370613  0.79392522\n",
      "  0.8023966 ]\n"
     ]
    }
   ],
   "source": [
    "y = tytanicData['Survived']\n",
    "X = tytanicData.drop('Survived', axis = 1)\n",
    "\n",
    "# stworzenie drzewa klasyfikacyjnego\n",
    "scores = np.empty(50)\n",
    "for i in range (1,50):\n",
    "    t = ensemble.RandomForestClassifier(n_estimators=i)\n",
    "    score = cross_validation.cross_val_score(t,X,y,cv=10)\n",
    "    scores[i] = score.mean()\n",
    "print scores[1:]"
   ]
  },
  {
   "cell_type": "code",
   "execution_count": 9,
   "metadata": {
    "collapsed": false
   },
   "outputs": [
    {
     "name": "stdout",
     "output_type": "stream",
     "text": [
      "[ 0.74440588  0.77551252  0.77251677  0.77549352  0.79235748  0.76972222\n",
      "  0.78666387  0.78253801  0.7895987   0.792277    0.77670411  0.78684272\n",
      "  0.7840057   0.78813101  0.7796803   0.79936173  0.77843002  0.77977867\n",
      "  0.78100939  0.78533367  0.78255533  0.79378661  0.78251621  0.78392466\n",
      "  0.79376537  0.78259613  0.78826962  0.78961938  0.79525374  0.78819137\n",
      "  0.78817125  0.78817125  0.78265538  0.78684105  0.78259613  0.79529287\n",
      "  0.79654427  0.7867628   0.79239604  0.80078974  0.78124748  0.78537391\n",
      "  0.78959982  0.78813157  0.78535323  0.79235748  0.78386541  0.80497597\n",
      "  0.79237816]\n"
     ]
    }
   ],
   "source": [
    "y = tytanicData['Survived']\n",
    "X = tytanicData.drop('Survived', axis = 1)\n",
    "\n",
    "# stworzenie drzewa klasyfikacyjnego\n",
    "scores = np.empty(50)\n",
    "for i in range (1,50):\n",
    "    t = ensemble.ExtraTreesClassifier(n_estimators=i)\n",
    "    score = cross_validation.cross_val_score(t,X,y,cv=10)\n",
    "    scores[i] = score.mean()\n",
    "print scores[1:]"
   ]
  },
  {
   "cell_type": "code",
   "execution_count": null,
   "metadata": {
    "collapsed": true
   },
   "outputs": [],
   "source": []
  }
 ],
 "metadata": {
  "kernelspec": {
   "display_name": "Python [default]",
   "language": "python",
   "name": "python2"
  },
  "language_info": {
   "codemirror_mode": {
    "name": "ipython",
    "version": 2
   },
   "file_extension": ".py",
   "mimetype": "text/x-python",
   "name": "python",
   "nbconvert_exporter": "python",
   "pygments_lexer": "ipython2",
   "version": "2.7.12"
  }
 },
 "nbformat": 4,
 "nbformat_minor": 1
}
