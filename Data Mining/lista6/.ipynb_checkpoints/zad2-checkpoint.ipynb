{
 "cells": [
  {
   "cell_type": "code",
   "execution_count": 1,
   "metadata": {
    "collapsed": false
   },
   "outputs": [
    {
     "name": "stderr",
     "output_type": "stream",
     "text": [
      "Vendor:  Continuum Analytics, Inc.\n",
      "Package: mkl\n",
      "Message: trial mode expires in 30 days\n"
     ]
    }
   ],
   "source": [
    "import numpy as np\n",
    "import sympy.utilities.iterables as itt\n",
    "import itertools as it\n",
    "import pandas as pd\n",
    "import time"
   ]
  },
  {
   "cell_type": "code",
   "execution_count": 22,
   "metadata": {
    "collapsed": false
   },
   "outputs": [],
   "source": [
    "def aprioriGen(L, k):\n",
    "    l = len(L);\n",
    "    Lk = [];\n",
    "    for i in range(l - 1):\n",
    "        for j in range(i + 1, l):\n",
    "            if (np.all(L[i][:(k-1)] == L[j][:(k-1)])):\n",
    "                tmp = list(L[i][:k]);\n",
    "                tmp.append(L[j][k-1]);\n",
    "                zgodne = 0;\n",
    "                while(zgodne <= k):\n",
    "                    if (np.any(np.all(np.equal(L, np.concatenate((tmp[:zgodne], tmp[(zgodne + 1):]))), axis = 1))):\n",
    "                        zgodne += 1;\n",
    "                    else:\n",
    "                        break;\n",
    "                if (zgodne == k + 1):\n",
    "                    Lk.append(tmp);\n",
    "            else:\n",
    "                break;\n",
    "    return np.array(Lk)\n",
    "\n",
    "def convert(data):\n",
    "    freq = [];\n",
    "    dict1 = {};\n",
    "    dict2 = [];\n",
    "    dict3 = {}\n",
    "    for i in range(len(data)):\n",
    "        for j in range(len(data[i])):\n",
    "            item = data[i][j]\n",
    "            if (dict1.get(item, -1) == -1):\n",
    "                dict1[item] = len(freq);\n",
    "                dict2.append(item);\n",
    "                freq.append(1);\n",
    "                data[i][j] = dict1[item];\n",
    "            else:\n",
    "                data[i][j] = dict1[item];\n",
    "                freq[int(dict1[item])] += 1;\n",
    "    for key in dict1.keys():\n",
    "        dict3[dict1[key]] = key\n",
    "    return (np.array(freq).astype(float) / len(data)), dict3, dict2;\n",
    "\n",
    "\n",
    "def apriori(C1, data, minsup):\n",
    "    t = time.time()\n",
    "    length = len(data);\n",
    "    L = np.argwhere(C1 > minsup);\n",
    "    k = 1;\n",
    "    L = aprioriGen(L, k);\n",
    "    k += 1;\n",
    "    res = [];\n",
    "    while (len(L) > 0):\n",
    "        L1 = []\n",
    "        for set1 in L:\n",
    "            suma = 0.\n",
    "            for transaction in data:\n",
    "                if (set(set1) <= transaction):\n",
    "                    suma +=1;\n",
    "            sup = suma / length;\n",
    "            if (sup > minsup):\n",
    "                L1.append(set1);\n",
    "                res.append([set1, sup]);\n",
    "        L = aprioriGen(L1, k);\n",
    "        k += 1;\n",
    "    print 'Apriori zajelo ',time.time() - t, 'sekund'\n",
    "    return res;\n",
    "\n",
    "\n",
    "def confidence(data, sets, minconf):\n",
    "    t = time.time()\n",
    "    res = [];\n",
    "    for row in sets:\n",
    "        where = len(res);\n",
    "        tabpom = [];\n",
    "        sup = row[1];\n",
    "        tmp = list(itt.subsets(row[0]));\n",
    "        rozbicie = tmp[1:(len(tmp) - 1)];\n",
    "        dl = len(rozbicie);\n",
    "        for i in range(dl):\n",
    "            suma = 0.;\n",
    "            for transaction in data:   \n",
    "                if( set(rozbicie[i]) <= transaction ):\n",
    "                    suma += 1;\n",
    "            sup2 = suma / len(data);\n",
    "            tabpom.append(sup2);\n",
    "            if (sup2 > 0):\n",
    "                conf = sup / sup2;\n",
    "                if (conf > minconf):\n",
    "                    res.append([sup, sup2, dl-i-1, 0, 0, conf, list(rozbicie[i]), list(rozbicie[dl-i-1])]);\n",
    "        for i in range(where, len(res)):\n",
    "            res[i][2] = tabpom[res[i][2]];\n",
    "    for row in res:\n",
    "        row[3] = row[0] - row[1] * row[2];\n",
    "        row[4] = row[5] / row[2];\n",
    "    print 'Confidence zajelo',time.time() - t, 'sekund'\n",
    "    return res;\n",
    "\n",
    "names = ['Support', 'Leverage', 'Lift', 'Confidence', 'Set 1', 'Set 2']\n",
    "\n",
    "def write(W,dict1 = []):\n",
    "    print names\n",
    "    if( len(dict1) == 0):\n",
    "        for row in W:\n",
    "            print \"Su: %.3f\" % row[0], \" Le: %.3f\" % row[3], \" Li: %.3f\" % row[4], \" Co: %.3f\" % row[5], row[6], \"=>\", row[7];\n",
    "    else:\n",
    "        for row in W:\n",
    "            print \"Su: %.3f\" % row[0], \" Le: %.3f\" % row[3], \" Li: %.3f\" % row[4], \" Co: %.3f\" % row[5], fromDict(row[6],dict1), \"=>\", fromDict(row[7],dict1);\n",
    "def fromDict(tab,dict1):\n",
    "    tabpom = []\n",
    "    for elem in tab:\n",
    "        tabpom.append(dict1[elem])\n",
    "    return tabpom"
   ]
  },
  {
   "cell_type": "code",
   "execution_count": 23,
   "metadata": {
    "collapsed": true
   },
   "outputs": [],
   "source": [
    "datas = 'retail.dat';\n",
    "with open(datas, 'r') as f:\n",
    "    retail = f.readlines()\n",
    "data = np.array([np.array([int(i) for i in wiersz.split()]) for wiersz in retail])"
   ]
  },
  {
   "cell_type": "code",
   "execution_count": 24,
   "metadata": {
    "collapsed": false
   },
   "outputs": [],
   "source": [
    "C1, dict1, name = convert(data)\n",
    "for i in range(len(data)):\n",
    "    data[i] = set(data[i]);"
   ]
  },
  {
   "cell_type": "code",
   "execution_count": 25,
   "metadata": {
    "collapsed": false,
    "scrolled": true
   },
   "outputs": [
    {
     "name": "stdout",
     "output_type": "stream",
     "text": [
      "Apriori zajelo  2.18249678612 sekund\n",
      "Confidence zajelo 1.08293485641 sekund\n",
      "['Support', 'Leverage', 'Lift', 'Confidence', 'Set 1', 'Set 2']\n",
      "Su: 0.096  Le: -0.003  Li: 0.970  Co: 0.557 [32] => [39]\n",
      "Su: 0.091  Le: 0.009  Li: 1.108  Co: 0.530 [32] => [48]\n",
      "Su: 0.117  Le: 0.016  Li: 1.154  Co: 0.663 [38] => [39]\n",
      "Su: 0.090  Le: 0.006  Li: 1.066  Co: 0.509 [38] => [48]\n",
      "Su: 0.129  Le: 0.032  Li: 1.329  Co: 0.764 [41] => [39]\n",
      "Su: 0.331  Le: 0.056  Li: 1.203  Co: 0.575 [39] => [48]\n",
      "Su: 0.331  Le: 0.056  Li: 1.203  Co: 0.692 [48] => [39]\n",
      "Su: 0.102  Le: 0.021  Li: 1.263  Co: 0.603 [41] => [48]\n",
      "Su: 0.061  Le: 0.015  Li: 1.337  Co: 0.639 [32, 39] => [48]\n",
      "Su: 0.061  Le: 0.009  Li: 1.170  Co: 0.672 [32, 48] => [39]\n",
      "Su: 0.069  Le: 0.013  Li: 1.234  Co: 0.590 [38, 39] => [48]\n",
      "Su: 0.069  Le: 0.017  Li: 1.336  Co: 0.768 [38, 48] => [39]\n",
      "Su: 0.084  Le: 0.022  Li: 1.350  Co: 0.645 [39, 41] => [48]\n",
      "Su: 0.084  Le: 0.025  Li: 1.421  Co: 0.817 [41, 48] => [39]\n"
     ]
    }
   ],
   "source": [
    "W = apriori(C1,data,0.01)\n",
    "w = confidence(data,W,0.5)\n",
    "write(w,dict1)"
   ]
  },
  {
   "cell_type": "code",
   "execution_count": null,
   "metadata": {
    "collapsed": true
   },
   "outputs": [],
   "source": []
  }
 ],
 "metadata": {
  "kernelspec": {
   "display_name": "Python 2",
   "language": "python",
   "name": "python2"
  },
  "language_info": {
   "codemirror_mode": {
    "name": "ipython",
    "version": 2
   },
   "file_extension": ".py",
   "mimetype": "text/x-python",
   "name": "python",
   "nbconvert_exporter": "python",
   "pygments_lexer": "ipython2",
   "version": "2.7.11"
  }
 },
 "nbformat": 4,
 "nbformat_minor": 0
}
