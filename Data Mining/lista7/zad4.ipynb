{
 "cells": [
  {
   "cell_type": "code",
   "execution_count": 39,
   "metadata": {
    "collapsed": false
   },
   "outputs": [
    {
     "name": "stdout",
     "output_type": "stream",
     "text": [
      "(250, 4920)\n"
     ]
    }
   ],
   "source": [
    "import numpy as np\n",
    "import matplotlib.pyplot as plt\n",
    "%matplotlib inline\n",
    "import pandas as pd\n",
    "from sklearn import tree\n",
    "from sklearn import ensemble\n",
    "from sklearn import datasets, linear_model\n",
    "from sklearn import cross_validation, svm\n",
    "from sklearn.metrics import confusion_matrix\n",
    "from sklearn.cluster import KMeans\n",
    "from sklearn.metrics import silhouette_score\n",
    "import scipy.io\n",
    "train = scipy.io.loadmat('ReducedImagesForTraining.mat')['images'].T\n",
    "test = scipy.io.loadmat('ReducedImagesForTesting.mat')['images'].T\n",
    "print train.shape\n",
    "\n",
    "\n",
    "def pca(X, wsp):\n",
    "    n,m = np.shape(X)\n",
    "    X_mean = np.mean(X, axis = 0)\n",
    "    X_std = np.std(X,axis = 0)\n",
    "    X_standarized = (X - X_mean)/X_std\n",
    "    S = np.cov(X_standarized.T)\n",
    "    D,V = np.linalg.eigh(S)\n",
    "    #rint \"suma wartosci wlasnych:\",np.sum(D)\n",
    "    Y = np.dot(V.T,X_standarized.T).T\n",
    "    D_bis = np.matrix(1/np.sqrt(D)).reshape(m,1)\n",
    "    Y_new = np.multiply(D_bis,Y.T).T\n",
    "    k = 1; \n",
    "    suma = np.sum(D)\n",
    "    while(np.sum(D[-k:])/suma < wsp):\n",
    "        k = k+1\n",
    "    return Y_new[:,-k:], D[-k:], V[:,-k:], k\n",
    "\n",
    "\n",
    "def PCA(X, k):\n",
    "    n,m = np.shape(X)\n",
    "    X_mean = np.mean(X, axis = 0)\n",
    "    X_std = np.std(X,axis = 0)\n",
    "    X_standarized = (X - X_mean)/X_std\n",
    "    S = np.cov(X_standarized.T)\n",
    "    D,V = np.linalg.eigh(S)\n",
    "    #print \"suma wartosci wlasnych:\",np.sum(D)\n",
    "    Y = np.dot(V.T,X_standarized.T).T\n",
    "    D_bis = np.matrix(1/np.sqrt(D)).reshape(m,1)\n",
    "    Y_new = np.multiply(D_bis,Y.T).T\n",
    "    #print Y_new\n",
    "    return Y_new[:,-k:]\n",
    "\n",
    "def nearestPoints(knownData,testData):\n",
    "    D1 = np.sum(np.square(knownData),axis = 1,keepdims=True)\n",
    "    D2 = np.sum(np.square(testData),axis = 1,keepdims=True).T\n",
    "    M = D1 + D2 - 2. * np.dot(knownData,testData.T)\n",
    "    #print M\n",
    "    return np.argmin(M,axis=0)\n",
    "    \n",
    "\n",
    "def KN1(knownData, testData, knownClass, testClass):\n",
    "    error = 0\n",
    "    nearest = nearestPoints(knownData,testData)\n",
    "    length = testData.shape[0]\n",
    "    nearestClass = np.empty(length)\n",
    "    error_list = []\n",
    "    for i in range(length):\n",
    "        nearestClass[i] = knownClass[nearest[i]]\n",
    "        if(not(nearestClass[i] == testClass[i])):\n",
    "           error += 1\n",
    "           error_list = np.append(error_list, [i])\n",
    "    return error, error_list\n",
    "\n",
    "from scipy import misc\n",
    "from IPython.display import Image\n",
    "from IPython.display import display\n",
    "def pokaz(i):\n",
    "    zdj1 = train[i,:]\n",
    "    plt.figure(figsize=(10,4))\n",
    "    plt.imshow(zdj1.reshape(60,82).T, cmap = 'gray')"
   ]
  },
  {
   "cell_type": "code",
   "execution_count": 32,
   "metadata": {
    "collapsed": true
   },
   "outputs": [],
   "source": [
    "knownClass = [int((k-1)/5) + 1 for k in range(1,251)]\n",
    "testClass = [int((k-1)/2) + 1 for k in range(1,101)]"
   ]
  },
  {
   "cell_type": "code",
   "execution_count": 33,
   "metadata": {
    "collapsed": false
   },
   "outputs": [
    {
     "name": "stdout",
     "output_type": "stream",
     "text": [
      "[1, 1, 1, 1, 1, 2, 2, 2, 2, 2, 3, 3, 3, 3, 3, 4, 4, 4, 4, 4, 5, 5, 5, 5, 5, 6, 6, 6, 6, 6, 7, 7, 7, 7, 7, 8, 8, 8, 8, 8, 9, 9, 9, 9, 9, 10, 10, 10, 10, 10, 11, 11, 11, 11, 11, 12, 12, 12, 12, 12, 13, 13, 13, 13, 13, 14, 14, 14, 14, 14, 15, 15, 15, 15, 15, 16, 16, 16, 16, 16, 17, 17, 17, 17, 17, 18, 18, 18, 18, 18, 19, 19, 19, 19, 19, 20, 20, 20, 20, 20, 21, 21, 21, 21, 21, 22, 22, 22, 22, 22, 23, 23, 23, 23, 23, 24, 24, 24, 24, 24, 25, 25, 25, 25, 25, 26, 26, 26, 26, 26, 27, 27, 27, 27, 27, 28, 28, 28, 28, 28, 29, 29, 29, 29, 29, 30, 30, 30, 30, 30, 31, 31, 31, 31, 31, 32, 32, 32, 32, 32, 33, 33, 33, 33, 33, 34, 34, 34, 34, 34, 35, 35, 35, 35, 35, 36, 36, 36, 36, 36, 37, 37, 37, 37, 37, 38, 38, 38, 38, 38, 39, 39, 39, 39, 39, 40, 40, 40, 40, 40, 41, 41, 41, 41, 41, 42, 42, 42, 42, 42, 43, 43, 43, 43, 43, 44, 44, 44, 44, 44, 45, 45, 45, 45, 45, 46, 46, 46, 46, 46, 47, 47, 47, 47, 47, 48, 48, 48, 48, 48, 49, 49, 49, 49, 49, 50, 50, 50, 50, 50]\n",
      "[1, 1, 2, 2, 3, 3, 4, 4, 5, 5, 6, 6, 7, 7, 8, 8, 9, 9, 10, 10, 11, 11, 12, 12, 13, 13, 14, 14, 15, 15, 16, 16, 17, 17, 18, 18, 19, 19, 20, 20, 21, 21, 22, 22, 23, 23, 24, 24, 25, 25, 26, 26, 27, 27, 28, 28, 29, 29, 30, 30, 31, 31, 32, 32, 33, 33, 34, 34, 35, 35, 36, 36, 37, 37, 38, 38, 39, 39, 40, 40, 41, 41, 42, 42, 43, 43, 44, 44, 45, 45, 46, 46, 47, 47, 48, 48, 49, 49, 50, 50]\n"
     ]
    }
   ],
   "source": [
    "print knownClass\n",
    "print testClass"
   ]
  },
  {
   "cell_type": "code",
   "execution_count": 40,
   "metadata": {
    "collapsed": false
   },
   "outputs": [
    {
     "name": "stdout",
     "output_type": "stream",
     "text": [
      "(83, array([  0.,   1.,   2.,   4.,   5.,   6.,   7.,   8.,   9.,  12.,  13.,\n",
      "        14.,  15.,  16.,  18.,  19.,  20.,  21.,  22.,  23.,  24.,  25.,\n",
      "        26.,  27.,  28.,  29.,  30.,  31.,  32.,  33.,  34.,  35.,  38.,\n",
      "        39.,  40.,  41.,  42.,  43.,  44.,  45.,  46.,  47.,  48.,  49.,\n",
      "        50.,  52.,  53.,  54.,  55.,  56.,  57.,  60.,  61.,  66.,  67.,\n",
      "        68.,  69.,  70.,  71.,  72.,  73.,  76.,  77.,  78.,  79.,  80.,\n",
      "        81.,  82.,  83.,  84.,  85.,  86.,  87.,  88.,  89.,  90.,  91.,\n",
      "        93.,  94.,  96.,  97.,  98.,  99.]))\n"
     ]
    }
   ],
   "source": [
    "print KN1(train,test,knownClass, testClass)"
   ]
  },
  {
   "cell_type": "code",
   "execution_count": null,
   "metadata": {
    "collapsed": true
   },
   "outputs": [],
   "source": []
  }
 ],
 "metadata": {
  "anaconda-cloud": {},
  "kernelspec": {
   "display_name": "Python [default]",
   "language": "python",
   "name": "python2"
  },
  "language_info": {
   "codemirror_mode": {
    "name": "ipython",
    "version": 2
   },
   "file_extension": ".py",
   "mimetype": "text/x-python",
   "name": "python",
   "nbconvert_exporter": "python",
   "pygments_lexer": "ipython2",
   "version": "2.7.12"
  }
 },
 "nbformat": 4,
 "nbformat_minor": 1
}
