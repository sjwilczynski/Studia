{
 "cells": [
  {
   "cell_type": "code",
   "execution_count": 1,
   "metadata": {
    "collapsed": false
   },
   "outputs": [
    {
     "name": "stderr",
     "output_type": "stream",
     "text": [
      "Vendor:  Continuum Analytics, Inc.\n",
      "Package: mkl\n",
      "Message: trial mode expires in 29 days\n"
     ]
    },
    {
     "name": "stdout",
     "output_type": "stream",
     "text": [
      "Populating the interactive namespace from numpy and matplotlib\n"
     ]
    }
   ],
   "source": [
    "%pylab inline\n",
    "from sklearn import datasets\n",
    "iris = datasets.load_iris() "
   ]
  },
  {
   "cell_type": "code",
   "execution_count": 40,
   "metadata": {
    "collapsed": false
   },
   "outputs": [
    {
     "name": "stdout",
     "output_type": "stream",
     "text": [
      "[[-4.5 -3.5 -2.5 -1.5 -0.5  0.5  1.5  2.5  3.5  4.5]] (1, 10) 5.5\n",
      "[[-6.9 -6.9 -5.9 -4.9  1.1  1.1  2.1  9.1  2.1  9.1]] (1, 10) 16.9\n",
      "1.83636363636 6.8\n"
     ]
    }
   ],
   "source": [
    "from scipy import stats\n",
    "b = [[1,10], [2,10], [3,11], [4,12], [5,18], [6,18], [7,19], [8,26], [9,19], [10,26]]\n",
    "avx = sum([x for [x,y] in b])/10.0\n",
    "avy = sum([y for [x,y] in b])/10.0\n",
    "arrx = np.matrix([x for [x,y] in b]) - avx\n",
    "arry = np.matrix([y for [x,y] in b]) - avy\n",
    "print arrx,arrx.shape,avx\n",
    "print arry,arry.shape,avy\n",
    "slope = sum(arrx*arry.T/(arrx*arrx.T))\n",
    "intercept =  sum((avy - intercept*avx))\n",
    "print slope,intercept\n",
    "M = np.matrix(b)\n",
    "a = np.arange(1,11)\n",
    "def fun(x,a1,a2):\n",
    "    return a1*x+a2\n",
    "def dist(x,a1,a2):\n",
    "    return (a1*x[0]-x[1]+a2)/sqrt(a1**2 + a2**2)\n",
    "N = np.array([dist(x,slope,intercept) for x in b])\n"
   ]
  },
  {
   "cell_type": "code",
   "execution_count": 41,
   "metadata": {
    "collapsed": false
   },
   "outputs": [
    {
     "data": {
      "image/png": "[encoded data removed]",
      "text/plain": [
       "<matplotlib.figure.Figure at 0x7fb35cf81650>"
      ]
     },
     "metadata": {},
     "output_type": "display_data"
    }
   ],
   "source": [
    "figure()\n",
    "plot(M[:, 0], M[:,1], 'ro')\n",
    "plot(a,fun(a,slope,intercept))\n",
    "title('Punkty')\n",
    "xlabel('x')\n",
    "ylabel('y')\n",
    "xlim([0,11])\n",
    "ylim([0,28])\n",
    "savefig('zadanie3b.png')\n",
    "show()\n"
   ]
  },
  {
   "cell_type": "code",
   "execution_count": null,
   "metadata": {
    "collapsed": true
   },
   "outputs": [],
   "source": []
  }
 ],
 "metadata": {
  "kernelspec": {
   "display_name": "Python 2",
   "language": "python",
   "name": "python2"
  },
  "language_info": {
   "codemirror_mode": {
    "name": "ipython",
    "version": 2
   },
   "file_extension": ".py",
   "mimetype": "text/x-python",
   "name": "python",
   "nbconvert_exporter": "python",
   "pygments_lexer": "ipython2",
   "version": "2.7.11"
  }
 },
 "nbformat": 4,
 "nbformat_minor": 0
}
