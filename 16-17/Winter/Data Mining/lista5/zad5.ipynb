{
 "cells": [
  {
   "cell_type": "code",
   "execution_count": 1,
   "metadata": {
    "collapsed": false
   },
   "outputs": [
    {
     "name": "stdout",
     "output_type": "stream",
     "text": [
      "(1728, 8)\n",
      "(1728, 8)\n"
     ]
    },
    {
     "data": {
      "text/html": [
       "<div>\n",
       "<table border=\"1\" class=\"dataframe\">\n",
       "  <thead>\n",
       "    <tr style=\"text-align: right;\">\n",
       "      <th></th>\n",
       "      <th>buying</th>\n",
       "      <th>maint</th>\n",
       "      <th>doors</th>\n",
       "      <th>persons</th>\n",
       "      <th>lug_boot</th>\n",
       "      <th>safety</th>\n",
       "      <th>class</th>\n",
       "    </tr>\n",
       "  </thead>\n",
       "  <tbody>\n",
       "    <tr>\n",
       "      <th>0</th>\n",
       "      <td>4</td>\n",
       "      <td>4</td>\n",
       "      <td>2</td>\n",
       "      <td>2</td>\n",
       "      <td>1</td>\n",
       "      <td>1</td>\n",
       "      <td>1</td>\n",
       "    </tr>\n",
       "    <tr>\n",
       "      <th>1</th>\n",
       "      <td>4</td>\n",
       "      <td>4</td>\n",
       "      <td>2</td>\n",
       "      <td>2</td>\n",
       "      <td>1</td>\n",
       "      <td>2</td>\n",
       "      <td>1</td>\n",
       "    </tr>\n",
       "    <tr>\n",
       "      <th>2</th>\n",
       "      <td>4</td>\n",
       "      <td>4</td>\n",
       "      <td>2</td>\n",
       "      <td>2</td>\n",
       "      <td>1</td>\n",
       "      <td>3</td>\n",
       "      <td>1</td>\n",
       "    </tr>\n",
       "    <tr>\n",
       "      <th>3</th>\n",
       "      <td>4</td>\n",
       "      <td>4</td>\n",
       "      <td>2</td>\n",
       "      <td>2</td>\n",
       "      <td>2</td>\n",
       "      <td>1</td>\n",
       "      <td>1</td>\n",
       "    </tr>\n",
       "    <tr>\n",
       "      <th>4</th>\n",
       "      <td>4</td>\n",
       "      <td>4</td>\n",
       "      <td>2</td>\n",
       "      <td>2</td>\n",
       "      <td>2</td>\n",
       "      <td>2</td>\n",
       "      <td>1</td>\n",
       "    </tr>\n",
       "  </tbody>\n",
       "</table>\n",
       "</div>"
      ],
      "text/plain": [
       "   buying  maint  doors  persons  lug_boot  safety  class\n",
       "0       4      4      2        2         1       1      1\n",
       "1       4      4      2        2         1       2      1\n",
       "2       4      4      2        2         1       3      1\n",
       "3       4      4      2        2         2       1      1\n",
       "4       4      4      2        2         2       2      1"
      ]
     },
     "execution_count": 1,
     "metadata": {},
     "output_type": "execute_result"
    }
   ],
   "source": [
    "% matplotlib inline\n",
    "\n",
    "import numpy as np\n",
    "import matplotlib.pyplot as plt\n",
    "import pandas as pd\n",
    "\n",
    "from sklearn import tree\n",
    "from sklearn import ensemble\n",
    "from sklearn import datasets, linear_model\n",
    "from sklearn import cross_validation, svm\n",
    "from sklearn.metrics import confusion_matrix\n",
    "cars = pd.read_csv(\"car.csv\")\n",
    "print cars.shape\n",
    "cars = cars.dropna()\n",
    "print cars.shape\n",
    "cars.head()\n",
    "cars = cars.drop('Unnamed: 0',axis=1)\n",
    "cars.head()"
   ]
  },
  {
   "cell_type": "code",
   "execution_count": 2,
   "metadata": {
    "collapsed": false
   },
   "outputs": [
    {
     "data": {
      "text/plain": [
       "0.85069444444444442"
      ]
     },
     "execution_count": 2,
     "metadata": {},
     "output_type": "execute_result"
    }
   ],
   "source": [
    "y = cars['class']\n",
    "X = cars.drop('class',axis = 1)\n",
    "t = tree.DecisionTreeClassifier(max_depth=4,min_samples_leaf=20,min_samples_split=40)\n",
    "t = t.fit(X, y)\n",
    "t.score(X,y)"
   ]
  },
  {
   "cell_type": "code",
   "execution_count": 3,
   "metadata": {
    "collapsed": true
   },
   "outputs": [],
   "source": [
    "with open(\"cars.dot\", \"w\") as f:\n",
    "    tree.export_graphviz(t, out_file=f, feature_names=X.columns)"
   ]
  },
  {
   "cell_type": "code",
   "execution_count": 4,
   "metadata": {
    "collapsed": true
   },
   "outputs": [],
   "source": [
    "#przed usunieciem cech\n",
    "def calculate_cnf(data,feature,cls,y = []):\n",
    "    data['train'] = np.random.uniform(0, 1, len(data))\n",
    "\n",
    "    data_train = data[data['train'] <= 0.65]\n",
    "    data_test = data[data['train'] > 0.65]\n",
    "\n",
    "    if( len(y) ==  0 ):\n",
    "        y_train = data_train[feature]\n",
    "        y_test = data_test[feature]\n",
    "        X_train = data_train.drop(feature, axis = 1)\n",
    "        X_test = data_test.drop(feature, axis = 1)\n",
    "    else:\n",
    "        y_train = y[data['train'] <= 0.65]\n",
    "        y_test = y[data['train'] > 0.65]\n",
    "        X_train = data_train\n",
    "        X_test = data_test\n",
    "\n",
    "    y_pred = cls.fit(X_train, y_train).predict(X_test)\n",
    "    cnf_matrix = confusion_matrix(y_test, y_pred)\n",
    "    return cnf_matrix, cls.score(X_test,y_test)"
   ]
  },
  {
   "cell_type": "code",
   "execution_count": 15,
   "metadata": {
    "collapsed": false
   },
   "outputs": [
    {
     "name": "stdout",
     "output_type": "stream",
     "text": [
      "0.771538513241\n",
      "(array([[400,  12,   0,   0],\n",
      "       [ 59,  74,   0,   0],\n",
      "       [  0,  19,   0,   0],\n",
      "       [  0,  19,   0,   0]]), 0.81303602058319036)\n"
     ]
    }
   ],
   "source": [
    "t = tree.DecisionTreeClassifier(max_depth=3)\n",
    "scores = cross_validation.cross_val_score(t, X, y, cv=5)\n",
    "print scores.mean()\n",
    "print calculate_cnf(X,'class',t,y)"
   ]
  },
  {
   "cell_type": "code",
   "execution_count": 11,
   "metadata": {
    "collapsed": false
   },
   "outputs": [
    {
     "name": "stdout",
     "output_type": "stream",
     "text": [
      "0.806731415513\n",
      "(array([[417,  11,   0,   0],\n",
      "       [  5, 122,  12,   0],\n",
      "       [  0,   0,  21,   0],\n",
      "       [  0,   4,   0,  14]]), 0.94719471947194722)\n"
     ]
    }
   ],
   "source": [
    "t = ensemble.RandomForestClassifier(n_estimators=20, max_features=4)\n",
    "scores = cross_validation.cross_val_score(t, X, y, cv=5)\n",
    "print scores.mean()\n",
    "print calculate_cnf(X,'class',t,y)"
   ]
  },
  {
   "cell_type": "code",
   "execution_count": 12,
   "metadata": {
    "collapsed": false
   },
   "outputs": [
    {
     "name": "stdout",
     "output_type": "stream",
     "text": [
      "0.810774297621\n",
      "(array([[395,  10,   0,   0],\n",
      "       [  7, 123,   0,   1],\n",
      "       [  0,   4,  20,   1],\n",
      "       [  0,   0,   0,  24]]), 0.96068376068376071)\n"
     ]
    }
   ],
   "source": [
    "t = ensemble.ExtraTreesClassifier(n_estimators=30, max_features=5)\n",
    "scores = cross_validation.cross_val_score(t, X, y, cv=5)\n",
    "print scores.mean()\n",
    "print calculate_cnf(X,'class',t,y)\n",
    "#ewidentnie najlepszy patrz tez na wyniki nizej"
   ]
  },
  {
   "cell_type": "code",
   "execution_count": 14,
   "metadata": {
    "collapsed": false
   },
   "outputs": [
    {
     "name": "stdout",
     "output_type": "stream",
     "text": [
      "0.793463503159\n",
      "(array([[418,   6,   1,   0],\n",
      "       [ 12, 119,   2,   1],\n",
      "       [  0,   6,  27,   3],\n",
      "       [  0,   1,   0,  23]]), 0.94830371567043614)\n"
     ]
    }
   ],
   "source": [
    "t = tree.DecisionTreeClassifier()\n",
    "scores = cross_validation.cross_val_score(t, X, y, cv=5)\n",
    "print scores.mean()\n",
    "print calculate_cnf(X,'class',t,y)"
   ]
  },
  {
   "cell_type": "code",
   "execution_count": 16,
   "metadata": {
    "collapsed": false
   },
   "outputs": [
    {
     "name": "stdout",
     "output_type": "stream",
     "text": [
      "[ 0.13876788  0.10849468  0.01400199  0.41168847  0.052588    0.27445898]\n"
     ]
    }
   ],
   "source": [
    "y = cars['class']\n",
    "for i in range(len(y)):\n",
    "    if(y[i] > 1):\n",
    "        y[i] = 2\n",
    "X = cars.drop('class',axis = 1)\n",
    "t = tree.DecisionTreeClassifier(max_depth=5)\n",
    "t = t.fit(X, y)\n",
    "t.score(X,y)\n",
    "print t.feature_importances_"
   ]
  },
  {
   "cell_type": "code",
   "execution_count": 17,
   "metadata": {
    "collapsed": true
   },
   "outputs": [],
   "source": [
    "with open(\"cars1.dot\", \"w\") as f:\n",
    "    tree.export_graphviz(t, out_file=f, feature_names=X.columns)"
   ]
  },
  {
   "cell_type": "code",
   "execution_count": 18,
   "metadata": {
    "collapsed": false
   },
   "outputs": [
    {
     "name": "stdout",
     "output_type": "stream",
     "text": [
      "0.879100276451\n",
      "(array([[424,   6],\n",
      "       [ 12, 159]]), 0.97004991680532449)\n"
     ]
    }
   ],
   "source": [
    "t = ensemble.ExtraTreesClassifier(n_estimators=10)\n",
    "scores = cross_validation.cross_val_score(t, X, y, cv=5)\n",
    "print scores.mean()\n",
    "print calculate_cnf(X,'class',t,y)"
   ]
  },
  {
   "cell_type": "code",
   "execution_count": 19,
   "metadata": {
    "collapsed": false
   },
   "outputs": [
    {
     "name": "stdout",
     "output_type": "stream",
     "text": [
      "0.860031833794\n",
      "(array([[413,   5],\n",
      "       [ 24, 171]]), 0.95269168026101136)\n"
     ]
    }
   ],
   "source": [
    "t = ensemble.RandomForestClassifier(n_estimators=10)\n",
    "scores = cross_validation.cross_val_score(t, X, y, cv=5)\n",
    "print scores.mean()\n",
    "print calculate_cnf(X,'class',t,y)"
   ]
  },
  {
   "cell_type": "code",
   "execution_count": 20,
   "metadata": {
    "collapsed": false
   },
   "outputs": [
    {
     "name": "stdout",
     "output_type": "stream",
     "text": [
      "0.881993800787\n",
      "(array([[413,  11],\n",
      "       [ 13, 151]]), 0.95918367346938771)\n"
     ]
    }
   ],
   "source": [
    "t = ensemble.RandomForestClassifier(n_estimators=10)\n",
    "scores = cross_validation.cross_val_score(t, X, y, cv=5)\n",
    "print scores.mean()\n",
    "print calculate_cnf(X,'class',t,y)"
   ]
  },
  {
   "cell_type": "code",
   "execution_count": 21,
   "metadata": {
    "collapsed": false
   },
   "outputs": [
    {
     "name": "stdout",
     "output_type": "stream",
     "text": [
      "0.817806819134\n",
      "(array([[403,  15],\n",
      "       [ 64, 122]]), 0.86920529801324509)\n"
     ]
    }
   ],
   "source": [
    "t = tree.DecisionTreeClassifier(max_depth=3,min_samples_leaf=50,min_samples_split=100)\n",
    "scores = cross_validation.cross_val_score(t, X, y, cv=5)\n",
    "print scores.mean()\n",
    "print calculate_cnf(X,'class',t,y)"
   ]
  },
  {
   "cell_type": "code",
   "execution_count": null,
   "metadata": {
    "collapsed": true
   },
   "outputs": [],
   "source": []
  }
 ],
 "metadata": {
  "kernelspec": {
   "display_name": "Python [default]",
   "language": "python",
   "name": "python2"
  },
  "language_info": {
   "codemirror_mode": {
    "name": "ipython",
    "version": 2
   },
   "file_extension": ".py",
   "mimetype": "text/x-python",
   "name": "python",
   "nbconvert_exporter": "python",
   "pygments_lexer": "ipython2",
   "version": "2.7.12"
  }
 },
 "nbformat": 4,
 "nbformat_minor": 1
}
