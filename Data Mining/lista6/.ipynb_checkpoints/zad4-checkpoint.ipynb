{
 "cells": [
  {
   "cell_type": "code",
   "execution_count": 1,
   "metadata": {
    "collapsed": false
   },
   "outputs": [
    {
     "name": "stderr",
     "output_type": "stream",
     "text": [
      "Vendor:  Continuum Analytics, Inc.\n",
      "Package: mkl\n",
      "Message: trial mode expires in 27 days\n"
     ]
    }
   ],
   "source": [
    "import numpy as np\n",
    "import sympy.utilities.iterables as itt\n",
    "import itertools as it\n",
    "import pandas as pd\n",
    "import time"
   ]
  },
  {
   "cell_type": "code",
   "execution_count": 2,
   "metadata": {
    "collapsed": true
   },
   "outputs": [],
   "source": [
    "def aprioriGen(L, k):\n",
    "    l = len(L);\n",
    "    Lk = [];\n",
    "    for i in range(l - 1):\n",
    "        for j in range(i + 1, l):\n",
    "            if (np.all(L[i][:(k-1)] == L[j][:(k-1)])):\n",
    "                tmp = list(L[i][:k]);\n",
    "                tmp.append(L[j][k-1]);\n",
    "                zgodne = 0;\n",
    "                while(zgodne <= k):\n",
    "                    if (np.any(np.all(np.equal(L, np.concatenate((tmp[:zgodne], tmp[(zgodne + 1):]))), axis = 1))):\n",
    "                        zgodne += 1;\n",
    "                    else:\n",
    "                        break;\n",
    "                if (zgodne == k + 1):\n",
    "                    Lk.append(tmp);\n",
    "            else:\n",
    "                break;\n",
    "    return np.array(Lk)\n",
    "\n",
    "def convert(data):\n",
    "    t = time.time()\n",
    "    freq = [];\n",
    "    dict1 = {};\n",
    "    dict2 = [];\n",
    "    dict3 = {}\n",
    "    for i in range(len(data)):\n",
    "        for j in range(len(data[i])):\n",
    "            item = data[i][j]\n",
    "            if (dict1.get(item, -1) == -1):\n",
    "                dict1[item] = len(freq);\n",
    "                dict2.append(item);\n",
    "                freq.append(1);\n",
    "                data[i][j] = dict1[item];\n",
    "            else:\n",
    "                data[i][j] = dict1[item];\n",
    "                freq[int(dict1[item])] += 1;\n",
    "    for key in dict1.keys():\n",
    "        dict3[dict1[key]] = key\n",
    "    print 'Convert zajelo:',time.time() - t\n",
    "    return (np.array(freq).astype(float) / len(data)), dict3, dict2;\n",
    "\n",
    "\n",
    "def apriori(C1, data, minsup):\n",
    "    t = time.time()\n",
    "    length = len(data);\n",
    "    L = np.argwhere(C1 > minsup);\n",
    "    k = 1;\n",
    "    L = aprioriGen(L, k);\n",
    "    k += 1;\n",
    "    res = [];\n",
    "    while (len(L) > 0):\n",
    "        L1 = []\n",
    "        for set1 in L:\n",
    "            suma = 0.\n",
    "            for transaction in data:\n",
    "                if (set(set1) <= transaction):\n",
    "                    suma +=1;\n",
    "            sup = suma / length;\n",
    "            if (sup > minsup):\n",
    "                L1.append(set1);\n",
    "                res.append([set1, sup]);\n",
    "        L = aprioriGen(L1, k);\n",
    "        k += 1;\n",
    "    print 'Apriori zajelo ',time.time() - t, 'sekund'\n",
    "    return res;\n",
    "\n",
    "\n",
    "def confidence(data, sets, minconf):\n",
    "    t = time.time()\n",
    "    res = [];\n",
    "    for row in sets:\n",
    "        where = len(res);\n",
    "        tabpom = [];\n",
    "        sup = row[1];\n",
    "        tmp = list(itt.subsets(row[0]));\n",
    "        rozbicie = tmp[1:(len(tmp) - 1)];\n",
    "        dl = len(rozbicie);\n",
    "        for i in range(dl):\n",
    "            suma = 0.;\n",
    "            for transaction in data:   \n",
    "                if( set(rozbicie[i]) <= transaction ):\n",
    "                    suma += 1;\n",
    "            sup2 = suma / len(data);\n",
    "            tabpom.append(sup2);\n",
    "            if (sup2 > 0):\n",
    "                conf = sup / sup2;\n",
    "                if (conf > minconf):\n",
    "                    res.append([sup, sup2, dl-i-1, 0, 0, conf, list(rozbicie[i]), list(rozbicie[dl-i-1])]);\n",
    "        for i in range(where, len(res)):\n",
    "            res[i][2] = tabpom[res[i][2]];\n",
    "    for row in res:\n",
    "        row[3] = row[0] - row[1] * row[2];\n",
    "        row[4] = row[5] / row[2];\n",
    "    print 'Confidence zajelo',time.time() - t, 'sekund'\n",
    "    return res;\n",
    "\n",
    "labels = ['Support', 'Leverage', 'Lift', 'Confidence', 'Set 1', 'Set 2']\n",
    "\n",
    "def write(W,dict1 = []):\n",
    "    print labels\n",
    "    if( len(dict1) == 0):\n",
    "        for row in W:\n",
    "            print \"Su: %.3f\" % row[0], \" Le: %.3f\" % row[3], \" Li: %.3f\" % row[4], \" Co: %.3f\" % row[5], row[6], \"=>\", row[7];\n",
    "    else:\n",
    "        for row in W:\n",
    "            print \"Su: %.3f\" % row[0], \" Le: %.3f\" % row[3], \" Li: %.3f\" % row[4], \" Co: %.3f\" % row[5], fromDict(row[6],dict1), \"=>\", fromDict(row[7],dict1);\n",
    "def fromDict(tab,dict1):\n",
    "    tabpom = []\n",
    "    for elem in tab:\n",
    "        tabpom.append(dict1[elem])\n",
    "    return tabpom"
   ]
  },
  {
   "cell_type": "code",
   "execution_count": 3,
   "metadata": {
    "collapsed": false
   },
   "outputs": [],
   "source": [
    "def convert_chinese(name):\n",
    "    data = pd.read_csv(name,sep=';')\n",
    "    #data = data.drop('Time',axis=1)\n",
    "    #data = data.drop('Amount',axis=1)\n",
    "    data = data.astype(str)\n",
    "    data['ClientId'] = data['ClientId'] + 'CID'\n",
    "    data['Age'] = data['Age'] + 'AGE'\n",
    "    data['Adress'] = data['Adress'] + 'ADR'\n",
    "    data['Product subclass'] = data['Product subclass'] + 'PSUB'\n",
    "    data['ProductId'] = data['ProductId'] + 'PID'\n",
    "    #data['Amount'] = data['Amount'] + 'AM'\n",
    "    data['Asset'] = data['Asset'] + 'AS'\n",
    "    data['Price'] = data['Price'] + 'PR'\n",
    "    return data\n",
    "#moze by dodac jakies literki na koncach tych slow i tyle "
   ]
  },
  {
   "cell_type": "code",
   "execution_count": 4,
   "metadata": {
    "collapsed": false,
    "scrolled": true
   },
   "outputs": [
    {
     "data": {
      "text/html": [
       "<div>\n",
       "<table border=\"1\" class=\"dataframe\">\n",
       "  <thead>\n",
       "    <tr style=\"text-align: right;\">\n",
       "      <th></th>\n",
       "      <th>Time</th>\n",
       "      <th>ClientId</th>\n",
       "      <th>Age</th>\n",
       "      <th>Adress</th>\n",
       "      <th>Product subclass</th>\n",
       "      <th>ProductId</th>\n",
       "      <th>Amount</th>\n",
       "      <th>Asset</th>\n",
       "      <th>Price</th>\n",
       "    </tr>\n",
       "  </thead>\n",
       "  <tbody>\n",
       "    <tr>\n",
       "      <th>0</th>\n",
       "      <td>2001-01-01 00:00:00</td>\n",
       "      <td>141833CID</td>\n",
       "      <td>F AGE</td>\n",
       "      <td>F ADR</td>\n",
       "      <td>130207PSUB</td>\n",
       "      <td>4710105011011PID</td>\n",
       "      <td>2</td>\n",
       "      <td>44AS</td>\n",
       "      <td>52PR</td>\n",
       "    </tr>\n",
       "    <tr>\n",
       "      <th>1</th>\n",
       "      <td>2001-01-01 00:00:00</td>\n",
       "      <td>1376753CID</td>\n",
       "      <td>E AGE</td>\n",
       "      <td>E ADR</td>\n",
       "      <td>110217PSUB</td>\n",
       "      <td>4710265849066PID</td>\n",
       "      <td>1</td>\n",
       "      <td>150AS</td>\n",
       "      <td>129PR</td>\n",
       "    </tr>\n",
       "    <tr>\n",
       "      <th>2</th>\n",
       "      <td>2001-01-01 00:00:00</td>\n",
       "      <td>1603071CID</td>\n",
       "      <td>E AGE</td>\n",
       "      <td>G ADR</td>\n",
       "      <td>100201PSUB</td>\n",
       "      <td>4712019100607PID</td>\n",
       "      <td>1</td>\n",
       "      <td>35AS</td>\n",
       "      <td>39PR</td>\n",
       "    </tr>\n",
       "    <tr>\n",
       "      <th>3</th>\n",
       "      <td>2001-01-01 00:00:00</td>\n",
       "      <td>1738667CID</td>\n",
       "      <td>E AGE</td>\n",
       "      <td>F ADR</td>\n",
       "      <td>530105PSUB</td>\n",
       "      <td>4710168702901PID</td>\n",
       "      <td>1</td>\n",
       "      <td>94AS</td>\n",
       "      <td>119PR</td>\n",
       "    </tr>\n",
       "    <tr>\n",
       "      <th>4</th>\n",
       "      <td>2001-01-01 00:00:00</td>\n",
       "      <td>2141497CID</td>\n",
       "      <td>A AGE</td>\n",
       "      <td>B ADR</td>\n",
       "      <td>320407PSUB</td>\n",
       "      <td>4710431339148PID</td>\n",
       "      <td>1</td>\n",
       "      <td>100AS</td>\n",
       "      <td>159PR</td>\n",
       "    </tr>\n",
       "  </tbody>\n",
       "</table>\n",
       "</div>"
      ],
      "text/plain": [
       "                  Time    ClientId    Age Adress Product subclass  \\\n",
       "0  2001-01-01 00:00:00   141833CID  F AGE  F ADR       130207PSUB   \n",
       "1  2001-01-01 00:00:00  1376753CID  E AGE  E ADR       110217PSUB   \n",
       "2  2001-01-01 00:00:00  1603071CID  E AGE  G ADR       100201PSUB   \n",
       "3  2001-01-01 00:00:00  1738667CID  E AGE  F ADR       530105PSUB   \n",
       "4  2001-01-01 00:00:00  2141497CID  A AGE  B ADR       320407PSUB   \n",
       "\n",
       "          ProductId Amount  Asset  Price  \n",
       "0  4710105011011PID      2   44AS   52PR  \n",
       "1  4710265849066PID      1  150AS  129PR  \n",
       "2  4712019100607PID      1   35AS   39PR  \n",
       "3  4710168702901PID      1   94AS  119PR  \n",
       "4  4710431339148PID      1  100AS  159PR  "
      ]
     },
     "execution_count": 4,
     "metadata": {},
     "output_type": "execute_result"
    }
   ],
   "source": [
    "d1 = convert_chinese('D01')\n",
    "d2 = convert_chinese('D02')\n",
    "d3 = convert_chinese('D11')\n",
    "d4 = convert_chinese('D12')\n",
    "frames = [d1,d2,d3,d4]\n",
    "data = pd.concat(frames)\n",
    "data.head()"
   ]
  },
  {
   "cell_type": "code",
   "execution_count": 5,
   "metadata": {
    "collapsed": false
   },
   "outputs": [
    {
     "data": {
      "text/plain": [
       "(817741, 9)"
      ]
     },
     "execution_count": 5,
     "metadata": {},
     "output_type": "execute_result"
    }
   ],
   "source": [
    "data.shape"
   ]
  },
  {
   "cell_type": "code",
   "execution_count": 6,
   "metadata": {
    "collapsed": false
   },
   "outputs": [
    {
     "name": "stdout",
     "output_type": "stream",
     "text": [
      "Convert zajelo: 6.34008407593\n"
     ]
    }
   ],
   "source": [
    "data1 = data.as_matrix()\n",
    "C1,dict1,names = convert(data1)\n",
    "data2 = []\n",
    "for i in range(len(data1)):\n",
    "    data2.append(set(data1[i]))"
   ]
  },
  {
   "cell_type": "code",
   "execution_count": null,
   "metadata": {
    "collapsed": false
   },
   "outputs": [
    {
     "name": "stdout",
     "output_type": "stream",
     "text": [
      "Apriori zajelo  3212.79200315 sekund\n",
      "Confidence zajelo 14.4021010399 sekund\n",
      "['Support', 'Leverage', 'Lift', 'Confidence', 'Set 1', 'Set 2']\n",
      "Su: 0.013  Le: 0.004  Li: 1.396  Co: 0.533 ['I AGE'] => ['E ADR']\n",
      "Su: 0.020  Le: 0.018  Li: 14.436  Co: 0.718 ['K AGE'] => ['H ADR']\n",
      "Su: 0.010  Le: 0.010  Li: 68.868  Co: 0.714 ['130315PSUB'] => ['4714981010038PID']\n",
      "Su: 0.010  Le: 0.010  Li: 68.868  Co: 1.000 ['4714981010038PID'] => ['130315PSUB']\n"
     ]
    }
   ],
   "source": [
    "res = apriori(C1,data2,0.01)\n",
    "res2 = confidence(data2,res,0.5)\n",
    "write(res2,dict1)"
   ]
  },
  {
   "cell_type": "code",
   "execution_count": null,
   "metadata": {
    "collapsed": true
   },
   "outputs": [],
   "source": [
    "res = apriori(C1,data2,0.005)\n",
    "res2 = confidence(data2,res,0.5)\n",
    "write(res2,dict1)"
   ]
  },
  {
   "cell_type": "code",
   "execution_count": 2,
   "metadata": {
    "collapsed": false
   },
   "outputs": [
    {
     "ename": "NameError",
     "evalue": "name 'write' is not defined",
     "output_type": "error",
     "traceback": [
      "\u001b[1;31m---------------------------------------------------------------------------\u001b[0m",
      "\u001b[1;31mNameError\u001b[0m                                 Traceback (most recent call last)",
      "\u001b[1;32m<ipython-input-2-2004e68af734>\u001b[0m in \u001b[0;36m<module>\u001b[1;34m()\u001b[0m\n\u001b[1;32m----> 1\u001b[1;33m \u001b[0mwrite\u001b[0m\u001b[1;33m(\u001b[0m\u001b[0mres2\u001b[0m\u001b[1;33m,\u001b[0m\u001b[0mdict1\u001b[0m\u001b[1;33m)\u001b[0m\u001b[1;33m\u001b[0m\u001b[0m\n\u001b[0m",
      "\u001b[1;31mNameError\u001b[0m: name 'write' is not defined"
     ]
    }
   ],
   "source": [
    "write(res2,dict1)"
   ]
  },
  {
   "cell_type": "code",
   "execution_count": 6,
   "metadata": {
    "collapsed": false
   },
   "outputs": [],
   "source": [
    "data1 = data.as_matrix()"
   ]
  },
  {
   "cell_type": "code",
   "execution_count": 7,
   "metadata": {
    "collapsed": false
   },
   "outputs": [
    {
     "name": "stdout",
     "output_type": "stream",
     "text": [
      "['2001-01-01 00:00:00' '1376753CID' 'E AGE' 'E ADR' '110217PSUB'\n",
      " '4710265849066PID' '1' '150AS' '129PR']\n"
     ]
    }
   ],
   "source": [
    "print data1[1]"
   ]
  },
  {
   "cell_type": "code",
   "execution_count": 8,
   "metadata": {
    "collapsed": false
   },
   "outputs": [],
   "source": [
    "dictionary = {}\n",
    "for row in data1:\n",
    "    if (dictionary.get((row[0],row[1]), -1) == -1):\n",
    "        dictionary[(row[0],row[1])] = [str(row[5])]\n",
    "    else:\n",
    "        dictionary[(row[0],row[1])].append(str(row[5]))"
   ]
  },
  {
   "cell_type": "code",
   "execution_count": 9,
   "metadata": {
    "collapsed": false
   },
   "outputs": [
    {
     "name": "stdout",
     "output_type": "stream",
     "text": [
      "119578\n",
      "817741\n"
     ]
    }
   ],
   "source": [
    "keys = dictionary.keys()\n",
    "print len(keys)\n",
    "sum = 0\n",
    "for i in range(len(keys)):\n",
    "    #print i,len(dictionary[keys[i]])\n",
    "    sum += len(dictionary[keys[i]])\n",
    "print sum"
   ]
  },
  {
   "cell_type": "code",
   "execution_count": 11,
   "metadata": {
    "collapsed": false
   },
   "outputs": [],
   "source": [
    "data2 = []\n",
    "for key in keys:\n",
    "    data2.append(dictionary[key])"
   ]
  },
  {
   "cell_type": "code",
   "execution_count": 12,
   "metadata": {
    "collapsed": false
   },
   "outputs": [
    {
     "name": "stdout",
     "output_type": "stream",
     "text": [
      "Convert zajelo: 0.694665908813\n"
     ]
    }
   ],
   "source": [
    "C1,dict1,names = convert(data2)"
   ]
  },
  {
   "cell_type": "code",
   "execution_count": 14,
   "metadata": {
    "collapsed": false
   },
   "outputs": [],
   "source": [
    "data3 = []\n",
    "for i in range(len(data2)):\n",
    "    data3.append(set(data2[i]))"
   ]
  },
  {
   "cell_type": "code",
   "execution_count": 15,
   "metadata": {
    "collapsed": false
   },
   "outputs": [
    {
     "name": "stdout",
     "output_type": "stream",
     "text": [
      "Apriori zajelo  40.7484591007 sekund\n",
      "Confidence zajelo 1.19209289551e-05 sekund\n",
      "['Support', 'Leverage', 'Lift', 'Confidence', 'Set 1', 'Set 2']\n"
     ]
    }
   ],
   "source": [
    "res1 = apriori(C1,data3,0.01)\n",
    "res2 = confidence(data3,res1,0.5)\n",
    "write(res2,dict1)"
   ]
  },
  {
   "cell_type": "code",
   "execution_count": 17,
   "metadata": {
    "collapsed": false
   },
   "outputs": [
    {
     "name": "stdout",
     "output_type": "stream",
     "text": [
      "Apriori zajelo  1107.61990094 sekund\n",
      "Confidence zajelo 0.187381982803 sekund\n",
      "['Support', 'Leverage', 'Lift', 'Confidence', 'Set 1', 'Set 2']\n",
      "Su: 0.006  Le: 0.006  Li: 54.982  Co: 0.753 ['4710011401135PID'] => ['4710011401128PID']\n",
      "Su: 0.005  Le: 0.005  Li: 48.180  Co: 0.660 ['4710011405133PID'] => ['4710011401128PID']\n"
     ]
    }
   ],
   "source": [
    "res1 = apriori(C1,data3,0.005)\n",
    "res2 = confidence(data3,res1,0.5)\n",
    "write(res2,dict1)"
   ]
  },
  {
   "cell_type": "code",
   "execution_count": 18,
   "metadata": {
    "collapsed": false
   },
   "outputs": [
    {
     "name": "stdout",
     "output_type": "stream",
     "text": [
      "Apriori zajelo  5691.9483788 sekund\n",
      "Confidence zajelo 0.972383975983 sekund\n",
      "['Support', 'Leverage', 'Lift', 'Confidence', 'Set 1', 'Set 2']\n",
      "Su: 0.004  Le: 0.004  Li: 46.415  Co: 0.527 ['4710085120093PID'] => ['4710085120628PID']\n",
      "Su: 0.005  Le: 0.005  Li: 43.232  Co: 0.592 ['4710011406123PID'] => ['4710011401128PID']\n",
      "Su: 0.004  Le: 0.004  Li: 51.104  Co: 0.700 ['4710011409056PID'] => ['4710011401128PID']\n",
      "Su: 0.006  Le: 0.006  Li: 54.982  Co: 0.753 ['4710011401135PID'] => ['4710011401128PID']\n",
      "Su: 0.005  Le: 0.005  Li: 48.180  Co: 0.660 ['4710011405133PID'] => ['4710011401128PID']\n",
      "Su: 0.003  Le: 0.003  Li: 68.609  Co: 0.534 ['4710011409056PID'] => ['4710011401135PID']\n",
      "Su: 0.003  Le: 0.003  Li: 100.440  Co: 0.775 ['4710085120697PID'] => ['4710085120680PID']\n",
      "Su: 0.003  Le: 0.003  Li: 46.200  Co: 0.537 ['4710018004704PID'] => ['4710018004605PID']\n"
     ]
    }
   ],
   "source": [
    "res1 = apriori(C1,data3,0.003)\n",
    "res2 = confidence(data3,res1,0.5)\n",
    "write(res2,dict1)"
   ]
  },
  {
   "cell_type": "code",
   "execution_count": null,
   "metadata": {
    "collapsed": true
   },
   "outputs": [],
   "source": []
  }
 ],
 "metadata": {
  "kernelspec": {
   "display_name": "Python 2",
   "language": "python",
   "name": "python2"
  },
  "language_info": {
   "codemirror_mode": {
    "name": "ipython",
    "version": 2
   },
   "file_extension": ".py",
   "mimetype": "text/x-python",
   "name": "python",
   "nbconvert_exporter": "python",
   "pygments_lexer": "ipython2",
   "version": "2.7.11"
  }
 },
 "nbformat": 4,
 "nbformat_minor": 0
}
