{
 "cells": [
  {
   "cell_type": "code",
   "execution_count": 44,
   "metadata": {
    "collapsed": false
   },
   "outputs": [],
   "source": [
    "\n",
    "import matplotlib.pyplot as plt\n",
    "#plt.switch_backend('agg')\n",
    "import numpy as np\n"
   ]
  },
  {
   "cell_type": "code",
   "execution_count": 45,
   "metadata": {
    "collapsed": true
   },
   "outputs": [],
   "source": [
    "def create_groups(D,K,means):\n",
    "    D2 = np.sum(np.square(D),axis = 0,keepdims=True).T\n",
    "    means2 = np.sum(np.square(means),axis = 0,keepdims=True)\n",
    "    M = D2+means2 - 2. * np.dot(D.T,means)\n",
    "    return np.argmin(M,axis = 1).T\n",
    "    \n",
    "def randomize(n,K):\n",
    "    a = np.arange(n)\n",
    "    np.random.shuffle(a)\n",
    "    return a[:K]\n",
    "def my_kmeans(K,D):\n",
    "    iteracje = 0\n",
    "    #k - liczba grup, D - macierz danych d x n, gdzie n to liczba elementow\n",
    "    n = D.shape[1]\n",
    "    old_means = []\n",
    "    groups = []\n",
    "    randomed = randomize(n,K)\n",
    "    new_means = D[:,randomed]\n",
    "    while(not np.array_equal(old_means,new_means)):\n",
    "        iteracje += 1\n",
    "        groups = create_groups(D,K,new_means)\n",
    "        #print \"grupy:\",groups\n",
    "        old_means = np.copy(new_means)\n",
    "        macierz = np.take(np.eye(K),groups,axis = 0)\n",
    "        #print macierz.shape,groups.shape\n",
    "        new_means = np.dot(D,macierz)\n",
    "        g_counts = np.maximum(np.sum(macierz,axis = 0),1)\n",
    "        new_means /= g_counts\n",
    "    return groups, new_means"
   ]
  },
  {
   "cell_type": "code",
   "execution_count": 46,
   "metadata": {
    "collapsed": false
   },
   "outputs": [
    {
     "name": "stdout",
     "output_type": "stream",
     "text": [
      "[ 5.006  3.418  1.464  0.244]\n"
     ]
    }
   ],
   "source": [
    "from sklearn import datasets\n",
    "iris = datasets.load_iris() \n",
    "D = iris.data.T\n",
    "\n",
    "\n",
    "\n",
    "groups, means= my_kmeans(3,D)\n",
    "print means[:,1]"
   ]
  },
  {
   "cell_type": "code",
   "execution_count": 47,
   "metadata": {
    "collapsed": false
   },
   "outputs": [],
   "source": [
    "plt.scatter(D[1,:],D[2,:],c = groups)\n",
    "#print means,means[1,:]\n",
    "plt.scatter(means[1,:],means[2,:],color = 'black')\n",
    "plt.show()\n",
    "\n",
    "plt.figure()\n",
    "plt.scatter(iris.data[:, 1], iris.data[:, 2], c=iris.target)\n",
    "plt.show()"
   ]
  },
  {
   "cell_type": "code",
   "execution_count": null,
   "metadata": {
    "collapsed": true
   },
   "outputs": [],
   "source": []
  },
  {
   "cell_type": "code",
   "execution_count": null,
   "metadata": {
    "collapsed": true
   },
   "outputs": [],
   "source": []
  },
  {
   "cell_type": "code",
   "execution_count": null,
   "metadata": {
    "collapsed": true
   },
   "outputs": [],
   "source": []
  },
  {
   "cell_type": "code",
   "execution_count": null,
   "metadata": {
    "collapsed": true
   },
   "outputs": [],
   "source": []
  }
 ],
 "metadata": {
  "kernelspec": {
   "display_name": "Python 2",
   "language": "python",
   "name": "python2"
  },
  "language_info": {
   "codemirror_mode": {
    "name": "ipython",
    "version": 2
   },
   "file_extension": ".py",
   "mimetype": "text/x-python",
   "name": "python",
   "nbconvert_exporter": "python",
   "pygments_lexer": "ipython2",
   "version": "2.7.11"
  }
 },
 "nbformat": 4,
 "nbformat_minor": 0
}
