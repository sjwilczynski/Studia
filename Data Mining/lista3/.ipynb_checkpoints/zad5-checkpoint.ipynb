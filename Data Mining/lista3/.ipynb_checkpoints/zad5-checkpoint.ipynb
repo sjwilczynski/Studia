{
 "cells": [
  {
   "cell_type": "code",
   "execution_count": 62,
   "metadata": {
    "collapsed": false
   },
   "outputs": [],
   "source": [
    "import numpy as np;\n",
    "import matplotlib.pyplot as plt"
   ]
  },
  {
   "cell_type": "code",
   "execution_count": 100,
   "metadata": {
    "collapsed": false
   },
   "outputs": [],
   "source": [
    "def between_groups_distances(means):\n",
    "    means2 = np.sum(np.square(means),axis = 0,keepdims=True)\n",
    "    means1 = means2.T\n",
    "    M = means1+means2 - 2. * np.dot(means.T,means)\n",
    "    return M\n",
    "    #return np.sum(M,axis = 0)\n",
    "    \n",
    "def in_group_distance(K,means,groups,D):\n",
    "    wynik = np.empty(K)\n",
    "    mapa = [(groups[id],id) for id in range(D.shape[1])]\n",
    "    #print \"grupy: \",groups\n",
    "    #print D.shape[1]\n",
    "    for i in range(K):   \n",
    "        #macierz = np.take(D,[b for (a,b) in mapa if a == i] ,axis = 1)\n",
    "        #M = np.dot(D,macierz)\n",
    "        #print \"dla i=\",i,[b for (a,b) in mapa if a == i]\n",
    "        M = D[:,[b for (a,b) in mapa if a == i]]\n",
    "        #print M.shape\n",
    "        M2 = np.sum(np.square(M),axis = 0,keepdims=True)\n",
    "        M1 = M2.T\n",
    "        res = M1+M2 - 2. * np.dot(M.T,M)\n",
    "        wynik[i] = np.max(res)\n",
    "    return wynik\n",
    "\n",
    "def create_groups(D,K,means):\n",
    "    D2 = np.sum(np.square(D),axis = 0,keepdims=True).T\n",
    "    means2 = np.sum(np.square(means),axis = 0,keepdims=True)\n",
    "    M = D2+means2 - 2. * np.dot(D.T,means)\n",
    "    return np.argmin(M,axis = 1).T\n",
    "    \n",
    "def randomize(n,K):\n",
    "    a = np.arange(n)\n",
    "    np.random.shuffle(a)\n",
    "    return a[:K]\n",
    "def my_kmeans(K,D):\n",
    "    iteracje = 0\n",
    "    #k - liczba grup, D - macierz danych d x n, gdzie n to liczba elementow\n",
    "    n = D.shape[1]\n",
    "    old_means = []\n",
    "    groups = []\n",
    "    randomed = randomize(n,K)\n",
    "    new_means = D[:,randomed]\n",
    "    while(not np.array_equal(old_means,new_means)):\n",
    "        iteracje += 1\n",
    "        groups = create_groups(D,K,new_means)\n",
    "        #print \"grupy:\",groups\n",
    "        old_means = np.copy(new_means)\n",
    "        macierz = np.take(np.eye(K),groups,axis = 0)\n",
    "        #print macierz.shape,groups.shape\n",
    "        new_means = np.dot(D,macierz)\n",
    "        g_counts = np.maximum(np.sum(macierz,axis = 0),1)\n",
    "        new_means /= g_counts\n",
    "    print \"Rozmiary grup: \",np.array(g_counts,dtype = int)\n",
    "    print \"Dystanse miedzy grupami: \",between_groups_distances(new_means)\n",
    "    print \"Dystanse wewnatrz grupy: \",in_group_distance(K,new_means,groups,D)\n",
    "    return groups, new_means"
   ]
  },
  {
   "cell_type": "code",
   "execution_count": 64,
   "metadata": {
    "collapsed": false
   },
   "outputs": [],
   "source": [
    "transakcje = [[int(id) for id in line.split()] for line in open(\"kosarak.dat\")];\n",
    "maks = np.max([np.max(wiersz) for wiersz in transakcje])"
   ]
  },
  {
   "cell_type": "code",
   "execution_count": 65,
   "metadata": {
    "collapsed": false
   },
   "outputs": [],
   "source": [
    "T = 1000\n",
    "najczestsze = np.zeros(maks+1,dtype = int);\n",
    "#najczestsze1 = np.zeros(maks+1,dtype = int);\n",
    "for wiersz in transakcje:\n",
    "        najczestsze[wiersz] += 1;\n",
    "#najczestsze = \n",
    "#print sorted(najczestsze, reverse=True)\n",
    "najczestsze_indeksy = np.argsort(najczestsze)\n",
    "najczestsze = sorted(najczestsze, reverse=True)[-T:]\n",
    "#print najczestsze_indeksy\n",
    "naj_indeksy_T = np.flipud(najczestsze_indeksy[-T:]) #indeksy T najczestszych towarow malejaco\n",
    "#print naj_indeksy_T"
   ]
  },
  {
   "cell_type": "code",
   "execution_count": 66,
   "metadata": {
    "collapsed": false
   },
   "outputs": [],
   "source": [
    "macierz = np.zeros((T,maks+1))\n",
    "mapa = {naj_indeksy_T[i] : i for i in range(T)}\n",
    "for wiersz in transakcje:\n",
    "        naj_w_wierszu = [mapa[id] for id in wiersz if id in mapa]\n",
    "        #print naj_w_wierszu\n",
    "        #fromTMostPop = [order[id] for id in transactions[i] if id in order]\n",
    "        for j in naj_w_wierszu:\n",
    "            for k in wiersz:\n",
    "                macierz[j][k] += 1 if j != k else 0"
   ]
  },
  {
   "cell_type": "code",
   "execution_count": 101,
   "metadata": {
    "collapsed": false
   },
   "outputs": [
    {
     "name": "stdout",
     "output_type": "stream",
     "text": [
      "Rozmiary grup:  [   37   664     5     3 40562]\n",
      "Dystanse miedzy grupami:  [[  4.76837158e-07   8.77605133e+08   1.39367055e+10   3.17035872e+11\n",
      "    1.33547198e+09]\n",
      " [  8.77605133e+08   2.98023224e-08   2.11960991e+10   3.47884808e+11\n",
      "    6.02227404e+07]\n",
      " [  1.39367055e+10   2.11960991e+10   3.05175781e-05   2.24125241e+11\n",
      "    2.31616198e+10]\n",
      " [  3.17035872e+11   3.47884808e+11   2.24125241e+11  -6.46972656e-03\n",
      "    3.54428502e+11]\n",
      " [  1.33547198e+09   6.02227404e+07   2.31616198e+10   3.54428502e+11\n",
      "    5.09317033e-11]]\n",
      "Dystanse wewnatrz grupy:  grupy:  [4 2 0 ..., 4 4 4]\n",
      "41271\n",
      "[  9.16192150e+09   9.80551879e+08   4.56405769e+10   2.02968574e+11\n",
      "   7.80587770e+07]\n"
     ]
    }
   ],
   "source": [
    "groups, means = my_kmeans(5,macierz)"
   ]
  },
  {
   "cell_type": "code",
   "execution_count": 89,
   "metadata": {
    "collapsed": false
   },
   "outputs": [
    {
     "name": "stdout",
     "output_type": "stream",
     "text": [
      "[[2 3]\n",
      " [5 6]\n",
      " [8 9]]\n",
      "[(0, 0), (1, 1), (1, 2)]\n",
      "[1, 2]\n",
      "[[2 3]\n",
      " [5 6]\n",
      " [8 9]]\n"
     ]
    }
   ],
   "source": [
    "x = np.array([[1,2,3],[4,5,6],[7,8,9]])\n",
    "print x[:,[1,2]]\n",
    "g = [0,1,1]\n",
    "m = [(g[id],id) for id in range(3)]\n",
    "print m\n",
    "#macierz = np.take(D,[b for (a,b) in mapa if a == i] ,axis = 1)\n",
    "#M = np.dot(D,macierz)\n",
    "y = [b for (a,b) in m if a == 1]\n",
    "print y\n",
    "print x[:,y]"
   ]
  },
  {
   "cell_type": "code",
   "execution_count": null,
   "metadata": {
    "collapsed": true
   },
   "outputs": [],
   "source": []
  }
 ],
 "metadata": {
  "kernelspec": {
   "display_name": "Python 2",
   "language": "python",
   "name": "python2"
  },
  "language_info": {
   "codemirror_mode": {
    "name": "ipython",
    "version": 2
   },
   "file_extension": ".py",
   "mimetype": "text/x-python",
   "name": "python",
   "nbconvert_exporter": "python",
   "pygments_lexer": "ipython2",
   "version": "2.7.11"
  }
 },
 "nbformat": 4,
 "nbformat_minor": 0
}
