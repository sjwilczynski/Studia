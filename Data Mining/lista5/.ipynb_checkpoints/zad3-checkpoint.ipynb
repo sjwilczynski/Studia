{
 "cells": [
  {
   "cell_type": "code",
   "execution_count": 4,
   "metadata": {
    "collapsed": false
   },
   "outputs": [],
   "source": [
    "% matplotlib inline\n",
    "\n",
    "import numpy as np\n",
    "import matplotlib.pyplot as plt\n",
    "import pandas as pd\n",
    "\n",
    "from sklearn import tree\n",
    "from sklearn import ensemble\n",
    "from sklearn import datasets, linear_model\n",
    "from sklearn import cross_validation, svm\n",
    "\n",
    "iris = datasets.load_iris()\n",
    "\n",
    "irisData = pd.DataFrame(iris.data, columns=iris.feature_names)\n",
    "irisData['species'] = pd.Categorical.from_codes(iris.target, iris.target_names)\n",
    "#irisData.head()\n",
    "\n",
    "tytanicData = pd.read_csv(\"train.csv\")\n",
    "tytanicData = tytanicData.drop(['PassengerId', 'Name', 'Ticket', 'Cabin'], axis = 1)\n",
    "tytanicData = tytanicData.dropna() #usuwanie tych danych gdzie czegos brakuje\n",
    "tytanicData['Sex'] = pd.Categorical.from_array(tytanicData['Sex']).codes\n",
    "tytanicData['Embarked'] = pd.Categorical.from_array(tytanicData['Embarked']).codes\n",
    "#tytanicData.head()"
   ]
  },
  {
   "cell_type": "code",
   "execution_count": null,
   "metadata": {
    "collapsed": false
   },
   "outputs": [],
   "source": [
    "y = irisData['species']\n",
    "X = irisData.drop('species', axis = 1)\n",
    "\n",
    "# stworzenie drzewa klasyfikacyjnego\n",
    "scores = np.empty(50)\n",
    "for i in range (1,50):\n",
    "    t = ensemble.RandomForestClassifier(n_estimators=i, n_jobs= -2)\n",
    "    score = cross_validation.cross_val_score(t,X,y,cv=10)\n",
    "    scores[i] = score.mean()\n",
    "print scores[1:]"
   ]
  },
  {
   "cell_type": "code",
   "execution_count": null,
   "metadata": {
    "collapsed": false
   },
   "outputs": [],
   "source": [
    "y = irisData['species']\n",
    "X = irisData.drop('species', axis = 1)\n",
    "\n",
    "# stworzenie drzewa klasyfikacyjnego\n",
    "scores = np.empty(50)\n",
    "for i in range (1,50):\n",
    "    t = ensemble.ExtraTreesClassifier(n_estimators=i, n_jobs=-2)\n",
    "    score = cross_validation.cross_val_score(t,X,y,cv=10)\n",
    "    scores[i] = score.mean()\n",
    "print scores[1:]"
   ]
  },
  {
   "cell_type": "code",
   "execution_count": null,
   "metadata": {
    "collapsed": true
   },
   "outputs": [],
   "source": [
    "y = tytanicData['Survived']\n",
    "X = tytanicData.drop('Survived', axis = 1)\n",
    "\n",
    "# stworzenie drzewa klasyfikacyjnego\n",
    "scores = np.empty(50)\n",
    "for i in range (1,50):\n",
    "    t = ensemble.RandomForestClassifier(n_estimators=i, n_jobs= -2)\n",
    "    score = cross_validation.cross_val_score(t,X,y,cv=10)\n",
    "    scores[i] = score.mean()\n",
    "print scores[1:]"
   ]
  },
  {
   "cell_type": "code",
   "execution_count": null,
   "metadata": {
    "collapsed": true
   },
   "outputs": [],
   "source": [
    "y = tytanicData['Survived']\n",
    "X = tytanicData.drop('Survived', axis = 1)\n",
    "\n",
    "# stworzenie drzewa klasyfikacyjnego\n",
    "scores = np.empty(50)\n",
    "for i in range (1,50):\n",
    "    t = ensemble.ExtraTreesClassifier(n_estimators=i, n_jobs= -2)\n",
    "    score = cross_validation.cross_val_score(t,X,y,cv=10)\n",
    "    scores[i] = score.mean()\n",
    "print scores[1:]"
   ]
  }
 ],
 "metadata": {
  "kernelspec": {
   "display_name": "Python [default]",
   "language": "python",
   "name": "python2"
  },
  "language_info": {
   "codemirror_mode": {
    "name": "ipython",
    "version": 2
   },
   "file_extension": ".py",
   "mimetype": "text/x-python",
   "name": "python",
   "nbconvert_exporter": "python",
   "pygments_lexer": "ipython2",
   "version": "2.7.12"
  }
 },
 "nbformat": 4,
 "nbformat_minor": 1
}
