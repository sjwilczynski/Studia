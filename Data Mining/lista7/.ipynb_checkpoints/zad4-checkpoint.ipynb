{
 "cells": [
  {
   "cell_type": "code",
   "execution_count": 1,
   "metadata": {
    "collapsed": false
   },
   "outputs": [
    {
     "name": "stdout",
     "output_type": "stream",
     "text": [
      "(250, 4920)\n"
     ]
    }
   ],
   "source": [
    "import numpy as np\n",
    "import matplotlib.pyplot as plt\n",
    "%matplotlib inline\n",
    "import pandas as pd\n",
    "from sklearn import tree\n",
    "from sklearn import ensemble\n",
    "from sklearn import datasets, linear_model\n",
    "from sklearn import cross_validation, svm\n",
    "from sklearn.metrics import confusion_matrix\n",
    "from sklearn.cluster import KMeans\n",
    "from sklearn.metrics import silhouette_score\n",
    "import scipy.io\n",
    "train = scipy.io.loadmat('ReducedImagesForTraining.mat')['images'].T\n",
    "test = scipy.io.loadmat('ReducedImagesForTesting.mat')['images'].T\n",
    "print train.shape\n",
    "\n",
    "\n",
    "def pca_bezdzielenia(X, wsp):\n",
    "    n,m = np.shape(X)\n",
    "    X_mean = np.mean(X, axis = 0)\n",
    "    X_std = np.std(X,axis = 0)\n",
    "    X_standarized = (X - X_mean)/X_std\n",
    "    S = np.cov(X_standarized.T)\n",
    "    D,V = np.linalg.eigh(S)\n",
    "    #rint \"suma wartosci wlasnych:\",np.sum(D)\n",
    "    Y = np.dot(V.T,X_standarized.T).T\n",
    "    k = 1; \n",
    "    suma = np.sum(D)\n",
    "    while(np.sum(D[-k:])/suma < wsp):\n",
    "        k = k+1\n",
    "    return Y[:,-k:], D[-k:], V[:,-k:], k\n",
    "\n",
    "def nearestPoints(knownData,testData,k):\n",
    "    D1 = np.sum(np.square(knownData),axis = 1,keepdims=True)\n",
    "    D2 = np.sum(np.square(testData),axis = 1,keepdims=True).T\n",
    "    M = D1 + D2 - 2. * np.dot(knownData,testData.T)\n",
    "    #print M\n",
    "    return np.argsort(M,axis=0)[:k,:].T\n",
    "    \n",
    "\n",
    "def KNN(knownData, testData, knownClass, testClass,k):\n",
    "    error = 0\n",
    "    nearest = nearestPoints(knownData,testData,k)\n",
    "    length = testData.shape[0]\n",
    "    nearestClass = np.empty(length)\n",
    "    #nearestClass = knownClass[np.argmax(np.apply_along_axis())\n",
    "    for i in range(length):\n",
    "        #nearestClass[i] = knownClass[np.argmax(np.bincount(nearest[i]))]\n",
    "        nearestClass[i] = np.argmax(np.bincount([knownClass[a] for a in nearest[i]]))\n",
    "    #for i in range(length):\n",
    "        if(not(nearestClass[i] == testClass[i])):\n",
    "           error += 1\n",
    "    #print nearestClass\n",
    "    return error\n",
    "\n",
    "from scipy import misc\n",
    "from IPython.display import Image\n",
    "from IPython.display import display\n",
    "def pokaz(i):\n",
    "    zdj1 = train[i,:]\n",
    "    plt.figure(figsize=(10,4))\n",
    "    plt.imshow(zdj1.reshape(60,82).T, cmap = 'gray')"
   ]
  },
  {
   "cell_type": "code",
   "execution_count": 6,
   "metadata": {
    "collapsed": true
   },
   "outputs": [],
   "source": [
    "knownClass = [int((k-1)/5) + 1 for k in range(1,251)]\n",
    "testClass = [int((k-1)/2) + 1 for k in range(1,101)]"
   ]
  },
  {
   "cell_type": "code",
   "execution_count": 7,
   "metadata": {
    "collapsed": false
   },
   "outputs": [
    {
     "name": "stdout",
     "output_type": "stream",
     "text": [
      "[1, 1, 1, 1, 1, 2, 2, 2, 2, 2, 3, 3, 3, 3, 3, 4, 4, 4, 4, 4, 5, 5, 5, 5, 5, 6, 6, 6, 6, 6, 7, 7, 7, 7, 7, 8, 8, 8, 8, 8, 9, 9, 9, 9, 9, 10, 10, 10, 10, 10, 11, 11, 11, 11, 11, 12, 12, 12, 12, 12, 13, 13, 13, 13, 13, 14, 14, 14, 14, 14, 15, 15, 15, 15, 15, 16, 16, 16, 16, 16, 17, 17, 17, 17, 17, 18, 18, 18, 18, 18, 19, 19, 19, 19, 19, 20, 20, 20, 20, 20, 21, 21, 21, 21, 21, 22, 22, 22, 22, 22, 23, 23, 23, 23, 23, 24, 24, 24, 24, 24, 25, 25, 25, 25, 25, 26, 26, 26, 26, 26, 27, 27, 27, 27, 27, 28, 28, 28, 28, 28, 29, 29, 29, 29, 29, 30, 30, 30, 30, 30, 31, 31, 31, 31, 31, 32, 32, 32, 32, 32, 33, 33, 33, 33, 33, 34, 34, 34, 34, 34, 35, 35, 35, 35, 35, 36, 36, 36, 36, 36, 37, 37, 37, 37, 37, 38, 38, 38, 38, 38, 39, 39, 39, 39, 39, 40, 40, 40, 40, 40, 41, 41, 41, 41, 41, 42, 42, 42, 42, 42, 43, 43, 43, 43, 43, 44, 44, 44, 44, 44, 45, 45, 45, 45, 45, 46, 46, 46, 46, 46, 47, 47, 47, 47, 47, 48, 48, 48, 48, 48, 49, 49, 49, 49, 49, 50, 50, 50, 50, 50]\n",
      "[1, 1, 2, 2, 3, 3, 4, 4, 5, 5, 6, 6, 7, 7, 8, 8, 9, 9, 10, 10, 11, 11, 12, 12, 13, 13, 14, 14, 15, 15, 16, 16, 17, 17, 18, 18, 19, 19, 20, 20, 21, 21, 22, 22, 23, 23, 24, 24, 25, 25, 26, 26, 27, 27, 28, 28, 29, 29, 30, 30, 31, 31, 32, 32, 33, 33, 34, 34, 35, 35, 36, 36, 37, 37, 38, 38, 39, 39, 40, 40, 41, 41, 42, 42, 43, 43, 44, 44, 45, 45, 46, 46, 47, 47, 48, 48, 49, 49, 50, 50]\n"
     ]
    }
   ],
   "source": [
    "print knownClass\n",
    "print testClass"
   ]
  },
  {
   "cell_type": "code",
   "execution_count": 8,
   "metadata": {
    "collapsed": false
   },
   "outputs": [
    {
     "name": "stdout",
     "output_type": "stream",
     "text": [
      "83\n"
     ]
    }
   ],
   "source": [
    "print KNN(train,test,knownClass, testClass, 1)"
   ]
  },
  {
   "cell_type": "code",
   "execution_count": null,
   "metadata": {
    "collapsed": true
   },
   "outputs": [],
   "source": []
  }
 ],
 "metadata": {
  "anaconda-cloud": {},
  "kernelspec": {
   "display_name": "Python [default]",
   "language": "python",
   "name": "python2"
  },
  "language_info": {
   "codemirror_mode": {
    "name": "ipython",
    "version": 2
   },
   "file_extension": ".py",
   "mimetype": "text/x-python",
   "name": "python",
   "nbconvert_exporter": "python",
   "pygments_lexer": "ipython2",
   "version": "2.7.12"
  }
 },
 "nbformat": 4,
 "nbformat_minor": 1
}
