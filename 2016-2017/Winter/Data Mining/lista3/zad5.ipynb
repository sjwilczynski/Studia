{
 "cells": [
  {
   "cell_type": "code",
   "execution_count": 1,
   "metadata": {
    "collapsed": false
   },
   "outputs": [
    {
     "name": "stderr",
     "output_type": "stream",
     "text": [
      "Vendor:  Continuum Analytics, Inc.\n",
      "Package: mkl\n",
      "Message: trial mode expires in 30 days\n"
     ]
    }
   ],
   "source": [
    "import numpy as np;\n",
    "import matplotlib.pyplot as plt"
   ]
  },
  {
   "cell_type": "code",
   "execution_count": 18,
   "metadata": {
    "collapsed": false
   },
   "outputs": [],
   "source": [
    "def between_groups_distances(means):\n",
    "    means2 = np.sum(np.square(means),axis = 0,keepdims=True)\n",
    "    means1 = means2.T\n",
    "    M = means1+means2 - 2. * np.dot(means.T,means)\n",
    "    return M\n",
    "    #return np.sum(M,axis = 0)\n",
    "    \n",
    "def in_group_distance(K,means,groups,D):\n",
    "    wynik = np.empty(K)\n",
    "    mapa = [(groups[id],id) for id in range(D.shape[1])]\n",
    "    #print \"grupy: \",groups\n",
    "    #print D.shape[1]\n",
    "    for i in range(K):   \n",
    "        #macierz = np.take(D,[b for (a,b) in mapa if a == i] ,axis = 1)\n",
    "        #M = np.dot(D,macierz)\n",
    "        #print \"dla i=\",i,[b for (a,b) in mapa if a == i]\n",
    "        M = D[:,[b for (a,b) in mapa if a == i]]\n",
    "        #print M.shape\n",
    "        M2 = np.sum(np.square(M),axis = 0,keepdims=True)\n",
    "        M1 = M2.T\n",
    "        res = M1+M2 - 2. * np.dot(M.T,M)\n",
    "        wynik[i] = np.max(res)\n",
    "    return wynik\n",
    "\n",
    "def create_groups(D,K,means):\n",
    "    D2 = np.sum(np.square(D),axis = 0,keepdims=True).T\n",
    "    means2 = np.sum(np.square(means),axis = 0,keepdims=True)\n",
    "    M = D2+means2 - 2. * np.dot(D.T,means)\n",
    "    return np.argmin(M,axis = 1).T\n",
    "    \n",
    "def randomize(n,K):\n",
    "    a = np.arange(n)\n",
    "    np.random.shuffle(a)\n",
    "    return a[:K]\n",
    "def my_kmeans(K,D):\n",
    "    iteracje = 0\n",
    "    #k - liczba grup, D - macierz danych d x n, gdzie n to liczba elementow\n",
    "    n = D.shape[1]\n",
    "    old_means = []\n",
    "    groups = []\n",
    "    randomed = randomize(n,K)\n",
    "    new_means = D[:,randomed]\n",
    "    while(not np.array_equal(old_means,new_means)):\n",
    "        iteracje += 1\n",
    "        groups = create_groups(D,K,new_means)\n",
    "        #print \"grupy:\",groups\n",
    "        old_means = np.copy(new_means)\n",
    "        macierz = np.take(np.eye(K),groups,axis = 0)\n",
    "        #print macierz.shape,groups.shape\n",
    "        new_means = np.dot(D,macierz)\n",
    "        g_counts = np.maximum(np.sum(macierz,axis = 0),1)\n",
    "        new_means /= g_counts\n",
    "    print \"Rozmiary grup: \",np.array(g_counts,dtype = int)\n",
    "    print \"Dystanse miedzy grupami: \",between_groups_distances(new_means)\n",
    "    #print \"Dystanse wewnatrz grupy: \",in_group_distance(K,new_means,groups,D)\n",
    "    return groups, new_means"
   ]
  },
  {
   "cell_type": "code",
   "execution_count": 9,
   "metadata": {
    "collapsed": false
   },
   "outputs": [],
   "source": [
    "transakcje = [[int(id) for id in line.split()] for line in open(\"kosarak.dat\")];\n",
    "maks = np.max([np.max(wiersz) for wiersz in transakcje])\n"
   ]
  },
  {
   "cell_type": "code",
   "execution_count": 10,
   "metadata": {
    "collapsed": false
   },
   "outputs": [],
   "source": [
    "T = 1000\n",
    "najczestsze = np.zeros(maks+1,dtype = int);\n",
    "#najczestsze1 = np.zeros(maks+1,dtype = int);\n",
    "for wiersz in transakcje:\n",
    "        najczestsze[wiersz] += 1;\n",
    "#najczestsze = \n",
    "#print sorted(najczestsze, reverse=True)\n",
    "najczestsze_indeksy = np.argsort(najczestsze)\n",
    "najczestsze = sorted(najczestsze, reverse=True)[-T:]\n",
    "#print najczestsze_indeksy\n",
    "naj_indeksy_T = np.flipud(najczestsze_indeksy[-T:]) #indeksy T najczestszych towarow malejaco\n",
    "#print naj_indeksy_T"
   ]
  },
  {
   "cell_type": "code",
   "execution_count": 12,
   "metadata": {
    "collapsed": false,
    "scrolled": true
   },
   "outputs": [
    {
     "name": "stdout",
     "output_type": "stream",
     "text": [
      "170.299120903\n"
     ]
    }
   ],
   "source": [
    "import time\n",
    "t = time.time()\n",
    "macierz = np.zeros((T,maks+1))\n",
    "mapa = {naj_indeksy_T[i] : i for i in range(T)}\n",
    "for wiersz in transakcje:\n",
    "        naj_w_wierszu = [mapa[id] for id in wiersz if id in mapa]\n",
    "        #print naj_w_wierszu\n",
    "        #fromTMostPop = [order[id] for id in transactions[i] if id in order]\n",
    "        for j in naj_w_wierszu:\n",
    "            for k in wiersz:\n",
    "                macierz[j][k] += 1 if j != k else 0\n",
    "print(time.time() - t)"
   ]
  },
  {
   "cell_type": "code",
   "execution_count": 19,
   "metadata": {
    "collapsed": false
   },
   "outputs": [
    {
     "name": "stdout",
     "output_type": "stream",
     "text": [
      "Rozmiary grup:  [   97  2234   293     7   127     3     5 37837    27   641]\n",
      "Dystanse miedzy grupami:  [[  1.19209290e-07   2.26551077e+08   6.85191433e+07   2.42839935e+09\n",
      "    2.00679579e+08   3.40301487e+11   1.90887413e+10   2.65817441e+08\n",
      "    3.25193402e+08   1.55003114e+08]\n",
      " [  2.26551077e+08  -1.39698386e-09   4.68718489e+07   3.65648877e+09\n",
      "    1.00525117e+07   3.53427862e+11   2.28575738e+10   1.66968729e+06\n",
      "    9.95729447e+08   6.98266482e+06]\n",
      " [  6.85191433e+07   4.68718489e+07   1.63912773e-07   3.07058524e+09\n",
      "    4.10217518e+07   3.47736994e+11   2.11488681e+10   6.56725393e+07\n",
      "    6.43292510e+08   1.78868550e+07]\n",
      " [  2.42839935e+09   3.65648877e+09   3.07058524e+09  -5.72204590e-06\n",
      "    3.54774956e+09   2.91871422e+11   1.02780026e+10   3.78104121e+09\n",
      "    1.20205315e+09   3.42800890e+09]\n",
      " [  2.00679579e+08   1.00525117e+07   4.10217518e+07   3.54774956e+09\n",
      "    2.60770321e-08   3.52345069e+11   2.24931545e+10   1.49258987e+07\n",
      "    9.31092445e+08   1.13711516e+07]\n",
      " [  3.40301487e+11   3.53427862e+11   3.47736994e+11   2.91871422e+11\n",
      "    3.52345069e+11  -6.46972656e-03   2.24125241e+11   3.54519070e+11\n",
      "    3.22013812e+11   3.51329211e+11]\n",
      " [  1.90887413e+10   2.28575738e+10   2.11488681e+10   1.02780026e+10\n",
      "    2.24931545e+10   2.24125241e+11   3.05175781e-05   2.31894586e+10\n",
      "    1.48056334e+10   2.22094013e+10]\n",
      " [  2.65817441e+08   1.66968729e+06   6.56725393e+07   3.78104121e+09\n",
      "    1.49258987e+07   3.54519070e+11   2.31894586e+10  -9.09494702e-12\n",
      "    1.07306797e+09   1.52825211e+07]\n",
      " [  3.25193402e+08   9.95729447e+08   6.43292510e+08   1.20205315e+09\n",
      "    9.31092445e+08   3.22013812e+11   1.48056334e+10   1.07306797e+09\n",
      "    4.76837158e-07   8.51895057e+08]\n",
      " [  1.55003114e+08   6.98266482e+06   1.78868550e+07   3.42800890e+09\n",
      "    1.13711516e+07   3.51329211e+11   2.22094013e+10   1.52825211e+07\n",
      "    8.51895057e+08   1.49011612e-08]]\n"
     ]
    }
   ],
   "source": [
    "groups, means = my_kmeans(10,macierz)"
   ]
  },
  {
   "cell_type": "code",
   "execution_count": 89,
   "metadata": {
    "collapsed": false
   },
   "outputs": [
    {
     "name": "stdout",
     "output_type": "stream",
     "text": [
      "[[2 3]\n",
      " [5 6]\n",
      " [8 9]]\n",
      "[(0, 0), (1, 1), (1, 2)]\n",
      "[1, 2]\n",
      "[[2 3]\n",
      " [5 6]\n",
      " [8 9]]\n"
     ]
    }
   ],
   "source": [
    "x = np.array([[1,2,3],[4,5,6],[7,8,9]])\n",
    "print x[:,[1,2]]\n",
    "g = [0,1,1]\n",
    "m = [(g[id],id) for id in range(3)]\n",
    "print m\n",
    "#macierz = np.take(D,[b for (a,b) in mapa if a == i] ,axis = 1)\n",
    "#M = np.dot(D,macierz)\n",
    "y = [b for (a,b) in m if a == 1]\n",
    "print y\n",
    "print x[:,y]"
   ]
  },
  {
   "cell_type": "code",
   "execution_count": null,
   "metadata": {
    "collapsed": true
   },
   "outputs": [],
   "source": []
  }
 ],
 "metadata": {
  "anaconda-cloud": {},
  "kernelspec": {
   "display_name": "Python [default]",
   "language": "python",
   "name": "python2"
  },
  "language_info": {
   "codemirror_mode": {
    "name": "ipython",
    "version": 2
   },
   "file_extension": ".py",
   "mimetype": "text/x-python",
   "name": "python",
   "nbconvert_exporter": "python",
   "pygments_lexer": "ipython2",
   "version": "2.7.12"
  }
 },
 "nbformat": 4,
 "nbformat_minor": 0
}
