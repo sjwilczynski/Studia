{
 "cells": [
  {
   "cell_type": "code",
   "execution_count": 1,
   "metadata": {
    "collapsed": false
   },
   "outputs": [
    {
     "name": "stdout",
     "output_type": "stream",
     "text": [
      "(250, 4920)\n"
     ]
    }
   ],
   "source": [
    "import numpy as np\n",
    "import matplotlib.pyplot as plt\n",
    "%matplotlib inline\n",
    "import pandas as pd\n",
    "from sklearn import tree\n",
    "from sklearn import ensemble\n",
    "from sklearn import datasets, linear_model\n",
    "from sklearn import cross_validation, svm\n",
    "from sklearn.metrics import confusion_matrix\n",
    "from sklearn.cluster import KMeans\n",
    "from sklearn.metrics import silhouette_score\n",
    "import scipy.io\n",
    "train = scipy.io.loadmat('ReducedImagesForTraining.mat')['images'].T\n",
    "test = scipy.io.loadmat('ReducedImagesForTesting.mat')['images'].T\n",
    "print train.shape\n",
    "\n",
    "\n",
    "def pca(X, wsp):\n",
    "    n,m = np.shape(X)\n",
    "    X_mean = np.mean(X, axis = 0)\n",
    "    X_std = np.std(X,axis = 0)\n",
    "    X_standarized = (X - X_mean)/X_std\n",
    "    S = np.cov(X_standarized.T)\n",
    "    D,V = np.linalg.eigh(S)\n",
    "    #rint \"suma wartosci wlasnych:\",np.sum(D)\n",
    "    Y = np.dot(V.T,X_standarized.T).T\n",
    "    D_bis = np.matrix(1/np.sqrt(D)).reshape(m,1)\n",
    "    Y_new = np.multiply(D_bis,Y.T).T\n",
    "    k = 1; \n",
    "    suma = np.sum(D)\n",
    "    while(np.sum(D[-k:])/suma < wsp):\n",
    "        k = k+1\n",
    "    return Y_new[:,-k:], D[-k:], V[:,-k:], k\n",
    "\n",
    "\n",
    "def PCA(X, k):\n",
    "    n,m = np.shape(X)\n",
    "    X_mean = np.mean(X, axis = 0)\n",
    "    X_std = np.std(X,axis = 0)\n",
    "    X_standarized = (X - X_mean)/X_std\n",
    "    S = np.cov(X_standarized.T)\n",
    "    D,V = np.linalg.eigh(S)\n",
    "    #print \"suma wartosci wlasnych:\",np.sum(D)\n",
    "    Y = np.dot(V.T,X_standarized.T).T\n",
    "    D_bis = np.matrix(1/np.sqrt(D)).reshape(m,1)\n",
    "    Y_new = np.multiply(D_bis,Y.T).T\n",
    "    #print Y_new\n",
    "    return Y_new[:,-k:]\n",
    "\n",
    "\n",
    "def nearestPoints(knownData,testData,k):\n",
    "    D1 = np.sum(np.square(knownData),axis = 1,keepdims=True)\n",
    "    D2 = np.sum(np.square(testData),axis = 1,keepdims=True).T\n",
    "    M = D1 + D2 - 2. * np.dot(knownData,testData.T)\n",
    "    #print M\n",
    "    return np.asarray(np.argsort(M,axis=0)[:k,:].T)\n",
    "    \n",
    "\n",
    "def KNN(knownData, testData, knownClass, testClass,k):\n",
    "    error = 0\n",
    "    nearest = nearestPoints(knownData,testData,k)\n",
    "    #print nearest\n",
    "    length = testData.shape[0]\n",
    "    nearestClass = np.empty(length)\n",
    "    error_list = []\n",
    "    for i in range(0,length):\n",
    "        #print i,nearest[i]\n",
    "        nearestClass[i] = np.argmax(np.bincount([knownClass[a] for a in nearest[i]]))\n",
    "        if(not(nearestClass[i] == testClass[i])):\n",
    "           error += 1\n",
    "           error_list = np.append(error_list, [i])\n",
    "    return error, error_list\n",
    "\n",
    "from scipy import misc\n",
    "from IPython.display import Image\n",
    "from IPython.display import display\n",
    "def pokaz(i):\n",
    "    zdj1 = test[i,:]\n",
    "    plt.figure(figsize=(10,4))\n",
    "    plt.imshow(zdj1.reshape(60,82).T, cmap = 'gray')\n",
    "knownClass = [int((k-1)/5) + 1 for k in range(1,251)]\n",
    "testClass = [int((k-1)/2) + 1 for k in range(1,101)]\n",
    "#print knownClass\n",
    "#print testClass"
   ]
  },
  {
   "cell_type": "code",
   "execution_count": 2,
   "metadata": {
    "collapsed": false
   },
   "outputs": [],
   "source": [
    "def crossValidation(data,dataClass,k):\n",
    "    size = data.shape[0]\n",
    "    arr = np.arange(size)\n",
    "    np.random.shuffle(arr)\n",
    "    err = 0\n",
    "    n = int(size/10)\n",
    "    for i in range(10):\n",
    "        mask2 = arr[np.arange(i*n,min((i+1)*n,size))]\n",
    "        mask1 = arr[np.concatenate((np.arange(i*n),np.arange((i+1)*n,size)))]\n",
    "        er = KNN(data[mask1],data[mask2],dataClass[mask1],dataClass[mask2],k)\n",
    "        #print er\n",
    "        err += er[0]\n",
    "    return float(err)/(size) * 100"
   ]
  },
  {
   "cell_type": "code",
   "execution_count": 3,
   "metadata": {
    "collapsed": false
   },
   "outputs": [
    {
     "name": "stdout",
     "output_type": "stream",
     "text": [
      "88\n",
      "(4920, 88)\n",
      "(100, 4920)\n",
      "88\n",
      "(4920, 88)\n",
      "(100, 4920)\n",
      "(100, 88)\n",
      "(100, 88)\n"
     ]
    }
   ],
   "source": [
    "train_new , D, V, k = pca(train, 0.95)\n",
    "print k\n",
    "print V.shape\n",
    "print test.shape\n",
    "train_new , D, V, k = pca(train, 0.95)\n",
    "print k\n",
    "print V.shape\n",
    "print test.shape\n",
    "test_mean = np.mean(test, axis = 0)\n",
    "test_std = np.std(test,axis = 0)\n",
    "test_standarized = (test - test_mean)/test_std\n",
    "test_new = np.dot(V.T, test_standarized.T).T\n",
    "print test_new.shape\n",
    "test_mean = np.mean(test, axis = 0)\n",
    "test_std = np.std(test,axis = 0)\n",
    "test_standarized = (test - test_mean)/test_std\n",
    "test_new = np.dot(V.T, test_standarized.T).T\n",
    "print test_new.shape"
   ]
  },
  {
   "cell_type": "code",
   "execution_count": 4,
   "metadata": {
    "collapsed": false
   },
   "outputs": [
    {
     "name": "stdout",
     "output_type": "stream",
     "text": [
      "<type 'numpy.ndarray'>\n",
      "<type 'numpy.ndarray'>\n",
      "[[  48.25         44.58333333   41.08333333 ...,  173.          173.08333333\n",
      "   171.66666667]\n",
      " [  77.           74.08333333   79.16666667 ...,  126.41666667  113.75\n",
      "    97.33333333]\n",
      " [  24.08333333   23.5          24.25       ...,  255.          255.          255.        ]\n",
      " ..., \n",
      " [  31.08333333   32.           33.41666667 ...,   91.75         84.           78.5       ]\n",
      " [ 255.          255.          255.         ...,  255.          255.          255.        ]\n",
      " [  23.91666667   24.41666667   23.25       ...,  255.          215.83333333\n",
      "    57.5       ]] [16 24  6 40 45  8 37 16  1 48 39  8 45 39  4 32 14 50 31 12 40 13 16 37 24\n",
      " 24 17 18 44 34 17 15 44 47 26  6 47 19 20 12 25 14 35 38 30 35 50 23  3 22\n",
      " 20 25 39 36 28 13 11 28  1 29 26 44 31 28 11 43 26 48  7 29 25 21 21 25 46\n",
      " 25 30 27 37 46 42 29  6 41 10 11 20 20 41 47 14  2 15 21 23 37  1 26 36 45\n",
      " 13  2 36 13  7 39 22 36 10 40 12 21 20 22 21 39  7 47  7 34 15 41 21 35  9\n",
      " 46  9 28 17 49  3 10 27  3  2 31 35 29 48 22  8 48 36 27 49  9 41 40 46 44\n",
      " 30 31 32 10 38  3 34 50  3  8 38 36 37 20 22 26 27 38 18 16 48 20 41 33  4\n",
      "  9 49 23 49 50 43 43 47 12 45 42 49 50 32 14 14 30 11 18 44 29 28  1 32 37\n",
      " 46  4  5 34  2 42 35 17 31 12 19 30 19 38 40 25  1 16 17  9 46  8 18 19 14\n",
      " 14  7 47 44 34 18 31 28 22 10 43 38 11 42 27 15 45 42  5 30 45 16 35 42 16\n",
      "  2 25 41  6 40 11 12  2 49 10  5  6 23 40 44 37 13 24  5 36 27 34 26 33 15\n",
      " 43 33 23  8 35 34  2 48 33 41 39 18 30  6 50 21 43 11 12 13 39  9 19 28  5\n",
      " 29 33 33 23 19 48 19  5 15  8  9 24 45 32 22 33  4  4 29  3  6  1 26  7 42\n",
      "  3 18 27 23 15 13  5 24 49 50 17 31  4 46 43  7 32 47 10  4 32  1 24 38 17]\n",
      "[ 1  1  1  1  1  2  2  2  2  2  3  3  3  3  3  4  4  4  4  4  5  5  5  5  5\n",
      "  6  6  6  6  6  7  7  7  7  7  8  8  8  8  8  9  9  9  9  9 10 10 10 10 10\n",
      " 11 11 11 11 11 12 12 12 12 12 13 13 13 13 13 14 14 14 14 14 15 15 15 15 15\n",
      " 16 16 16 16 16 17 17 17 17 17 18 18 18 18 18 19 19 19 19 19 20 20 20 20 20\n",
      " 21 21 21 21 21 22 22 22 22 22 23 23 23 23 23 24 24 24 24 24 25 25 25 25 25\n",
      " 26 26 26 26 26 27 27 27 27 27 28 28 28 28 28 29 29 29 29 29 30 30 30 30 30\n",
      " 31 31 31 31 31 32 32 32 32 32 33 33 33 33 33 34 34 34 34 34 35 35 35 35 35\n",
      " 36 36 36 36 36 37 37 37 37 37 38 38 38 38 38 39 39 39 39 39 40 40 40 40 40\n",
      " 41 41 41 41 41 42 42 42 42 42 43 43 43 43 43 44 44 44 44 44 45 45 45 45 45\n",
      " 46 46 46 46 46 47 47 47 47 47 48 48 48 48 48 49 49 49 49 49 50 50 50 50 50\n",
      "  1  1  2  2  3  3  4  4  5  5  6  6  7  7  8  8  9  9 10 10 11 11 12 12 13\n",
      " 13 14 14 15 15 16 16 17 17 18 18 19 19 20 20 21 21 22 22 23 23 24 24 25 25\n",
      " 26 26 27 27 28 28 29 29 30 30 31 31 32 32 33 33 34 34 35 35 36 36 37 37 38\n",
      " 38 39 39 40 40 41 41 42 42 43 43 44 44 45 45 46 46 47 47 48 48 49 49 50 50]\n",
      "[[  2.90367415e-01   3.89776653e-01   6.52113711e-01 ...,  -1.32287346e+00\n",
      "    4.20472630e-01   2.60986194e-01]\n",
      " [ -7.88697377e-01   2.88063921e+00   1.00190295e+00 ...,  -2.80424046e-01\n",
      "   -2.29261951e-01  -3.59166032e-01]\n",
      " [ -3.96001584e-01  -1.15199407e+00   2.94865472e-01 ...,  -5.08954182e+00\n",
      "   -5.25442934e-02  -5.88349593e+01]\n",
      " ..., \n",
      " [  2.44480963e+00   1.08150436e-01   1.28521598e+00 ...,   2.91106562e+00\n",
      "    8.68050516e+00  -6.62898044e+01]\n",
      " [ -9.01476183e-01   1.90640142e-02  -1.93899315e-01 ...,  -2.18818987e+00\n",
      "    1.10774342e-01   3.37463826e-01]\n",
      " [  6.84651567e-01   3.83913129e-01  -4.43661659e-01 ...,   1.45498031e+00\n",
      "   -1.48186778e+00   4.42281988e-01]] [39 41  8 43  6 24 38 34 14 27  9 34 29 26  2 29 23  3 15 50 40 31 20 10 37\n",
      " 27 31 19  2 23 34 38  5  7 29 14 49 45 49  6 32  3 41 25 37 18 11 47  4 38\n",
      " 21  9 39 43  9 33  9  3 33 16 48 37 43 19 50 30 14  6 22  2 18 24 11 18  9\n",
      "  4 17 48 23  6 18 21 19 20  6 46 18 28 25 22 17  7 24 44 26 10  5 30 38 10\n",
      " 36  1 21  5 46 38 10  5 41  8 40 14  8  7 12 32  8 42 38 32 48 43 31  8 28\n",
      " 44 25 41 17 25  7 19 22 39 12 42 13 23 35  4 34 13 33 28 16 18 47 11 27 39\n",
      " 15  1 33 29 15  8  4 12  7 35 25 37 50 42 44  3 49 29 23 35 40 24  3 46 10\n",
      "  2 27 15 17 40 39 48 47 47 32 26 12 35 24 50 36 42 21  4  1 44 42 48 20 45\n",
      "  9 39 22  6 11 17 42 44 27 33 16 29 21 16 16 34 17 35 10 23 26 14 15 16 12\n",
      " 22  3 36 31 30 13 37 30 13 28 46 49  5 40 28 45 18  1  4  5 20 33  1 50 32\n",
      " 20 34 46 32 46 36 13 47 20 35  9 31 44 30 45 35  2 41 26 43 28  5 36 48 38\n",
      "  3  1 29 27 21 37 25  7 47 42 36 48 34 20  1 43 22 16 21 49 32 49 49 15 30\n",
      " 31 45 46  2 41 11  8 37 22 43 36  7 40 47 12 45 40 26 14 30 23 15  6 39 41\n",
      " 11 17 24  2 26 44 33 50 19 11  4 45 19 10 25 50 12 13 28 13 31 24 14 19 27]\n",
      "[[-0.44974331 -0.14514719  0.28719828 ..., -0.10845399  0.15541058\n",
      "   1.20260344]\n",
      " [-1.01883946 -1.17364923  1.20199416 ...,  0.16218879  0.09799536\n",
      "   0.66037098]\n",
      " [ 0.92585275  0.29015624  1.63845021 ...,  0.24931232  1.50621577\n",
      "  -1.20346172]\n",
      " ..., \n",
      " [-0.73085677  0.67637613  0.61335363 ...,  0.8498617   0.12134433\n",
      "   0.86739585]\n",
      " [-0.89301262 -1.36337416 -0.70619944 ..., -1.8622257   0.19752336\n",
      "   0.80539989]\n",
      " [-1.05977174  0.07684012 -0.52661308 ..., -0.35843061  0.05606103\n",
      "  -1.64266931]] [18 10  1 46  2 48 42 14 27 50 35 22 13 21 44 12 21 35 47 21  9 34 11 41 13\n",
      "  3  7 43 50 35  7 39 37 47 32 39 18 14 37 27 34  5 40 28 30  7  8 32 22 32\n",
      " 44  6 38 33 27 45 49 10 31 39  1 45 49 28  7  8 38 43  9 47 11 14 43 25 29\n",
      " 31 22 45 12  2  4 44  5 16 36  3 29 19  4 11 11 43 28 33 39 30 14 21  1 33\n",
      " 10  8 14 23 21 42 39 28 33 27 17 40 49 26 34 26 12 27 32  1 12 20 34 20 13\n",
      " 26  8 26 32 32 12  4  5 40 28  8 21 33 49 18 46 42  3 27 28 41 36 48 35 41\n",
      "  7 19 28 25 44 19 13 31 25 44 10 14 22 25 15 29 46 24 24  6  7 41 38 39  8\n",
      " 12 22 48 24  3 38  4  3 32 17 48 46 13 16 31  6 33 49 34 26  9 21 35 35  3\n",
      " 45 40 25 41 23 31 24 15  3 11 37 24 25 20  2 30  9 44 16 45 38  1 18 17 42\n",
      " 42 20 47 10 18 30 42 42  2 11 33 15 17 36 40 14 17 23 26 25 38 41 45 20 26\n",
      "  5  4  1  2 23 36 19 40 20 10 19 13 50 48  9 47 18 31 22 50  6 12 36 50 47\n",
      " 16  6 16 18  9 46 10 43 48  6 30 29 29 36 44 31 19 35 39 37  5 43 47 27 16\n",
      " 41 48 23 38 29 20  6 34  7 22 49  5 37 46 17 24  5 50 17 37  4 45 50 24  8\n",
      " 30 37  2 16 15 23  2 43 19 15 30  4 49 46  1 36 13 15 11 29 23 34 40  9 15]\n"
     ]
    }
   ],
   "source": [
    "X = np.concatenate((train,test))\n",
    "print type(X)\n",
    "#print X.shape\n",
    "Y = np.asarray(np.concatenate((train_new,test_new)))\n",
    "print type(Y)\n",
    "Y2, D, V, k = pca(X,0.95)\n",
    "Y2 = np.asarray(Y2)\n",
    "#Y , D1, V1, k1 = pca(train, 0.95)\n",
    "#print Y.shape\n",
    "Xclass = np.concatenate((knownClass,testClass))\n",
    "#print Xclass, Xclass.shape\n",
    "\n",
    "x1,x2 = zip(*np.random.permutation(zip(X,Xclass)))\n",
    "X1, X1class = np.asarray(x1),np.asarray(x2)\n",
    "print X1,X1class\n",
    "print Xclass\n",
    "y1,y2 = zip(*np.random.permutation(zip(Y,Xclass)))\n",
    "Y1, Y1class = np.asarray(y1),np.asarray(y2)\n",
    "print Y1,Y1class\n",
    "y11,y12 = zip(*np.random.permutation(zip(Y2,Xclass)))\n",
    "Y12, Y12class = np.asarray(y11),np.asarray(y12)\n",
    "print Y12,Y12class"
   ]
  },
  {
   "cell_type": "code",
   "execution_count": 5,
   "metadata": {
    "collapsed": false
   },
   "outputs": [
    {
     "name": "stdout",
     "output_type": "stream",
     "text": [
      "[[  5.42848949e-01   1.36095307e+00   1.28075704e+00 ...,   7.39837277e-01\n",
      "   -1.42111382e-01   1.81469289e-02]\n",
      " [ -3.88187595e-01  -1.19048863e-01   1.25604304e+00 ...,   7.86743312e-01\n",
      "   -1.97893068e-01   4.61754611e-02]\n",
      " [ -1.39957018e-01  -5.99382371e-01   1.02351997e+00 ...,   8.34146404e-01\n",
      "   -1.34783842e-01   5.43702317e-02]\n",
      " ..., \n",
      " [ -1.25573344e-01   3.91747628e-01   1.19117969e+00 ...,   2.59235358e-01\n",
      "   -1.96792734e-03  -1.67526354e+00]\n",
      " [ -6.59184041e-02  -2.30256385e+00   4.73693552e-02 ...,   3.34312276e-02\n",
      "    1.67558951e+00  -1.20032058e+00]\n",
      " [ -6.97597652e-03  -1.95054532e+00  -2.08402938e-01 ...,  -2.16016154e-01\n",
      "   -2.28887345e-01  -2.16060247e+00]]\n",
      "68\n"
     ]
    }
   ],
   "source": [
    "print Y2\n",
    "print k\n",
    "#print Y12"
   ]
  },
  {
   "cell_type": "code",
   "execution_count": 6,
   "metadata": {
    "collapsed": false
   },
   "outputs": [
    {
     "name": "stdout",
     "output_type": "stream",
     "text": [
      "1\n",
      "Dla oryginalnego zbioru: 49.1428571429 %\n",
      "Dla zredukowanych danych: 32.5714285714 %\n",
      "Dla zredukowanych danych: 8.57142857143 %\n",
      "2\n",
      "Dla oryginalnego zbioru: 57.1428571429 %\n",
      "Dla zredukowanych danych: 40.8571428571 %\n",
      "Dla zredukowanych danych: 12.2857142857 %\n",
      "3\n",
      "Dla oryginalnego zbioru: 56.2857142857 %\n",
      "Dla zredukowanych danych: 42.8571428571 %\n",
      "Dla zredukowanych danych: 12.5714285714 %\n",
      "4\n",
      "Dla oryginalnego zbioru: 58.8571428571 %\n",
      "Dla zredukowanych danych: 38.2857142857 %\n",
      "Dla zredukowanych danych: 12.0 %\n",
      "5\n",
      "Dla oryginalnego zbioru: 63.1428571429 %\n",
      "Dla zredukowanych danych: 38.5714285714 %\n",
      "Dla zredukowanych danych: 12.2857142857 %\n",
      "6\n",
      "Dla oryginalnego zbioru: 69.1428571429 %\n",
      "Dla zredukowanych danych: 39.1428571429 %\n",
      "Dla zredukowanych danych: 13.1428571429 %\n",
      "7\n",
      "Dla oryginalnego zbioru: 75.7142857143 %\n",
      "Dla zredukowanych danych: 41.1428571429 %\n",
      "Dla zredukowanych danych: 14.2857142857 %\n",
      "8\n",
      "Dla oryginalnego zbioru: 74.5714285714 %\n",
      "Dla zredukowanych danych: 41.4285714286 %\n",
      "Dla zredukowanych danych: 14.5714285714 %\n",
      "9\n",
      "Dla oryginalnego zbioru: 78.5714285714 %\n",
      "Dla zredukowanych danych: 47.1428571429 %\n",
      "Dla zredukowanych danych: 17.4285714286 %\n"
     ]
    }
   ],
   "source": [
    "#print KNN(train,test,knownClass,testClass,1)\n",
    "#print KNN(train_new,test_new,knownClass,testClass,1)\n",
    "for i in range(1,10):\n",
    "    print i\n",
    "    print \"Dla oryginalnego zbioru:\",crossValidation(X1,X1class,i),\"%\"\n",
    "    print \"Dla zredukowanych danych:\",crossValidation(Y1,Y1class,i),\"%\"\n",
    "    print \"Dla zredukowanych danych:\",crossValidation(Y12,Y12class,i),\"%\""
   ]
  },
  {
   "cell_type": "code",
   "execution_count": 7,
   "metadata": {
    "collapsed": false
   },
   "outputs": [],
   "source": [
    "def everything(X,Xclass,k):\n",
    "    Y = np.asarray(PCA(X,k))\n",
    "    x1,x2 = zip(*np.random.permutation(zip(X,Xclass)))\n",
    "    X1, X1class = np.asarray(x1),np.asarray(x2)\n",
    "    y1,y2 = zip(*np.random.permutation(zip(Y,Xclass)))\n",
    "    Y1, Y1class = np.asarray(y1),np.asarray(y2)\n",
    "    for i in range(1,10):\n",
    "        print i\n",
    "        print \"Dla oryginalnego zbioru:\",crossValidation(X1,X1class,i),\"%\"\n",
    "        print \"Dla zredukowanych danych:\",crossValidation(Y1,Y1class,i),\"%\""
   ]
  },
  {
   "cell_type": "code",
   "execution_count": 8,
   "metadata": {
    "collapsed": false
   },
   "outputs": [
    {
     "name": "stdout",
     "output_type": "stream",
     "text": [
      "1\n",
      "Dla oryginalnego zbioru: 48.5714285714 %\n",
      "Dla zredukowanych danych: 8.85714285714 %\n",
      "2\n",
      "Dla oryginalnego zbioru: 56.5714285714 %\n",
      "Dla zredukowanych danych: 12.8571428571 %\n",
      "3\n",
      "Dla oryginalnego zbioru: 57.7142857143 %\n",
      "Dla zredukowanych danych: 14.2857142857 %\n",
      "4\n",
      "Dla oryginalnego zbioru: 60.0 %\n",
      "Dla zredukowanych danych: 12.0 %\n",
      "5\n",
      "Dla oryginalnego zbioru: 65.7142857143 %\n",
      "Dla zredukowanych danych: 11.4285714286 %\n",
      "6\n",
      "Dla oryginalnego zbioru: 66.0 %\n",
      "Dla zredukowanych danych: 13.1428571429 %\n",
      "7\n",
      "Dla oryginalnego zbioru: 71.7142857143 %\n",
      "Dla zredukowanych danych: 15.1428571429 %\n",
      "8\n",
      "Dla oryginalnego zbioru: 75.1428571429 %\n",
      "Dla zredukowanych danych: 16.0 %\n",
      "9\n",
      "Dla oryginalnego zbioru: 77.4285714286 %\n",
      "Dla zredukowanych danych: 17.4285714286 %\n"
     ]
    }
   ],
   "source": [
    "everything(X,Xclass,68)"
   ]
  },
  {
   "cell_type": "code",
   "execution_count": 9,
   "metadata": {
    "collapsed": false
   },
   "outputs": [
    {
     "name": "stdout",
     "output_type": "stream",
     "text": [
      "1\n",
      "Dla oryginalnego zbioru: 50.0 %\n",
      "Dla zredukowanych danych: 98.2857142857 %\n",
      "2\n",
      "Dla oryginalnego zbioru: 58.2857142857 %\n",
      "Dla zredukowanych danych: 98.2857142857 %\n",
      "3\n",
      "Dla oryginalnego zbioru: 59.4285714286 %\n",
      "Dla zredukowanych danych: 98.5714285714 %\n",
      "4\n",
      "Dla oryginalnego zbioru: 62.8571428571 %\n",
      "Dla zredukowanych danych: 98.8571428571 %\n",
      "5\n",
      "Dla oryginalnego zbioru: 67.7142857143 %\n",
      "Dla zredukowanych danych: 98.8571428571 %\n",
      "6\n",
      "Dla oryginalnego zbioru: 72.0 %\n",
      "Dla zredukowanych danych: 99.1428571429 %\n",
      "7\n",
      "Dla oryginalnego zbioru: 71.4285714286 %\n",
      "Dla zredukowanych danych: 98.5714285714 %\n",
      "8\n",
      "Dla oryginalnego zbioru: 72.0 %\n",
      "Dla zredukowanych danych: 98.8571428571 %\n",
      "9\n",
      "Dla oryginalnego zbioru: 76.0 %\n",
      "Dla zredukowanych danych: 99.1428571429 %\n"
     ]
    }
   ],
   "source": [
    "N = 2000\n",
    "everything(X,Xclass,N)"
   ]
  },
  {
   "cell_type": "code",
   "execution_count": 10,
   "metadata": {
    "collapsed": false
   },
   "outputs": [
    {
     "name": "stdout",
     "output_type": "stream",
     "text": [
      "1\n",
      "Dla oryginalnego zbioru: 48.0 %\n",
      "Dla zredukowanych danych: 97.4285714286 %\n",
      "2\n",
      "Dla oryginalnego zbioru: 57.7142857143 %\n",
      "Dla zredukowanych danych: 98.0 %\n",
      "3\n",
      "Dla oryginalnego zbioru: 56.8571428571 %\n",
      "Dla zredukowanych danych: 97.7142857143 %\n",
      "4\n",
      "Dla oryginalnego zbioru: 60.2857142857 %\n",
      "Dla zredukowanych danych: 98.5714285714 %\n",
      "5\n",
      "Dla oryginalnego zbioru: 67.1428571429 %\n",
      "Dla zredukowanych danych: 98.8571428571 %\n",
      "6\n",
      "Dla oryginalnego zbioru: 66.8571428571 %\n",
      "Dla zredukowanych danych: 98.5714285714 %\n",
      "7\n",
      "Dla oryginalnego zbioru: 70.5714285714 %\n",
      "Dla zredukowanych danych: 98.5714285714 %\n",
      "8\n",
      "Dla oryginalnego zbioru: 77.1428571429 %\n",
      "Dla zredukowanych danych: 99.1428571429 %\n",
      "9\n",
      "Dla oryginalnego zbioru: 77.7142857143 %\n",
      "Dla zredukowanych danych: 98.5714285714 %\n"
     ]
    }
   ],
   "source": [
    "N = 1000\n",
    "everything(X,Xclass,N)"
   ]
  },
  {
   "cell_type": "code",
   "execution_count": 11,
   "metadata": {
    "collapsed": false
   },
   "outputs": [
    {
     "name": "stdout",
     "output_type": "stream",
     "text": [
      "1\n",
      "Dla oryginalnego zbioru: 49.1428571429 %\n",
      "Dla zredukowanych danych: 98.0 %\n",
      "2\n",
      "Dla oryginalnego zbioru: 59.1428571429 %\n",
      "Dla zredukowanych danych: 98.0 %\n",
      "3\n",
      "Dla oryginalnego zbioru: 58.8571428571 %\n",
      "Dla zredukowanych danych: 98.0 %\n",
      "4\n",
      "Dla oryginalnego zbioru: 58.0 %\n",
      "Dla zredukowanych danych: 98.2857142857 %\n",
      "5\n",
      "Dla oryginalnego zbioru: 64.5714285714 %\n",
      "Dla zredukowanych danych: 97.7142857143 %\n",
      "6\n",
      "Dla oryginalnego zbioru: 67.4285714286 %\n",
      "Dla zredukowanych danych: 98.0 %\n",
      "7\n",
      "Dla oryginalnego zbioru: 71.1428571429 %\n",
      "Dla zredukowanych danych: 98.2857142857 %\n",
      "8\n",
      "Dla oryginalnego zbioru: 73.1428571429 %\n",
      "Dla zredukowanych danych: 98.8571428571 %\n",
      "9\n",
      "Dla oryginalnego zbioru: 80.0 %\n",
      "Dla zredukowanych danych: 98.2857142857 %\n"
     ]
    }
   ],
   "source": [
    "N = 500\n",
    "everything(X,Xclass,N)"
   ]
  },
  {
   "cell_type": "code",
   "execution_count": 12,
   "metadata": {
    "collapsed": false
   },
   "outputs": [
    {
     "name": "stdout",
     "output_type": "stream",
     "text": [
      "1\n",
      "Dla oryginalnego zbioru: 47.4285714286 %\n",
      "Dla zredukowanych danych: 51.4285714286 %\n",
      "2\n",
      "Dla oryginalnego zbioru: 58.0 %\n",
      "Dla zredukowanych danych: 66.8571428571 %\n",
      "3\n",
      "Dla oryginalnego zbioru: 57.1428571429 %\n",
      "Dla zredukowanych danych: 69.1428571429 %\n",
      "4\n",
      "Dla oryginalnego zbioru: 61.1428571429 %\n",
      "Dla zredukowanych danych: 67.4285714286 %\n",
      "5\n",
      "Dla oryginalnego zbioru: 63.4285714286 %\n",
      "Dla zredukowanych danych: 68.5714285714 %\n",
      "6\n",
      "Dla oryginalnego zbioru: 66.2857142857 %\n",
      "Dla zredukowanych danych: 71.1428571429 %\n",
      "7\n",
      "Dla oryginalnego zbioru: 68.8571428571 %\n",
      "Dla zredukowanych danych: 74.2857142857 %\n",
      "8\n",
      "Dla oryginalnego zbioru: 72.5714285714 %\n",
      "Dla zredukowanych danych: 76.2857142857 %\n",
      "9\n",
      "Dla oryginalnego zbioru: 76.2857142857 %\n",
      "Dla zredukowanych danych: 75.1428571429 %\n"
     ]
    }
   ],
   "source": [
    "N = 250\n",
    "everything(X,Xclass,N)"
   ]
  },
  {
   "cell_type": "code",
   "execution_count": 13,
   "metadata": {
    "collapsed": false
   },
   "outputs": [
    {
     "name": "stdout",
     "output_type": "stream",
     "text": [
      "1\n",
      "Dla oryginalnego zbioru: 48.5714285714 %\n",
      "Dla zredukowanych danych: 14.5714285714 %\n",
      "2\n",
      "Dla oryginalnego zbioru: 58.5714285714 %\n",
      "Dla zredukowanych danych: 21.4285714286 %\n",
      "3\n",
      "Dla oryginalnego zbioru: 59.1428571429 %\n",
      "Dla zredukowanych danych: 21.4285714286 %\n",
      "4\n",
      "Dla oryginalnego zbioru: 60.2857142857 %\n",
      "Dla zredukowanych danych: 22.2857142857 %\n",
      "5\n",
      "Dla oryginalnego zbioru: 62.5714285714 %\n",
      "Dla zredukowanych danych: 24.8571428571 %\n",
      "6\n",
      "Dla oryginalnego zbioru: 68.0 %\n",
      "Dla zredukowanych danych: 23.4285714286 %\n",
      "7\n",
      "Dla oryginalnego zbioru: 69.7142857143 %\n",
      "Dla zredukowanych danych: 24.0 %\n",
      "8\n",
      "Dla oryginalnego zbioru: 75.1428571429 %\n",
      "Dla zredukowanych danych: 27.7142857143 %\n",
      "9\n",
      "Dla oryginalnego zbioru: 78.0 %\n",
      "Dla zredukowanych danych: 30.0 %\n"
     ]
    }
   ],
   "source": [
    "N = 100\n",
    "everything(X,Xclass,N)"
   ]
  },
  {
   "cell_type": "code",
   "execution_count": 14,
   "metadata": {
    "collapsed": false
   },
   "outputs": [
    {
     "name": "stdout",
     "output_type": "stream",
     "text": [
      "1\n",
      "Dla oryginalnego zbioru: 49.7142857143 %\n",
      "Dla zredukowanych danych: 10.5714285714 %\n",
      "2\n",
      "Dla oryginalnego zbioru: 58.8571428571 %\n",
      "Dla zredukowanych danych: 15.1428571429 %\n",
      "3\n",
      "Dla oryginalnego zbioru: 57.4285714286 %\n",
      "Dla zredukowanych danych: 14.5714285714 %\n",
      "4\n",
      "Dla oryginalnego zbioru: 60.0 %\n",
      "Dla zredukowanych danych: 16.2857142857 %\n",
      "5\n",
      "Dla oryginalnego zbioru: 64.2857142857 %\n",
      "Dla zredukowanych danych: 16.0 %\n",
      "6\n",
      "Dla oryginalnego zbioru: 66.5714285714 %\n",
      "Dla zredukowanych danych: 15.1428571429 %\n",
      "7\n",
      "Dla oryginalnego zbioru: 72.2857142857 %\n",
      "Dla zredukowanych danych: 17.4285714286 %\n",
      "8\n",
      "Dla oryginalnego zbioru: 77.1428571429 %\n",
      "Dla zredukowanych danych: 19.7142857143 %\n",
      "9\n",
      "Dla oryginalnego zbioru: 76.2857142857 %\n",
      "Dla zredukowanych danych: 20.2857142857 %\n"
     ]
    }
   ],
   "source": [
    "N = 75\n",
    "everything(X,Xclass,N)"
   ]
  },
  {
   "cell_type": "code",
   "execution_count": 15,
   "metadata": {
    "collapsed": false
   },
   "outputs": [
    {
     "name": "stdout",
     "output_type": "stream",
     "text": [
      "1\n",
      "Dla oryginalnego zbioru: 47.4285714286 %\n",
      "Dla zredukowanych danych: 8.57142857143 %\n",
      "2\n",
      "Dla oryginalnego zbioru: 57.4285714286 %\n",
      "Dla zredukowanych danych: 12.2857142857 %\n",
      "3\n",
      "Dla oryginalnego zbioru: 55.7142857143 %\n",
      "Dla zredukowanych danych: 11.4285714286 %\n",
      "4\n",
      "Dla oryginalnego zbioru: 60.0 %\n",
      "Dla zredukowanych danych: 12.2857142857 %\n",
      "5\n",
      "Dla oryginalnego zbioru: 66.2857142857 %\n",
      "Dla zredukowanych danych: 12.0 %\n",
      "6\n",
      "Dla oryginalnego zbioru: 68.5714285714 %\n",
      "Dla zredukowanych danych: 12.5714285714 %\n",
      "7\n",
      "Dla oryginalnego zbioru: 71.1428571429 %\n",
      "Dla zredukowanych danych: 14.0 %\n",
      "8\n",
      "Dla oryginalnego zbioru: 74.5714285714 %\n",
      "Dla zredukowanych danych: 12.8571428571 %\n",
      "9\n",
      "Dla oryginalnego zbioru: 79.4285714286 %\n",
      "Dla zredukowanych danych: 14.5714285714 %\n"
     ]
    }
   ],
   "source": [
    "N = 50\n",
    "everything(X,Xclass,N)"
   ]
  },
  {
   "cell_type": "code",
   "execution_count": 16,
   "metadata": {
    "collapsed": false
   },
   "outputs": [
    {
     "name": "stdout",
     "output_type": "stream",
     "text": [
      "1\n",
      "Dla oryginalnego zbioru: 48.5714285714 %\n",
      "Dla zredukowanych danych: 19.7142857143 %\n",
      "2\n",
      "Dla oryginalnego zbioru: 58.0 %\n",
      "Dla zredukowanych danych: 22.8571428571 %\n",
      "3\n",
      "Dla oryginalnego zbioru: 56.8571428571 %\n",
      "Dla zredukowanych danych: 22.5714285714 %\n",
      "4\n",
      "Dla oryginalnego zbioru: 61.1428571429 %\n",
      "Dla zredukowanych danych: 21.4285714286 %\n",
      "5\n",
      "Dla oryginalnego zbioru: 63.7142857143 %\n",
      "Dla zredukowanych danych: 18.0 %\n",
      "6\n",
      "Dla oryginalnego zbioru: 65.1428571429 %\n",
      "Dla zredukowanych danych: 18.8571428571 %\n",
      "7\n",
      "Dla oryginalnego zbioru: 72.2857142857 %\n",
      "Dla zredukowanych danych: 20.0 %\n",
      "8\n",
      "Dla oryginalnego zbioru: 74.2857142857 %\n",
      "Dla zredukowanych danych: 20.8571428571 %\n",
      "9\n",
      "Dla oryginalnego zbioru: 76.8571428571 %\n",
      "Dla zredukowanych danych: 21.7142857143 %\n"
     ]
    }
   ],
   "source": [
    "N = 25\n",
    "everything(X,Xclass,N)"
   ]
  },
  {
   "cell_type": "code",
   "execution_count": 17,
   "metadata": {
    "collapsed": false
   },
   "outputs": [
    {
     "name": "stdout",
     "output_type": "stream",
     "text": [
      "1\n",
      "Dla oryginalnego zbioru: 47.7142857143 %\n",
      "Dla zredukowanych danych: 53.7142857143 %\n",
      "2\n",
      "Dla oryginalnego zbioru: 55.4285714286 %\n",
      "Dla zredukowanych danych: 57.7142857143 %\n",
      "3\n",
      "Dla oryginalnego zbioru: 58.2857142857 %\n",
      "Dla zredukowanych danych: 55.4285714286 %\n",
      "4\n",
      "Dla oryginalnego zbioru: 61.1428571429 %\n",
      "Dla zredukowanych danych: 58.8571428571 %\n",
      "5\n",
      "Dla oryginalnego zbioru: 64.5714285714 %\n",
      "Dla zredukowanych danych: 62.2857142857 %\n",
      "6\n",
      "Dla oryginalnego zbioru: 66.5714285714 %\n",
      "Dla zredukowanych danych: 58.0 %\n",
      "7\n",
      "Dla oryginalnego zbioru: 70.2857142857 %\n",
      "Dla zredukowanych danych: 58.8571428571 %\n",
      "8\n",
      "Dla oryginalnego zbioru: 74.5714285714 %\n",
      "Dla zredukowanych danych: 59.4285714286 %\n",
      "9\n",
      "Dla oryginalnego zbioru: 76.2857142857 %\n",
      "Dla zredukowanych danych: 59.7142857143 %\n"
     ]
    }
   ],
   "source": [
    "N = 10\n",
    "everything(X,Xclass,N)"
   ]
  },
  {
   "cell_type": "code",
   "execution_count": 18,
   "metadata": {
    "collapsed": false
   },
   "outputs": [
    {
     "name": "stdout",
     "output_type": "stream",
     "text": [
      "1\n",
      "Dla oryginalnego zbioru: 48.2857142857 %\n",
      "Dla zredukowanych danych: 66.8571428571 %\n",
      "2\n",
      "Dla oryginalnego zbioru: 56.8571428571 %\n",
      "Dla zredukowanych danych: 69.7142857143 %\n",
      "3\n",
      "Dla oryginalnego zbioru: 56.8571428571 %\n",
      "Dla zredukowanych danych: 69.7142857143 %\n",
      "4\n",
      "Dla oryginalnego zbioru: 61.1428571429 %\n",
      "Dla zredukowanych danych: 73.1428571429 %\n",
      "5\n",
      "Dla oryginalnego zbioru: 65.7142857143 %\n",
      "Dla zredukowanych danych: 72.0 %\n",
      "6\n",
      "Dla oryginalnego zbioru: 69.4285714286 %\n",
      "Dla zredukowanych danych: 73.7142857143 %\n",
      "7\n",
      "Dla oryginalnego zbioru: 72.2857142857 %\n",
      "Dla zredukowanych danych: 76.2857142857 %\n",
      "8\n",
      "Dla oryginalnego zbioru: 74.8571428571 %\n",
      "Dla zredukowanych danych: 76.2857142857 %\n",
      "9\n",
      "Dla oryginalnego zbioru: 77.7142857143 %\n",
      "Dla zredukowanych danych: 79.7142857143 %\n"
     ]
    }
   ],
   "source": [
    "N = 5\n",
    "everything(X,Xclass,N)"
   ]
  },
  {
   "cell_type": "code",
   "execution_count": 19,
   "metadata": {
    "collapsed": true
   },
   "outputs": [],
   "source": [
    "def everything2(X,Xclass,k):\n",
    "    Y = np.asarray(PCA(X,k))\n",
    "    X_mean = np.mean(X, axis = 0)\n",
    "    X_std = np.std(X,axis = 0)\n",
    "    X_standarized = (X - X_mean)/X_std\n",
    "    x1,x2 = zip(*np.random.permutation(zip(X_standarized,Xclass)))\n",
    "    X1, X1class = np.asarray(x1),np.asarray(x2)\n",
    "    y1,y2 = zip(*np.random.permutation(zip(Y,Xclass)))\n",
    "    Y1, Y1class = np.asarray(y1),np.asarray(y2)\n",
    "    for i in range(1,10):\n",
    "        print i\n",
    "        print \"Dla oryginalnego zbioru:\",crossValidation(X1,X1class,i),\"%\"\n",
    "        print \"Dla zredukowanych danych:\",crossValidation(Y1,Y1class,i),\"%\""
   ]
  },
  {
   "cell_type": "code",
   "execution_count": 20,
   "metadata": {
    "collapsed": false
   },
   "outputs": [
    {
     "name": "stdout",
     "output_type": "stream",
     "text": [
      "1\n",
      "Dla oryginalnego zbioru: 50.0 %\n",
      "Dla zredukowanych danych: 9.71428571429 %\n",
      "2\n",
      "Dla oryginalnego zbioru: 56.8571428571 %\n",
      "Dla zredukowanych danych: 12.2857142857 %\n",
      "3\n",
      "Dla oryginalnego zbioru: 52.8571428571 %\n",
      "Dla zredukowanych danych: 12.5714285714 %\n",
      "4\n",
      "Dla oryginalnego zbioru: 59.1428571429 %\n",
      "Dla zredukowanych danych: 11.1428571429 %\n",
      "5\n",
      "Dla oryginalnego zbioru: 61.7142857143 %\n",
      "Dla zredukowanych danych: 12.5714285714 %\n",
      "6\n",
      "Dla oryginalnego zbioru: 63.1428571429 %\n",
      "Dla zredukowanych danych: 14.5714285714 %\n",
      "7\n",
      "Dla oryginalnego zbioru: 67.4285714286 %\n",
      "Dla zredukowanych danych: 14.5714285714 %\n",
      "8\n",
      "Dla oryginalnego zbioru: 71.7142857143 %\n",
      "Dla zredukowanych danych: 15.7142857143 %\n",
      "9\n",
      "Dla oryginalnego zbioru: 71.4285714286 %\n",
      "Dla zredukowanych danych: 17.1428571429 %\n"
     ]
    }
   ],
   "source": [
    "N = 68\n",
    "everything2(X,Xclass,N)\n",
    "#standaryzacja specjalnie nie pomogla"
   ]
  },
  {
   "cell_type": "code",
   "execution_count": null,
   "metadata": {
    "collapsed": true
   },
   "outputs": [],
   "source": []
  }
 ],
 "metadata": {
  "anaconda-cloud": {},
  "kernelspec": {
   "display_name": "Python [default]",
   "language": "python",
   "name": "python2"
  },
  "language_info": {
   "codemirror_mode": {
    "name": "ipython",
    "version": 2
   },
   "file_extension": ".py",
   "mimetype": "text/x-python",
   "name": "python",
   "nbconvert_exporter": "python",
   "pygments_lexer": "ipython2",
   "version": "2.7.12"
  }
 },
 "nbformat": 4,
 "nbformat_minor": 1
}
